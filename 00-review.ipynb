{
 "cells": [
  {
   "attachments": {},
   "cell_type": "markdown",
   "metadata": {},
   "source": [
    "# Importar las librerias"
   ]
  },
  {
   "cell_type": "code",
   "execution_count": null,
   "metadata": {},
   "outputs": [],
   "source": [
    "import pandas as pd\n",
    "import numpy as np\n",
    "import os \n",
    "import xml.etree.ElementTree as ET\n",
    "from datetime import datetime\n",
    "import seaborn as sns\n",
    "import matplotlib.pyplot as plt"
   ]
  },
  {
   "attachments": {},
   "cell_type": "markdown",
   "metadata": {},
   "source": [
    "# Para ver todas las columnas de nuestro df"
   ]
  },
  {
   "cell_type": "code",
   "execution_count": null,
   "metadata": {},
   "outputs": [],
   "source": [
    "pd.options.display.max_columns = None"
   ]
  },
  {
   "attachments": {},
   "cell_type": "markdown",
   "metadata": {},
   "source": [
    "# 1. Apertura de archivos no automatizada"
   ]
  },
  {
   "attachments": {},
   "cell_type": "markdown",
   "metadata": {},
   "source": [
    "# kaggle"
   ]
  },
  {
   "cell_type": "code",
   "execution_count": null,
   "metadata": {},
   "outputs": [],
   "source": [
    "df_csv = pd.read_csv(\"01-data_remaning_kaggle.csv\")\n",
    "df_csv.head(2)"
   ]
  },
  {
   "attachments": {},
   "cell_type": "markdown",
   "metadata": {},
   "source": [
    "# db"
   ]
  },
  {
   "cell_type": "code",
   "execution_count": null,
   "metadata": {},
   "outputs": [],
   "source": [
    "df_exported_data1= pd.read_csv(\"01-exported_db_data.csv\")\n",
    "df_exported_data1.head(2)"
   ]
  },
  {
   "attachments": {},
   "cell_type": "markdown",
   "metadata": {},
   "source": [
    "# xml "
   ]
  },
  {
   "cell_type": "code",
   "execution_count": null,
   "metadata": {},
   "outputs": [],
   "source": [
    "data_xml = pd.read_xml(\"01-data_xml_clean.xml\")\n",
    "data_xml.head()"
   ]
  },
  {
   "attachments": {},
   "cell_type": "markdown",
   "metadata": {},
   "source": [
    "# txt "
   ]
  },
  {
   "cell_type": "code",
   "execution_count": null,
   "metadata": {},
   "outputs": [],
   "source": [
    "df_exported_txt= pd.read_csv(\"01-data_txt_clean.txt\", sep= ';')\n",
    "df_exported_txt.head(2)"
   ]
  },
  {
   "attachments": {},
   "cell_type": "markdown",
   "metadata": {},
   "source": [
    "# 2. Conversion a csv de todos NO automatica"
   ]
  },
  {
   "attachments": {},
   "cell_type": "markdown",
   "metadata": {},
   "source": [
    "# kaggle"
   ]
  },
  {
   "cell_type": "code",
   "execution_count": null,
   "metadata": {},
   "outputs": [],
   "source": [
    "df_csv.to_csv(\"02-data_remaning_kaggle.csv\")"
   ]
  },
  {
   "attachments": {},
   "cell_type": "markdown",
   "metadata": {},
   "source": [
    "# db"
   ]
  },
  {
   "cell_type": "code",
   "execution_count": null,
   "metadata": {},
   "outputs": [],
   "source": [
    "df_exported_data1.to_csv(\"02-exported_db_data.csv\")"
   ]
  },
  {
   "attachments": {},
   "cell_type": "markdown",
   "metadata": {},
   "source": [
    "# xml"
   ]
  },
  {
   "cell_type": "code",
   "execution_count": null,
   "metadata": {},
   "outputs": [],
   "source": [
    "data_xml.to_csv(\"02-data_xml_clean.csv\")"
   ]
  },
  {
   "attachments": {},
   "cell_type": "markdown",
   "metadata": {},
   "source": [
    "# txt"
   ]
  },
  {
   "cell_type": "code",
   "execution_count": null,
   "metadata": {},
   "outputs": [],
   "source": [
    "df_exported_txt.to_csv(\"02-data_txt_clean.csv\")"
   ]
  },
  {
   "attachments": {},
   "cell_type": "markdown",
   "metadata": {},
   "source": [
    "# 3. Nos falta hacer  unas funciones para abrir los archivos y guardar como csv"
   ]
  },
  {
   "attachments": {},
   "cell_type": "markdown",
   "metadata": {},
   "source": [
    "# 4. Unir los archivos antes de eliminar nada"
   ]
  },
  {
   "cell_type": "code",
   "execution_count": null,
   "metadata": {},
   "outputs": [],
   "source": [
    "# pendiente de hacer el codigo "
   ]
  },
  {
   "attachments": {},
   "cell_type": "markdown",
   "metadata": {},
   "source": [
    "# 5. Unificar nombres de las columnas, mayusculas, minusculas y espacios para poder trabajar con ellas"
   ]
  },
  {
   "cell_type": "code",
   "execution_count": null,
   "metadata": {},
   "outputs": [],
   "source": []
  },
  {
   "attachments": {},
   "cell_type": "markdown",
   "metadata": {},
   "source": [
    "# 6. Eliminar columnas que no necesitamos "
   ]
  },
  {
   "cell_type": "code",
   "execution_count": null,
   "metadata": {},
   "outputs": [],
   "source": []
  },
  {
   "attachments": {},
   "cell_type": "markdown",
   "metadata": {},
   "source": [
    "# Nombres columnas de todos los archivos"
   ]
  },
  {
   "attachments": {},
   "cell_type": "markdown",
   "metadata": {},
   "source": [
    "# txt (E) == ( Eliminar)"
   ]
  },
  {
   "attachments": {},
   "cell_type": "markdown",
   "metadata": {},
   "source": [
    "- q1 : \tEdad: Numero de años: Lista de valores\n",
    "- q2: \tGenero: 5 Opciones\n",
    "- q3: \tPaís de residencia : lista\n",
    "- q4: \tNivel de educación: 7 opciones\n",
    "- q5: \tOcupación actual : 14 opciones\n",
    "- q6: \tAños de experiencia codeando o programando : 7 opciones\n",
    "- q7 : \tLenguajes de programación usados: 13 opciones\n",
    "- q8: \tLenguaje que recomendarías : 13 opciones\n",
    "- q9: \tAmbientes de desarrollo integrados: 13 opciones\n",
    "- q10:\tNotebook que utilizas normalmente: 17 opciones\n",
    "- q11:\tTipo de plataforma: 6 opciones\n",
    "- (E)q12: \tTipo de hardware: 6 opciones\n",
    "- (E)q13: \tTPU : 5 opciones\n",
    "- q14: \tHerramientas de visualización de datos : 12 opciones\n",
    "- q15: \tExperiencia en el uso de Machine Learning : 9 opciones\n",
    "- q16: \tUso regular de Machine Frameworks: 18 opciones\n",
    "- q17: \tAlgoritmos de Machine learning utilizas : 12 opciones\n",
    "- q18: \tCategorías de visualización: 7 opciones\n",
    "- q19: \tMétodos  procesamiento de lenguaje natural: 6 opciones\n",
    "- q20: \tIndustria en la que estas trabajando : 17 opciones\n",
    "- q21:\tTamaño e la compañía : 5 opciones\n",
    "- q22: \tCuantas personas son analistas de datos en la compañía : 7 opciones\n",
    "- q23: \tUtilizan métodos de machine learning en tu empresa y cuales : 6 opciones.\n",
    "- (E)a24: \tActividad que son importantes para tu trabajo : 8 opciones\n",
    "- q25 : \tCuanto ganas anualmente en dólares: Lista de valores\n",
    "- q26:Cuanto es tu presupuesto de Machine Learning y Cloud computing en los \túltimos 5 años : en dorales: 6 opciones\n",
    "- q27-A:Que plataformas de cloud computing utilizas regularmente: 12 opciones.\n",
    "- (E)q28:Que plataforma de cloud tienes la mejor experiencia para desarrollar : 13 opciones\n",
    "- (E)q29-A : Utilizas normalmente algunos de los productos de cloud computing: 5 opciones\n",
    "- (E)q30-A: Usas normalmente de alguna data storage: 8 opciones\n",
    "- (E)q31-A: Utilizas regularmente alguno de los producto de managed machine learning\n",
    "- (E)q32-A: Producto big data que utilizas regularmente.: 21 opciones\n",
    "- q33 :\tProducto de big data que utilizas regularmente solo las personas que respondieron mas de una opcion en la q32-a: 21 opciones\n",
    "- (E)q34-a: Uso regular de herramientas de inteligencia de negocios: 17 opciones\n",
    "- q35:\tCuales son las que más, Relacionada con la q34-a si tienes mas de un opción en la 34 : 17 opciones.\n",
    "- (E)q36-a : Utiliza alguna herramienta de automatización de machine learning : 8 opciones\n",
    "- (E)q37-a: Cuales herramientas: Relacionada con la 36-a solo las que responden SI: 8 opciones\n",
    "- (E)q38-a: Tiene herramientas para controlar los experimentos de manage machine learning : 12 opciones\n",
    "- q39 : Donde compartes tus análisis de datos y aplicaciones de machine learning : 10 opciones\n",
    "- q40:En que plataformas iniciaste tu formación de análisis de datos: 12 opciones.\n",
    "- q41:Cual es la herramienta principal que utilizas en el trabajo o escuela para procesas datos: 6 opciones\n",
    "- q42: Cual es tu red social favorita relacionada con el data science : 12 opciones\n",
    "\n",
    "# (E) Preguntas extras : Para personas no profesionales\n",
    "\n",
    "- q27-b: Cual de las siguiente de cloud computing esperas familiarizarte mas en los próximos dos años : 12 opciones\n",
    "- q29-b: En los próximos dos años, deseas familiarizarte más con alguna de las siguientes opciones: 5 opciones\n",
    "- q30-b : En los próximos 2 años, con cuales de los siguientes data storage products deseas familiarizarte: 8 opciones\n",
    "- q31-b : En los próximos 2 años, Con cuales de los siguientes productos de managed machine learning quieres familiarizarte : 10 opciones\n",
    "- q32-b : En los próximos 2 años, Con cuales de los siguientes productos de big data products quieres familiarizarte : 21 opciones\n",
    "- q34-b : En los próximos 2 años, Con cuales de los siguientes productos de tools bussiness intelligent quieres familiarizarte :  17 opciones\n",
    "- q36-b : En los próximos 2 años, Con cuales de los siguientes productos de automated machine learning quieres familiarizarte : 8 opciones\n",
    "- q37-b : En los próximos 2 años, Con cuales de los siguientes productos de automated machine learning tools quieres familiarizarte : 8 opciones\n",
    "- q38-b:En los próximos 2 años, Con cuales de los siguientes productos de tools machine learning experiments quieres familiarizarte : 12 opciones\n"
   ]
  },
  {
   "attachments": {},
   "cell_type": "markdown",
   "metadata": {},
   "source": [
    "# db"
   ]
  },
  {
   "attachments": {},
   "cell_type": "markdown",
   "metadata": {},
   "source": [
    "- 10_Part_1: kaggle_n\n",
    "- Q10_Part_2: colab_n\n",
    "- Q10_Part_3: azure_n\n",
    "- Q10_Part_4: paper_space_gradient\n",
    "- Q10_Part_5: binder_jupyter_hub\n",
    "- Q10_Part_6: code_ocean\n",
    "- Q10_Part_7: ibm_ws\n",
    "- Q10_Part_8: amazon_ssn\n",
    "- Q10_Part_9: amazonemr_n\n",
    "- Q10_Part_10: googlec_n\n",
    "- Q10_Part_11: googlec_n\n",
    "- Q10_Part_12: databrickc_n\n",
    "- Q10_Part_13: zeppelin_zn\n",
    "- Q10_Part_14: deepnote_n\n",
    "- Q10_Part_15: obs_n\n",
    "- Q10_Part_16: none\n",
    "- Q10_Part_17: other"
   ]
  },
  {
   "attachments": {},
   "cell_type": "markdown",
   "metadata": {},
   "source": [
    "# xml"
   ]
  },
  {
   "attachments": {},
   "cell_type": "markdown",
   "metadata": {},
   "source": [
    "(E)level_0\t\n",
    "index\t\n",
    "(E)time\t\n",
    "age\t\n",
    "gender\n"
   ]
  },
  {
   "attachments": {},
   "cell_type": "markdown",
   "metadata": {},
   "source": [
    "# kaggle"
   ]
  },
  {
   "attachments": {},
   "cell_type": "markdown",
   "metadata": {},
   "source": [
    "-  (E)Unnamed: 0\t\n",
    "- index\t\n",
    "- Q18_Part_1\t\n",
    "- Q18_Part_2\t\n",
    "- Q18_Part_3\t\n",
    "- Q18_Part_4\t\n",
    "- Q18_Part_5\t\n",
    "- Q18_Part_6\t\n",
    "- Q18_OTHER\n",
    "\n",
    "-  (E)19_Part_1\t\n",
    "-  (E)Q19_Part_2\n",
    "-  (E)Q19_Part_3\t\n",
    "-  (E)Q19_Part_4\t\n",
    "-  (E)Q19_Part_5\t\n",
    "-  (E)Q19_OTHER\t\n",
    "\n",
    "- Q27_A_Part_1\t\n",
    "- Q27_A_Part_2\t\n",
    "- Q27_A_Part_3\t\n",
    "- Q27_A_Part_4\t\n",
    "- Q27_A_Part_5\t\n",
    "- Q27_A_Part_6\t\n",
    "- Q27_A_Part_7\t\n",
    "- Q27_A_Part_8\t\n",
    "- Q27_A_Part_9\t\n",
    "- Q27_A_Part_10\t\n",
    "- Q27_A_Part_11\t\n",
    "- Q27_A_OTHER\n",
    "\n",
    "-  (E)Q28\n",
    "\n",
    "-  (E)Q29_A_Part_1\t\n",
    "-  (E)Q29_A_Part_2\t\n",
    "-  (E)Q29_A_Part_3\t\n",
    "-  (E)Q29_A_Part_4\t\n",
    "-  (E)Q29_A_OTHER\n",
    "\n",
    "-  (E)Q30_A_Part_1\t\n",
    "-  (E)Q30_A_Part_2\t\n",
    "-  (E)Q30_A_Part_3\t\n",
    "-  (E)Q30_A_Part_4\t\n",
    "-  (E)Q30_A_Part_5\t\n",
    "-  (E)Q30_A_Part_6\t\n",
    "-  (E)Q30_A_Part_7\t\n",
    "-  (E)Q30_A_OTHER\t\n",
    "\n",
    "-  (E)Q31_A_Part_1\t\n",
    "-  (E)Q31_A_Part_2\t\n",
    "-  (E)Q31_A_Part_3\t\n",
    "-  (E)Q31_A_Part_4\t\n",
    "-  (E)Q31_A_Part_5\t\n",
    "-  (E)Q31_A_Part_6\t\n",
    "-  (E)Q31_A_Part_7\t\n",
    "-  (E)Q31_A_Part_8\t\n",
    "-  (E)Q31_A_Part_9\t\n",
    "-  (E)Q31_A_OTHER\n",
    "\n",
    "-  (E)Q36_A_Part_1\t\n",
    "-  (E)Q36_A_Part_2\t\n",
    "-  (E)Q36_A_Part_3\t\n",
    "-  (E)Q36_A_Part_4\t\n",
    "-  (E)Q36_A_Part_5\t\n",
    "-  (E)Q36_A_Part_6\t\n",
    "-  (E)Q36_A_Part_7\t\n",
    "-  (E)Q36_A_OTHER\n",
    "\n",
    "-  (E)Q37_A_Part_1\t\n",
    "-  (E)Q37_A_Part_2\t\n",
    "-  (E)Q37_A_Part_3\t\n",
    "-  (E)Q37_A_Part_4\t\n",
    "-  (E)Q37_A_Part_5\t\n",
    "-  (E)Q37_A_Part_6\t\n",
    "-  (E)Q37_A_Part_7\t\n",
    "-  (E)Q37_A_OTHER\n",
    "\n",
    "-  (E)Q38_A_Part_1\t\n",
    "-  (E)Q38_A_Part_2\t\n",
    "-  (E)Q38_A_Part_3\t\n",
    "-  (E)Q38_A_Part_4\t\n",
    "-  (E)Q38_A_Part_5\t\n",
    "-  (E)Q38_A_Part_6\t\n",
    "-  (E)Q38_A_Part_7\t\n",
    "-  (E)Q38_A_Part_8\t\n",
    "-  (E)Q38_A_Part_9\t\n",
    "-  (E)Q38_A_Part_10\t\n",
    "-  (E)Q38_A_Part_11\t\n",
    "-  (E)Q38_A_OTHER\t\n",
    "\n",
    "- Q39_Part_1\t\n",
    "- Q39_Part_2\t\n",
    "- Q39_Part_3\t\n",
    "- Q39_Part_4\t\n",
    "- Q39_Part_5\t\n",
    "- Q39_Part_6\t\n",
    "- Q39_Part_7\t\n",
    "- Q39_Part_8\t\n",
    "- Q39_Part_9\t\n",
    "- Q39_OTHER\t\n",
    "\n",
    "- Q40_Part_1\t\n",
    "- Q40_Part_2\t\n",
    "- Q40_Part_3\t\n",
    "- Q40_Part_4\t\n",
    "- Q40_Part_5\t\n",
    "- Q40_Part_6\t\n",
    "- Q40_Part_7\t\n",
    "- Q40_Part_8\t\n",
    "- Q40_Part_9\t\n",
    "- Q40_Part_10\t\n",
    "- Q40_Part_11\t\n",
    "- Q40_OTHER\t\n",
    "\n",
    "- Q42_Part_1\t\n",
    "- Q42_Part_2\t\n",
    "- Q42_Part_3\t\n",
    "- Q42_Part_4\t\n",
    "- Q42_Part_5\t\n",
    "- Q42_Part_6\t\n",
    "- Q42_Part_7\t\n",
    "- Q42_Part_8\t\n",
    "- Q42_Part_9\t\n",
    "- Q42_Part_10\t\n",
    "- Q42_Part_11\t\n",
    "- Q42_OTHER\t\n",
    "# ELIMINAR (E) todas las Bs ( no profesionales)\n",
    "- Q27_B_Part_1\t\n",
    "- Q27_B_Part_2\t\n",
    "- Q27_B_Part_3\t\n",
    "- Q27_B_Part_4\t\n",
    "- Q27_B_Part_5\t\n",
    "- Q27_B_Part_6\t\n",
    "- Q27_B_Part_7\t\n",
    "- Q27_B_Part_8\t\n",
    "- Q27_B_Part_9\t\n",
    "- Q27_B_Part_10\t\n",
    "- Q27_B_Part_11\t\n",
    "- Q27_B_OTHER\n",
    "\n",
    "- Q29_B_Part_1\t\n",
    "- Q29_B_Part_2\t\n",
    "- Q29_B_Part_3\t\n",
    "- Q29_B_Part_4\t\n",
    "- Q29_B_OTHER\n",
    "\n",
    "- Q30_B_Part_1\t\n",
    "- Q30_B_Part_2\t\n",
    "- Q30_B_Part_3\t\n",
    "- Q30_B_Part_4\t\n",
    "- Q30_B_Part_5\t\n",
    "- Q30_B_Part_6\t\n",
    "- Q30_B_Part_7\t\n",
    "- Q30_B_OTHER\t\n",
    "\n",
    "- Q31_B_Part_1\t\n",
    "- Q31_B_Part_2\t\n",
    "- Q31_B_Part_3\t\n",
    "- Q31_B_Part_4\t\n",
    "- Q31_B_Part_5\t\n",
    "- Q31_B_Part_6\t\n",
    "- Q31_B_Part_7\t\n",
    "- Q31_B_Part_8\t\n",
    "- Q31_B_Part_9\t\n",
    "- Q31_B_OTHER\n",
    "\n",
    "- Q32_B_Part_1\t\n",
    "- Q32_B_Part_2\t\n",
    "- Q32_B_Part_3\t\n",
    "- Q32_B_Part_4\t\n",
    "- Q32_B_Part_5\t\n",
    "- Q32_B_Part_6\t\n",
    "- Q32_B_Part_7\t\n",
    "- Q32_B_Part_8\t\n",
    "- Q32_B_Part_9\t\n",
    "- Q32_B_Part_10\t\n",
    "- Q32_B_Part_11\t\n",
    "- Q32_B_Part_12\t\n",
    "- Q32_B_Part_13\t\n",
    "- Q32_B_Part_14\t\n",
    "- Q32_B_Part_15\t\n",
    "- Q32_B_Part_16\t\n",
    "- Q32_B_Part_17\t\n",
    "- Q32_B_Part_18\t\n",
    "- Q32_B_Part_19\t\n",
    "- Q32_B_Part_20\t\n",
    "- Q32_B_OTHER\n",
    "\n",
    "- Q34_B_Part_1\t\n",
    "- Q34_B_Part_2\t\n",
    "- Q34_B_Part_3\t\n",
    "- Q34_B_Part_4\t\n",
    "- Q34_B_Part_5\t\n",
    "- Q34_B_Part_6\t\n",
    "- Q34_B_Part_7\t\n",
    "- Q34_B_Part_8\t\n",
    "- Q34_B_Part_9\t\n",
    "- Q34_B_Part_10\t\n",
    "- Q34_B_Part_11\t\n",
    "- Q34_B_Part_12\t\n",
    "- Q34_B_Part_13\t\n",
    "- Q34_B_Part_14\t\n",
    "- Q34_B_Part_15\t\n",
    "- Q34_B_Part_16\t\n",
    "- Q34_B_OTHER\n",
    "\n",
    "- Q36_B_Part_1\t\n",
    "- Q36_B_Part_2\t\n",
    "- Q36_B_Part_3\t\n",
    "- Q36_B_Part_4\t\n",
    "- Q36_B_Part_5\t\n",
    "- Q36_B_Part_6\t\n",
    "- Q36_B_Part_7\t\n",
    "- Q36_B_OTHER\n",
    "\n",
    "- Q37_B_Part_1\t\n",
    "- Q37_B_Part_2\t\n",
    "- Q37_B_Part_3\t\n",
    "- Q37_B_Part_4\t\n",
    "- Q37_B_Part_5\t\n",
    "- Q37_B_Part_6\t\n",
    "- Q37_B_Part_7\t\n",
    "- Q37_B_OTHER\n",
    "\n",
    "- Q38_B_Part_1\t\n",
    "- Q38_B_Part_2\t\n",
    "- Q38_B_Part_3\t\n",
    "- Q38_B_Part_4\t\n",
    "- Q38_B_Part_5\t\n",
    "- Q38_B_Part_6\t\n",
    "- Q38_B_Part_7\t\n",
    "- Q38_B_Part_8\t\n",
    "- Q38_B_Part_9\t\n",
    "- Q38_B_Part_10\t\n",
    "- Q38_B_Part_11\t\n",
    "- Q38_B_OTHER"
   ]
  },
  {
   "attachments": {},
   "cell_type": "markdown",
   "metadata": {},
   "source": [
    "# obtenemos el archivo definitivo, lo ordenamos y lo renombramos las columnas"
   ]
  },
  {
   "attachments": {},
   "cell_type": "markdown",
   "metadata": {},
   "source": [
    "# Analisis expliratorio de los datos AUTOMATIZADO"
   ]
  },
  {
   "attachments": {},
   "cell_type": "markdown",
   "metadata": {},
   "source": [
    "# pendiente crear dos  funciones para: "
   ]
  },
  {
   "attachments": {},
   "cell_type": "markdown",
   "metadata": {},
   "source": [
    "- *descricion general* : ifo, describe, isnull().sum(), dtipo, shape, duplicated"
   ]
  },
  {
   "attachments": {},
   "cell_type": "markdown",
   "metadata": {},
   "source": [
    "- *descripcion por columnas* : nombre columnas columna(.columns), value_counts,unique, "
   ]
  },
  {
   "attachments": {},
   "cell_type": "markdown",
   "metadata": {},
   "source": [
    "# Preguntas "
   ]
  },
  {
   "attachments": {},
   "cell_type": "markdown",
   "metadata": {},
   "source": [
    "Desagrupar : Dividir las columnas que estan juntaslas opciones, con la funcion que ya tenemos"
   ]
  },
  {
   "attachments": {},
   "cell_type": "markdown",
   "metadata": {},
   "source": [
    "Agrupar : Unir las partes que nos hagan falta para responder a las preguntas, PENDIENTE DE VER que son para las preguntas que tienene las respeustas en partes."
   ]
  },
  {
   "attachments": {},
   "cell_type": "markdown",
   "metadata": {},
   "source": [
    "# Graficos"
   ]
  },
  {
   "attachments": {},
   "cell_type": "markdown",
   "metadata": {},
   "source": [
    "# Análisis de los resultados"
   ]
  },
  {
   "attachments": {},
   "cell_type": "markdown",
   "metadata": {},
   "source": [
    "Perfil de analista"
   ]
  },
  {
   "attachments": {},
   "cell_type": "markdown",
   "metadata": {},
   "source": [
    "Industria donde trabajan"
   ]
  },
  {
   "attachments": {},
   "cell_type": "markdown",
   "metadata": {},
   "source": [
    "Herramientas que utilizan"
   ]
  }
 ],
 "metadata": {
  "kernelspec": {
   "display_name": "base",
   "language": "python",
   "name": "python3"
  },
  "language_info": {
   "name": "python",
   "version": "3.9.7 (default, Sep 16 2021, 13:09:58) \n[GCC 7.5.0]"
  },
  "orig_nbformat": 4,
  "vscode": {
   "interpreter": {
    "hash": "f8e782a3a92a384869fb83a8974812ed4d4d199ed3e8c8704ecd8a7536d7fad4"
   }
  }
 },
 "nbformat": 4,
 "nbformat_minor": 2
}
