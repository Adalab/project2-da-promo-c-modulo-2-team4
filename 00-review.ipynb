{
 "cells": [
  {
   "attachments": {},
   "cell_type": "markdown",
   "metadata": {},
   "source": [
    "# Importar las librerias"
   ]
  },
  {
   "cell_type": "code",
   "execution_count": null,
   "metadata": {},
   "outputs": [],
   "source": [
    "import pandas as pd\n",
    "import numpy as np\n",
    "import os \n",
    "import xml.etree.ElementTree as ET\n",
    "from datetime import datetime\n",
    "import seaborn as sns\n",
    "import matplotlib.pyplot as plt\n",
    "import re"
   ]
  },
  {
   "attachments": {},
   "cell_type": "markdown",
   "metadata": {},
   "source": [
    "# Para ver todas las columnas de nuestro df"
   ]
  },
  {
   "cell_type": "code",
   "execution_count": null,
   "metadata": {},
   "outputs": [],
   "source": [
    "pd.options.display.max_columns = None"
   ]
  },
  {
   "attachments": {},
   "cell_type": "markdown",
   "metadata": {},
   "source": [
    "# 1. Apertura de archivos no automatizada"
   ]
  },
  {
   "attachments": {},
   "cell_type": "markdown",
   "metadata": {},
   "source": [
    "# kaggle  == df_csv (qpartes)"
   ]
  },
  {
   "cell_type": "code",
   "execution_count": null,
   "metadata": {},
   "outputs": [],
   "source": [
    "df_csv = pd.read_csv(\"01-data_remaning_kaggle.csv\", index_col=0)\n",
    "df_csv.head(2)"
   ]
  },
  {
   "attachments": {},
   "cell_type": "markdown",
   "metadata": {},
   "source": [
    "# sin index_col para que tengan indice"
   ]
  },
  {
   "attachments": {},
   "cell_type": "markdown",
   "metadata": {},
   "source": [
    "# db == df_db ( Q10)"
   ]
  },
  {
   "cell_type": "code",
   "execution_count": null,
   "metadata": {},
   "outputs": [],
   "source": [
    "df_db= pd.read_csv(\"01-exported_db_data.csv\" )\n",
    "df_db.head(2)"
   ]
  },
  {
   "attachments": {},
   "cell_type": "markdown",
   "metadata": {},
   "source": [
    "# xml  == df_xml (age,gender)"
   ]
  },
  {
   "cell_type": "code",
   "execution_count": null,
   "metadata": {},
   "outputs": [],
   "source": [
    "df_xml = pd.read_xml(\"01-data_xml_clean.xml\")\n",
    "df_xml.head()"
   ]
  },
  {
   "attachments": {},
   "cell_type": "markdown",
   "metadata": {},
   "source": [
    "# txt  == df_txt (resto de qs)"
   ]
  },
  {
   "cell_type": "code",
   "execution_count": null,
   "metadata": {},
   "outputs": [],
   "source": [
    "df_txt= pd.read_csv(\"01-data_txt_clean.txt\", sep= ';')\n",
    "df_txt.head(2)"
   ]
  },
  {
   "attachments": {},
   "cell_type": "markdown",
   "metadata": {},
   "source": [
    "# 2. Conversion a csv de todos NO automatica"
   ]
  },
  {
   "attachments": {},
   "cell_type": "markdown",
   "metadata": {},
   "source": [
    "# kaggle"
   ]
  },
  {
   "cell_type": "code",
   "execution_count": null,
   "metadata": {},
   "outputs": [],
   "source": [
    "df_csv.to_csv(\"02-data_remaning_kaggle.csv\")"
   ]
  },
  {
   "attachments": {},
   "cell_type": "markdown",
   "metadata": {},
   "source": [
    "# db"
   ]
  },
  {
   "cell_type": "code",
   "execution_count": null,
   "metadata": {},
   "outputs": [],
   "source": [
    "df_db.to_csv(\"02-exported_db_data.csv\")"
   ]
  },
  {
   "attachments": {},
   "cell_type": "markdown",
   "metadata": {},
   "source": [
    "# xml"
   ]
  },
  {
   "cell_type": "code",
   "execution_count": null,
   "metadata": {},
   "outputs": [],
   "source": [
    "df_xml.to_csv(\"02-data_xml_clean.csv\")"
   ]
  },
  {
   "attachments": {},
   "cell_type": "markdown",
   "metadata": {},
   "source": [
    "# txt"
   ]
  },
  {
   "cell_type": "code",
   "execution_count": null,
   "metadata": {},
   "outputs": [],
   "source": [
    "df_txt.to_csv(\"02-data_txt_clean.csv\")"
   ]
  },
  {
   "attachments": {},
   "cell_type": "markdown",
   "metadata": {},
   "source": [
    "# 3. Nos falta hacer  unas funciones para abrir los archivos y guardar como csv"
   ]
  },
  {
   "cell_type": "code",
   "execution_count": null,
   "metadata": {},
   "outputs": [],
   "source": []
  },
  {
   "attachments": {},
   "cell_type": "markdown",
   "metadata": {},
   "source": [
    "# 4. Unir los archivos antes de eliminar nada"
   ]
  },
  {
   "cell_type": "code",
   "execution_count": null,
   "metadata": {},
   "outputs": [],
   "source": [
    "def union(df_txt,df_xml,df_db,df_csv):#db,kagle, txt. xml\n",
    "    df_txt.set_index(\"index\", inplace =True)\n",
    "    df_xml.set_index(\"index\", inplace =True)\n",
    "    df_db.set_index(\"index\", inplace =True)\n",
    "    df_csv.set_index(\"index\", inplace =True)\n",
    "\n",
    "    u_1= df_csv.join(df_db, on = \"index\")#txt + xml gender \n",
    "    u_2=u_1.join(df_txt, on = \"index\")#db Q10\n",
    "    u_fin=u_2.join(df_xml, on = \"index\")#kaggle Q18\n",
    "    return u_fin"
   ]
  },
  {
   "cell_type": "code",
   "execution_count": null,
   "metadata": {},
   "outputs": [],
   "source": [
    "df = union(df_db,df_csv,df_txt,df_xml)"
   ]
  },
  {
   "cell_type": "code",
   "execution_count": null,
   "metadata": {},
   "outputs": [],
   "source": [
    "#guardarlo en un archivo\n",
    "df.to_csv(\"data/05-data_union.csv\")"
   ]
  },
  {
   "attachments": {},
   "cell_type": "markdown",
   "metadata": {},
   "source": [
    "# 5. Unificar nombres de las columnas, mayusculas, minusculas y espacios para poder trabajar con ellas ( a lo mejor esta tenia que ser antes de unirlos para que salga bien el merge/join/concat)"
   ]
  },
  {
   "cell_type": "code",
   "execution_count": null,
   "metadata": {},
   "outputs": [],
   "source": [
    "# Se trabaja sobre el documento unido\n",
    "df_unido = pd.read_csv(\"data/05-data_union.csv\", index_col=0)\n",
    "df_unido.head(2)"
   ]
  },
  {
   "attachments": {},
   "cell_type": "markdown",
   "metadata": {},
   "source": [
    "##### Función para unificar los nombres de las columnas, recibe como parámetro el dataframe sobre el que queremos aplicar la unificación."
   ]
  },
  {
   "cell_type": "code",
   "execution_count": null,
   "metadata": {},
   "outputs": [],
   "source": [
    "# Función para unificar los nombres de las columnas\n",
    "# recibe como parámetro el dataframe sobre el que queremos aplicar la unificación.\n",
    "def unificar_col (df): \n",
    "    lista_columnas = {col: col.strip().replace(\" \", \"_\").lower() for col in df.columns}\n",
    "    return df.rename(columns=lista_columnas, inplace=True)"
   ]
  },
  {
   "cell_type": "code",
   "execution_count": null,
   "metadata": {},
   "outputs": [],
   "source": [
    "unificar_col(df_unido)"
   ]
  },
  {
   "cell_type": "code",
   "execution_count": null,
   "metadata": {},
   "outputs": [],
   "source": [
    "df_unido.head(2)"
   ]
  },
  {
   "cell_type": "code",
   "execution_count": null,
   "metadata": {},
   "outputs": [],
   "source": [
    "df_unido.shape"
   ]
  },
  {
   "attachments": {},
   "cell_type": "markdown",
   "metadata": {},
   "source": [
    "# 6. Eliminar columnas que no necesitamos "
   ]
  },
  {
   "attachments": {},
   "cell_type": "markdown",
   "metadata": {},
   "source": [
    "### 6.1 Identificamos las columnas sobre las que se trabajará y las que se eliminarán"
   ]
  },
  {
   "attachments": {},
   "cell_type": "markdown",
   "metadata": {},
   "source": [
    "### xml (E) == ( Eliminar)\n",
    "\n",
    "- (E)level_0\t\n",
    "- index\t\n",
    "- (E)time\t\n",
    "- age\t\n",
    "- gender\n",
    "\n",
    "### txt (E) == ( Eliminar)\n",
    "\n",
    "- Q1: \tEdad: Numero de años: Lista de valores. No incluída en archivo\n",
    "- Q2: \tGenero: 5 Opciones.No incluída en archivo\n",
    "- Q3: \tPaís de residencia : lista\n",
    "- Q4: \tNivel de educación: 7 opciones\n",
    "- Q5: \tOcupación actual : 14 opciones\n",
    "- Q6: \tAños de experiencia codeando o programando : 7 opciones\n",
    "- Q7: \tLenguajes de programación usados: 13 opciones\n",
    "- Q8: \tLenguaje que recomendarías : 13 opciones\n",
    "- Q9: \tAmbientes de desarrollo integrados: 13 opciones\n",
    "- Q10:\tNotebook que utilizas normalmente: 17 opciones. En archivo db\n",
    "- Q11:\tTipo de plataforma: 6 opciones\n",
    "- (E)Q12: \tTipo de hardware: 6 opciones\n",
    "- (E)Q13: \tTPU : 5 opciones\n",
    "- Q14: \tHerramientas de visualización de datos : 12 opciones\n",
    "- (E)Q15: \tExperiencia en el uso de Machine Learning : 9 opciones\n",
    "- (E)Q16: \tUso regular de Machine Frameworks: 18 opciones\n",
    "- (E)Q17: \tAlgoritmos de Machine learning utilizas : 12 opciones\n",
    "- Q18: \tCategorías de visualización: 7 opciones. En kaggle\n",
    "- Q19: \tMétodos  procesamiento de lenguaje natural: 6 opciones. En kaggle\n",
    "- Q20: \tIndustria en la que estas trabajando : 17 opciones\n",
    "- Q21:\tTamaño e la compañía : 5 opciones\n",
    "- Q22: \tCuantas personas son analistas de datos en la compañía : 7 opciones\n",
    "- (E) Q23: \tUtilizan métodos de machine learning en tu empresa y cuales : 6 opciones.\n",
    "- (E)Q24: \tActividad que son importantes para tu trabajo : 8 opciones\n",
    "- Q25 : \tCuanto ganas anualmente en dólares: Lista de valores\n",
    "- Q26:Cuanto es tu presupuesto de Machine Learning y Cloud computing en los \túltimos 5 años : en dorales: 6 opciones\n",
    "- Q27-A:Que plataformas de cloud computing utilizas regularmente: 12 opciones. En kaggle\n",
    "- (E)Q28:Que plataforma de cloud tienes la mejor experiencia para desarrollar : 13 opciones. En kaggle\n",
    "- (E)Q29-A : Utilizas normalmente algunos de los productos de cloud computing: 5 opciones. En kaggle\n",
    "- (E)Q30-A: Usas normalmente de alguna data storage: 8 opciones. En kaggle\n",
    "- (E)Q31-A: Utilizas regularmente alguno de los producto de managed machine learning. En kaggle\n",
    "- (E)Q32-A: Producto big data que utilizas regularmente.: 21 opciones\n",
    "- Q33 :\tProducto de big data que utilizas regularmente solo las personas que respondieron mas de una opcion en la q32-a: 21 opciones\n",
    "- (E)Q34-a: Uso regular de herramientas de inteligencia de negocios: 17 opciones\n",
    "- Q35:\tCuales son las que más, Relacionada con la q34-a si tienes mas de un opción en la 34 : 17 opciones.\n",
    "- (E)Q36-a : Utiliza alguna herramienta de automatización de machine learning : 8 opciones. En kaggle\n",
    "- (E)Q37-a: Cuales herramientas: Relacionada con la 36-a solo las que responden SI: 8 opciones. En kaggle\n",
    "- (E)Q38-a: Tiene herramientas para controlar los experimentos de manage machine learning : 12 opciones. En kaggle\n",
    "- Q39 : Donde compartes tus análisis de datos y aplicaciones de machine learning : 10 opciones. En kaggle\n",
    "- Q40:En que plataformas iniciaste tu formación de análisis de datos: 12 opciones. En kaggle\n",
    "- Q41:Cual es la herramienta principal que utilizas en el trabajo o escuela para procesas datos: 6 opciones. En kaggle\n",
    "- Q42: Cual es tu red social favorita relacionada con el data science : 12 opciones. En kaggle\n",
    "\n",
    "#### (E) Preguntas extras : Para personas no \n",
    "\n",
    "- q27-b: Cual de las siguiente de cloud computing esperas familiarizarte mas en los próximos dos años : 12 opciones\n",
    "- q29-b: En los próximos dos años, deseas familiarizarte más con alguna de las siguientes opciones: 5 opciones\n",
    "- q30-b : En los próximos 2 años, con cuales de los siguientes data storage products deseas familiarizarte: 8 opciones\n",
    "- q31-b : En los próximos 2 años, Con cuales de los siguientes productos de managed machine learning quieres familiarizarte : 10 opciones\n",
    "- q32-b : En los próximos 2 años, Con cuales de los siguientes productos de big data products quieres familiarizarte : 21 opciones\n",
    "- q34-b : En los próximos 2 años, Con cuales de los siguientes productos de tools bussiness intelligent quieres familiarizarte :  17 opciones\n",
    "- q36-b : En los próximos 2 años, Con cuales de los siguientes productos de automated machine learning quieres familiarizarte : 8 opciones\n",
    "- q37-b : En los próximos 2 años, Con cuales de los siguientes productos de automated machine learning tools quieres familiarizarte : 8 opciones\n",
    "- q38-b:En los próximos 2 años, Con cuales de los siguientes productos de tools machine learning experiments quieres familiarizarte : 12 opciones\n",
    "\n",
    "### db\n",
    "\n",
    "- Q10_Part_1: kaggle_n\n",
    "- Q10_Part_2: colab_n\n",
    "- Q10_Part_3: azure_n\n",
    "- Q10_Part_4: paper_space_gradient\n",
    "- Q10_Part_5: binder_jupyter_hub\n",
    "- Q10_Part_6: code_ocean\n",
    "- Q10_Part_7: ibm_ws\n",
    "- Q10_Part_8: amazon_ssn\n",
    "- Q10_Part_9: amazonemr_n\n",
    "- Q10_Part_10: googlec_n\n",
    "- Q10_Part_11: googlec_n\n",
    "- Q10_Part_12: databrickc_n\n",
    "- Q10_Part_13: zeppelin_zn\n",
    "- Q10_Part_14: deepnote_n\n",
    "- Q10_Part_15: obs_n\n",
    "- Q10_Part_16: none\n",
    "- Q10_Part_17: other\n",
    "\n",
    "\n",
    "# kaggle\n",
    "\n",
    "-  (E)Unnamed: 0\t\n",
    "- index\n",
    "    - Q18\t\n",
    "        - Q18_Part_1\t\n",
    "        - Q18_Part_2\t\n",
    "        - Q18_Part_3\t\n",
    "        - Q18_Part_4\t\n",
    "        - Q18_Part_5\t\n",
    "        - Q18_Part_6\t\n",
    "        - Q18_OTHER\n",
    "    - Q19 : ELIMINAR\n",
    "        -  (E)19_Part_1\t\n",
    "        -  (E)Q19_Part_2\n",
    "        -  (E)Q19_Part_3\t\n",
    "        -  (E)Q19_Part_4\t\n",
    "        -  (E)Q19_Part_5\t\n",
    "        -  (E)Q19_OTHER\t\n",
    "    - Q27\n",
    "        - Q27_A_Part_1\t\n",
    "        - Q27_A_Part_2\t\n",
    "        - Q27_A_Part_3\t\n",
    "        - Q27_A_Part_4\t\n",
    "        - Q27_A_Part_5\t\n",
    "        - Q27_A_Part_6\t\n",
    "        - Q27_A_Part_7\t\n",
    "        - Q27_A_Part_8\t\n",
    "        - Q27_A_Part_9\t\n",
    "        - Q27_A_Part_10\t\n",
    "        - Q27_A_Part_11\t\n",
    "        - Q27_A_OTHER\n",
    "    - Q28  ELIMINAR\n",
    "        -  (E)Q28\n",
    "    - Q29  ELIMINAR\n",
    "        -  (E)Q29_A_Part_1\t\n",
    "        -  (E)Q29_A_Part_2\t\n",
    "        -  (E)Q29_A_Part_3\t\n",
    "        -  (E)Q29_A_Part_4\t\n",
    "        -  (E)Q29_A_OTHER\n",
    "    - Q30   ELIMINAR\n",
    "        -  (E)Q30_A_Part_1\t\n",
    "        -  (E)Q30_A_Part_2\t\n",
    "        -  (E)Q30_A_Part_3\t\n",
    "        -  (E)Q30_A_Part_4\t\n",
    "        -  (E)Q30_A_Part_5\t\n",
    "        -  (E)Q30_A_Part_6\t\n",
    "        -  (E)Q30_A_Part_7\t\n",
    "        -  (E)Q30_A_OTHER\t\n",
    "    - Q31: ELIMINAR\n",
    "        -  (E)Q31_A_Part_1\t\n",
    "        -  (E)Q31_A_Part_2\t\n",
    "        -  (E)Q31_A_Part_3\t\n",
    "        -  (E)Q31_A_Part_4\t\n",
    "        -  (E)Q31_A_Part_5\t\n",
    "        -  (E)Q31_A_Part_6\t\n",
    "        -  (E)Q31_A_Part_7\t\n",
    "        -  (E)Q31_A_Part_8\t\n",
    "        -  (E)Q31_A_Part_9\t\n",
    "        -  (E)Q31_A_OTHER\n",
    "    - Q36: ELIMINAR\n",
    "        -  (E)Q36_A_Part_1\t\n",
    "        -  (E)Q36_A_Part_2\t\n",
    "        -  (E)Q36_A_Part_3\t\n",
    "        -  (E)Q36_A_Part_4\t\n",
    "        -  (E)Q36_A_Part_5\t\n",
    "        -  (E)Q36_A_Part_6\t\n",
    "        -  (E)Q36_A_Part_7\t\n",
    "        -  (E)Q36_A_OTHER\n",
    "    - Q37: ELIMINAR\n",
    "        -  (E)Q37_A_Part_1\t\n",
    "        -  (E)Q37_A_Part_2\t\n",
    "        -  (E)Q37_A_Part_3\t\n",
    "        -  (E)Q37_A_Part_4\t\n",
    "        -  (E)Q37_A_Part_5\t\n",
    "        -  (E)Q37_A_Part_6\t\n",
    "        -  (E)Q37_A_Part_7\t\n",
    "        -  (E)Q37_A_OTHER\n",
    "    - Q38: ELIMINAR\n",
    "        -  (E)Q38_A_Part_1\t\n",
    "        -  (E)Q38_A_Part_2\t\n",
    "        -  (E)Q38_A_Part_3\t\n",
    "        -  (E)Q38_A_Part_4\t\n",
    "        -  (E)Q38_A_Part_5\t\n",
    "        -  (E)Q38_A_Part_6\t\n",
    "        -  (E)Q38_A_Part_7\t\n",
    "        -  (E)Q38_A_Part_8\t\n",
    "        -  (E)Q38_A_Part_9\t\n",
    "        -  (E)Q38_A_Part_10\t\n",
    "        -  (E)Q38_A_Part_11\t\n",
    "        -  (E)Q38_A_OTHER\t\n",
    "    - Q39\n",
    "        - Q39_Part_1\t\n",
    "        - Q39_Part_2\t\n",
    "        - Q39_Part_3\t\n",
    "        - Q39_Part_4\t\n",
    "        - Q39_Part_5\t\n",
    "        - Q39_Part_6\t\n",
    "        - Q39_Part_7\t\n",
    "        - Q39_Part_8\t\n",
    "        - Q39_Part_9\t\n",
    "        - Q39_OTHER\t\n",
    "    - Q40\n",
    "        - Q40_Part_1\t\n",
    "        - Q40_Part_2\t\n",
    "        - Q40_Part_3\t\n",
    "        - Q40_Part_4\t\n",
    "        - Q40_Part_5\t\n",
    "        - Q40_Part_6\t\n",
    "        - Q40_Part_7\t\n",
    "        - Q40_Part_8\t\n",
    "        - Q40_Part_9\t\n",
    "        - Q40_Part_10\t\n",
    "        - Q40_Part_11\t\n",
    "        - Q40_OTHER\t\n",
    "    - Q42\n",
    "        - Q42_Part_1\t\n",
    "        - Q42_Part_2\t\n",
    "        - Q42_Part_3\t\n",
    "        - Q42_Part_4\t\n",
    "        - Q42_Part_5\t\n",
    "        - Q42_Part_6\t\n",
    "        - Q42_Part_7\t\n",
    "        - Q42_Part_8\t\n",
    "        - Q42_Part_9\t\n",
    "        - Q42_Part_10\t\n",
    "        - Q42_Part_11\t\n",
    "        - Q42_OTHER\t\n",
    "#### ELIMINAR (E) todas las Bs ( no profesionales)\n",
    "    - Q27: ELIMINAR\n",
    "        - Q27_B_Part_1\t\n",
    "        - Q27_B_Part_2\t\n",
    "        - Q27_B_Part_3\t\n",
    "        - Q27_B_Part_4\t\n",
    "        - Q27_B_Part_5\t\n",
    "        - Q27_B_Part_6\t\n",
    "        - Q27_B_Part_7\t\n",
    "        - Q27_B_Part_8\t\n",
    "        - Q27_B_Part_9\t\n",
    "        - Q27_B_Part_10\t\n",
    "        - Q27_B_Part_11\t\n",
    "        - Q27_B_OTHER\n",
    "    - Q29: ELIMINAR\n",
    "        - Q29_B_Part_1\t\n",
    "        - Q29_B_Part_2\t\n",
    "        - Q29_B_Part_3\t\n",
    "        - Q29_B_Part_4\t\n",
    "        - Q29_B_OTHER\n",
    "    - Q30: ELIMINAR\n",
    "        - Q30_B_Part_1\t\n",
    "        - Q30_B_Part_2\t\n",
    "        - Q30_B_Part_3\t\n",
    "        - Q30_B_Part_4\t\n",
    "        - Q30_B_Part_5\t\n",
    "        - Q30_B_Part_6\t\n",
    "        - Q30_B_Part_7\t\n",
    "        - Q30_B_OTHER\t\n",
    "    - Q31:ELIMINAR\n",
    "        - Q31_B_Part_1\t\n",
    "        - Q31_B_Part_2\t\n",
    "        - Q31_B_Part_3\t\n",
    "        - Q31_B_Part_4\t\n",
    "        - Q31_B_Part_5\t\n",
    "        - Q31_B_Part_6\t\n",
    "        - Q31_B_Part_7\t\n",
    "        - Q31_B_Part_8\t\n",
    "        - Q31_B_Part_9\t\n",
    "        - Q31_B_OTHER\n",
    "    - Q32: ELIMINAR\n",
    "        - Q32_B_Part_1\t\n",
    "        - Q32_B_Part_2\t\n",
    "        - Q32_B_Part_3\t\n",
    "        - Q32_B_Part_4\t\n",
    "        - Q32_B_Part_5\t\n",
    "        - Q32_B_Part_6\t\n",
    "        - Q32_B_Part_7\t\n",
    "        - Q32_B_Part_8\t\n",
    "        - Q32_B_Part_9\t\n",
    "        - Q32_B_Part_10\t\n",
    "        - Q32_B_Part_11\t\n",
    "        - Q32_B_Part_12\t\n",
    "        - Q32_B_Part_13\t\n",
    "        - Q32_B_Part_14\t\n",
    "        - Q32_B_Part_15\t\n",
    "        - Q32_B_Part_16\t\n",
    "        - Q32_B_Part_17\t\n",
    "        - Q32_B_Part_18\t\n",
    "        - Q32_B_Part_19\t\n",
    "        - Q32_B_Part_20\t\n",
    "        - Q32_B_OTHER\n",
    "    - Q34: ELIMINAR\n",
    "        - Q34_B_Part_1\t\n",
    "        - Q34_B_Part_2\t\n",
    "        - Q34_B_Part_3\t\n",
    "        - Q34_B_Part_4\t\n",
    "        - Q34_B_Part_5\t\n",
    "        - Q34_B_Part_6\t\n",
    "        - Q34_B_Part_7\t\n",
    "        - Q34_B_Part_8\t\n",
    "        - Q34_B_Part_9\t\n",
    "        - Q34_B_Part_10\t\n",
    "        - Q34_B_Part_11\t\n",
    "        - Q34_B_Part_12\t\n",
    "        - Q34_B_Part_13\t\n",
    "        - Q34_B_Part_14\t\n",
    "        - Q34_B_Part_15\t\n",
    "        - Q34_B_Part_16\t\n",
    "        - Q34_B_OTHER\n",
    "    - Q36: ELIMINAR\n",
    "        - Q36_B_Part_1\t\n",
    "        - Q36_B_Part_2\t\n",
    "        - Q36_B_Part_3\t\n",
    "        - Q36_B_Part_4\t\n",
    "        - Q36_B_Part_5\t\n",
    "        - Q36_B_Part_6\t\n",
    "        - Q36_B_Part_7\t\n",
    "        - Q36_B_OTHER\n",
    "    - Q37: ELIMINAR\n",
    "        - Q37_B_Part_1\t\n",
    "        - Q37_B_Part_2\t\n",
    "        - Q37_B_Part_3\t\n",
    "        - Q37_B_Part_4\t\n",
    "        - Q37_B_Part_5\t\n",
    "        - Q37_B_Part_6\t\n",
    "        - Q37_B_Part_7\t\n",
    "        - Q37_B_OTHER\n",
    "    - Q38: ELIMINAR\n",
    "        - Q38_B_Part_1\t\n",
    "        - Q38_B_Part_2\t\n",
    "        - Q38_B_Part_3\t\n",
    "        - Q38_B_Part_4\t\n",
    "        - Q38_B_Part_5\t\n",
    "        - Q38_B_Part_6\t\n",
    "        - Q38_B_Part_7\t\n",
    "        - Q38_B_Part_8\t\n",
    "        - Q38_B_Part_9\t\n",
    "        - Q38_B_Part_10\t\n",
    "        - Q38_B_Part_11\t\n",
    "        - Q38_B_OTHER"
   ]
  },
  {
   "cell_type": "code",
   "execution_count": null,
   "metadata": {},
   "outputs": [],
   "source": [
    "# Se crea una lista con las columnas a eliminar\n",
    "lista_col_eliminar=[\n",
    "    'level_0',\n",
    "    'time',\n",
    "    \"q12\",\n",
    "    \"q13\",\n",
    "    \"q15\",\n",
    "    \"q16\",\n",
    "    \"q17\",\n",
    "    \"q23\",\n",
    "    \"q24\",\n",
    "    'q19_part_1', 'q19_part_2', 'q19_part_3', 'q19_part_4', 'q19_part_5', 'q19_other',\n",
    "    \"q28\",\n",
    "    'q29_a_part_1', 'q29_a_part_2', 'q29_a_part_3', 'q29_a_part_4', 'q29_a_other',\n",
    "    'q30_a_part_1', 'q30_a_part_2', 'q30_a_part_3', 'q30_a_part_4','q30_a_part_5', 'q30_a_part_6', 'q30_a_part_7', 'q30_a_other',\n",
    "    'q31_a_part_1', 'q31_a_part_2', 'q31_a_part_3', 'q31_a_part_4','q31_a_part_5', 'q31_a_part_6', 'q31_a_part_7', 'q31_a_part_8','q31_a_part_9', 'q31_a_other',\n",
    "    \"q32\",\n",
    "    \"q34\",\n",
    "    'q36_a_part_1', 'q36_a_part_2', 'q36_a_part_3', 'q36_a_part_4', 'q36_a_part_5', 'q36_a_part_6', 'q36_a_part_7', 'q36_a_other',\n",
    "    'q37_a_part_1', 'q37_a_part_2', 'q37_a_part_3', 'q37_a_part_4','q37_a_part_5', 'q37_a_part_6', 'q37_a_part_7', 'q37_a_other',\n",
    "    'q38_a_part_1', 'q38_a_part_2', 'q38_a_part_3', 'q38_a_part_4', 'q38_a_part_5', 'q38_a_part_6', 'q38_a_part_7', 'q38_a_part_8','q38_a_part_9', 'q38_a_part_10', 'q38_a_part_11', 'q38_a_other',\n",
    "    'q27_b_part_1', 'q27_b_part_2', 'q27_b_part_3', 'q27_b_part_4','q27_b_part_5', 'q27_b_part_6', 'q27_b_part_7', 'q27_b_part_8','q27_b_part_9', 'q27_b_part_10', 'q27_b_part_11', 'q27_b_other',\n",
    "    'q29_b_part_1', 'q29_b_part_2', 'q29_b_part_3', 'q29_b_part_4','q29_b_other',\n",
    "    'q30_b_part_1', 'q30_b_part_2', 'q30_b_part_3', 'q30_b_part_4', 'q30_b_part_5', 'q30_b_part_6', 'q30_b_part_7', 'q30_b_other',\n",
    "    'q31_b_part_1', 'q31_b_part_2', 'q31_b_part_3', 'q31_b_part_4', 'q31_b_part_5', 'q31_b_part_6', 'q31_b_part_7', 'q31_b_part_8','q31_b_part_9', 'q31_b_other', \n",
    "    'q32_b_part_1', 'q32_b_part_2', 'q32_b_part_3', 'q32_b_part_4', 'q32_b_part_5', 'q32_b_part_6', 'q32_b_part_7', 'q32_b_part_8', 'q32_b_part_9', 'q32_b_part_10','q32_b_part_11', 'q32_b_part_12', 'q32_b_part_13', 'q32_b_part_14','q32_b_part_15', 'q32_b_part_16', 'q32_b_part_17', 'q32_b_part_18', 'q32_b_part_19', 'q32_b_part_20', 'q32_b_other', \n",
    "    'q34_b_part_1', 'q34_b_part_2', 'q34_b_part_3', 'q34_b_part_4', 'q34_b_part_5', 'q34_b_part_6', 'q34_b_part_7', 'q34_b_part_8', 'q34_b_part_9', 'q34_b_part_10', 'q34_b_part_11','q34_b_part_12', 'q34_b_part_13', 'q34_b_part_14', 'q34_b_part_15','q34_b_part_16', 'q34_b_other',\n",
    "    'q36_b_part_1', 'q36_b_part_2', 'q36_b_part_3', 'q36_b_part_4', 'q36_b_part_5', 'q36_b_part_6', 'q36_b_part_7', 'q36_b_other', \n",
    "    'q37_b_part_1', 'q37_b_part_2', 'q37_b_part_3', 'q37_b_part_4', 'q37_b_part_5', 'q37_b_part_6', 'q37_b_part_7', 'q37_b_other',\n",
    "    'q38_b_part_1', 'q38_b_part_2', 'q38_b_part_3', 'q38_b_part_4', 'q38_b_part_5', 'q38_b_part_6', 'q38_b_part_7', 'q38_b_part_8', 'q38_b_part_9', 'q38_b_part_10', 'q38_b_part_11', 'q38_b_other'\n",
    "     ]"
   ]
  },
  {
   "attachments": {},
   "cell_type": "markdown",
   "metadata": {},
   "source": [
    "##### Función para eliminar las columnas, recibe el df y el listado con los nombres de las columnas a eliminar."
   ]
  },
  {
   "cell_type": "code",
   "execution_count": null,
   "metadata": {},
   "outputs": [],
   "source": [
    "# Función para eliminar las columnas\n",
    "# Recibe el df y el listado con los nombres de las columnas a eliminar.\n",
    "\n",
    "def eliminar_col (df,lista):\n",
    "    df.drop(lista, axis = 1, inplace = True)"
   ]
  },
  {
   "cell_type": "code",
   "execution_count": null,
   "metadata": {},
   "outputs": [],
   "source": [
    "eliminar_col(df_unido, lista_col_eliminar)"
   ]
  },
  {
   "cell_type": "code",
   "execution_count": null,
   "metadata": {},
   "outputs": [],
   "source": [
    "df_unido.shape"
   ]
  },
  {
   "attachments": {},
   "cell_type": "markdown",
   "metadata": {},
   "source": [
    "# 7. obtenemos el archivo definitivo, lo ordenamos y renombramos las columnas"
   ]
  },
  {
   "cell_type": "code",
   "execution_count": null,
   "metadata": {},
   "outputs": [],
   "source": [
    "#si queremos cambiarles los nombres a unos mas intuitivos"
   ]
  },
  {
   "cell_type": "code",
   "execution_count": null,
   "metadata": {},
   "outputs": [],
   "source": [
    "columnas_nuevas = {'age':'edad_q1',} \n",
    "\n",
    "def renombrar_colum(df, columnas_nuevas):\n",
    "    df.rename(columnas_nuevas, inplace=True)\n",
    "    return df"
   ]
  },
  {
   "attachments": {},
   "cell_type": "markdown",
   "metadata": {},
   "source": [
    "# 8. Analisis exploratorio de los datos AUTOMATIZADO"
   ]
  },
  {
   "attachments": {},
   "cell_type": "markdown",
   "metadata": {},
   "source": [
    "# pendiente crear dos  funciones para: "
   ]
  },
  {
   "attachments": {},
   "cell_type": "markdown",
   "metadata": {},
   "source": [
    "- *descricion general* : info, describe, isnull().sum(), dtipo, shape, duplicated"
   ]
  },
  {
   "cell_type": "code",
   "execution_count": null,
   "metadata": {},
   "outputs": [],
   "source": [
    "def propiedades(df):\n",
    "    print(f'La forma de nuestro df es de ', df.shape)\n",
    "    print(f'Los principales estádisticos de nuestro df son', df.dtype)\n",
    "    print(f'El porcentaje de nulso por columna de nuestro df es', ((df.isnull().sum() / len(df))*100))\n",
    "    print(f'La info de nuestro df es', df.info())\n",
    "    print(f'La descripción de las variables númericas de nuestro df es ', df.describe().T)\n",
    "    print(f'La descripción de las variables categóricas de nuestro df es ', df.describe(include = 'object'))\n",
    "    print(f'Los duplicados de nuestro df son ', df.duplicated())"
   ]
  },
  {
   "attachments": {},
   "cell_type": "markdown",
   "metadata": {},
   "source": [
    "- *descripcion por columnas* : nombre columnas columna(.columns), value_counts,unique, "
   ]
  },
  {
   "cell_type": "code",
   "execution_count": null,
   "metadata": {},
   "outputs": [],
   "source": [
    "def descripciones(df):\n",
    "    print(f'Las columnas de nuestro df es ', df.columns)\n",
    "    print(f'Los valores de nuestro df son ', df.values_counts())\n",
    "    print(f'Los unicos de nuestro df son', df.unique())\n",
    "    print(f'La info de nuestro df es', df.info())\n",
    "    print(f'LA descripción de nuestro df es ', df.describe().T)"
   ]
  },
  {
   "cell_type": "code",
   "execution_count": null,
   "metadata": {},
   "outputs": [],
   "source": [
    "def descolumna (df,col):\n",
    "  print(f'Los valores de la columna  son ', df[col].values_counts())# no se si se puede hacer asi\n",
    "  print(f'Los unicos de nuestro df son', df[col].unique())# lo mismo que antes"
   ]
  },
  {
   "attachments": {},
   "cell_type": "markdown",
   "metadata": {},
   "source": [
    "# 9. Preguntas "
   ]
  },
  {
   "attachments": {},
   "cell_type": "markdown",
   "metadata": {},
   "source": [
    "## 9.1 Desagrupar : Dividir las columnas que estan juntas las opciones.\n",
    " - Columnas : q7_l_usados, q9_adi, q14_visualizacion,"
   ]
  },
  {
   "attachments": {},
   "cell_type": "markdown",
   "metadata": {},
   "source": [
    "### 1. Función para separar los datos múltiples"
   ]
  },
  {
   "cell_type": "code",
   "execution_count": 2,
   "metadata": {},
   "outputs": [],
   "source": [
    "# Creamos una copia del df para no modificar el df de trabajo\n",
    "df_nuevo = df_unido.copy()"
   ]
  },
  {
   "cell_type": "code",
   "execution_count": null,
   "metadata": {},
   "outputs": [],
   "source": [
    "def separar(df,col,col2):\n",
    "    df[col2] = df[col].str.split(\",\")\n",
    "    x = df[col2].tolist()\n",
    "\n",
    "    set1 = set() #Creamos un set para que no salgan los contenidos repetidos\n",
    "\n",
    "    for lista in x:\n",
    "        try:\n",
    "            for herramienta in lista:\n",
    "                herramienta = herramienta.strip()\n",
    "                set1.add(herramienta)\n",
    "        except:\n",
    "            pass\n",
    "    lista_columnas_nuevas = list(set1)\n",
    "\n",
    "    return lista_columnas_nuevas"
   ]
  },
  {
   "cell_type": "code",
   "execution_count": null,
   "metadata": {},
   "outputs": [],
   "source": [
    "# Creamos la lista\n",
    "lista_lutilizados = separar(df_nuevo,'q7','q7_2')"
   ]
  },
  {
   "cell_type": "code",
   "execution_count": null,
   "metadata": {},
   "outputs": [],
   "source": [
    "# Comprobamos la lista\n",
    "lista_lutilizados[:10]"
   ]
  },
  {
   "cell_type": "code",
   "execution_count": null,
   "metadata": {},
   "outputs": [],
   "source": [
    "df_nuevo[\"q7_2\"]"
   ]
  },
  {
   "attachments": {},
   "cell_type": "markdown",
   "metadata": {},
   "source": [
    "### 2. For para crear las columnas con true or false"
   ]
  },
  {
   "cell_type": "code",
   "execution_count": null,
   "metadata": {},
   "outputs": [],
   "source": [
    "for i in lista_lutilizados: # recibe como parámero la lista resultado de la función 1. separar\n",
    "    try:\n",
    "        df_nuevo[i] = df_nuevo['q7'].str.contains(i)\n",
    "    except:\n",
    "        df_nuevo[i] = df_nuevo['q7'].str.contains(re.escape(\" C++\"), i)\n",
    "        print (i)"
   ]
  },
  {
   "cell_type": "code",
   "execution_count": null,
   "metadata": {},
   "outputs": [],
   "source": [
    "df_nuevo[df_nuevo.columns[90:]]"
   ]
  },
  {
   "attachments": {},
   "cell_type": "markdown",
   "metadata": {},
   "source": [
    "## 9.2 Agrupar : Unir las partes que nos hagan falta para responder a las preguntas\n",
    "\n",
    "- Columnas: Q10, Q18, Q27, Q39,Q40,Q42\n",
    "\n",
    " - Otras columnas a revisar: q25 (salario), q26 (presupuesto en ML y Cloud)"
   ]
  },
  {
   "cell_type": "code",
   "execution_count": null,
   "metadata": {},
   "outputs": [],
   "source": [
    "lista_q_10 = ['q10_part_1', 'q10_part_2', 'q10_part_3', 'q10_part_4', 'q10_part_5',\n",
    "       'q10_part_6', 'q10_part_7', 'q10_part_8', 'q10_part_9', 'q10_part_10',\n",
    "       'q10_part_11', 'q10_part_12', 'q10_part_13', 'q10_part_14',\n",
    "       'q10_part_15', 'q10_part_16', 'q10_other']"
   ]
  },
  {
   "cell_type": "code",
   "execution_count": null,
   "metadata": {},
   "outputs": [],
   "source": [
    "lista_q_18 = ['q18_part_1', 'q18_part_2', 'q18_part_3', 'q18_part_4', 'q18_part_5',\n",
    "       'q18_part_6', 'q18_other']"
   ]
  },
  {
   "cell_type": "code",
   "execution_count": null,
   "metadata": {},
   "outputs": [],
   "source": [
    "lista_q_27 = ['q27_a_part_1', 'q27_a_part_2', 'q27_a_part_3', 'q27_a_part_4',\n",
    "       'q27_a_part_5', 'q27_a_part_6', 'q27_a_part_7', 'q27_a_part_8',\n",
    "       'q27_a_part_9', 'q27_a_part_10', 'q27_a_part_11', 'q27_a_other']"
   ]
  },
  {
   "cell_type": "code",
   "execution_count": null,
   "metadata": {},
   "outputs": [],
   "source": [
    "lista_q_39 = ['q39_part_1', 'q39_part_2', 'q39_part_3', 'q39_part_4', 'q39_part_5',\n",
    "       'q39_part_6', 'q39_part_7', 'q39_part_8', 'q39_part_9', 'q39_other']"
   ]
  },
  {
   "cell_type": "code",
   "execution_count": null,
   "metadata": {},
   "outputs": [],
   "source": [
    "lista_q_40 = ['q40_part_1', 'q40_part_2', 'q40_part_3', 'q40_part_4', 'q40_part_5',\n",
    "       'q40_part_6', 'q40_part_7', 'q40_part_8', 'q40_part_9', 'q40_part_10',\n",
    "       'q40_part_11', 'q40_other']"
   ]
  },
  {
   "cell_type": "code",
   "execution_count": null,
   "metadata": {},
   "outputs": [],
   "source": [
    "lista_q_42 = ['q42_part_1', 'q42_part_2', 'q42_part_3', 'q42_part_4', 'q42_part_5',\n",
    "       'q42_part_6', 'q42_part_7', 'q42_part_8', 'q42_part_9', 'q42_part_10',\n",
    "       'q42_part_11']"
   ]
  },
  {
   "cell_type": "code",
   "execution_count": null,
   "metadata": {},
   "outputs": [],
   "source": [
    "# Crear df con lista de preguntas\n",
    "df_q10 = df_nuevo[['q10_part_1', 'q10_part_2', 'q10_part_3', 'q10_part_4', 'q10_part_5',\n",
    "       'q10_part_6', 'q10_part_7', 'q10_part_8', 'q10_part_9', 'q10_part_10',\n",
    "       'q10_part_11', 'q10_part_12', 'q10_part_13', 'q10_part_14',\n",
    "       'q10_part_15', 'q10_part_16', 'q10_other']]\n",
    "       \n",
    "df_q10.head(2)"
   ]
  },
  {
   "attachments": {},
   "cell_type": "markdown",
   "metadata": {},
   "source": [
    "# 10. Graficos"
   ]
  },
  {
   "attachments": {},
   "cell_type": "markdown",
   "metadata": {},
   "source": [
    "### 3. Función para generar el df a graficar"
   ]
  },
  {
   "attachments": {},
   "cell_type": "markdown",
   "metadata": {},
   "source": [
    "### Booleanos"
   ]
  },
  {
   "cell_type": "code",
   "execution_count": null,
   "metadata": {},
   "outputs": [],
   "source": [
    "def crear_df(df,df_nuevo): # La función recibe el nombre del dataframe sobre el que trabajamos y en string otro nombre para una variable dataframe\n",
    "\n",
    "    df_nuevo = df.melt(value_vars = df.columns)\n",
    "    df_nuevo = df_nuevo[df_nuevo['value']==True].reset_index()\n",
    "    df_agrup = df_nuevo.groupby(['variable'])['value'].count().reset_index()\n",
    "    df_ordenado = df_agrup.sort_values('value', ascending = False)\n",
    "    df_def = df_ordenado.drop_duplicates('value', keep = 'last')\n",
    "\n",
    "    return df_def"
   ]
  },
  {
   "cell_type": "code",
   "execution_count": null,
   "metadata": {},
   "outputs": [],
   "source": [
    "# Se debe crear un dataframe\n",
    "df_lutilizado = crear_df(df,\"df_lutilizado\")\n",
    "df_lutilizado"
   ]
  },
  {
   "cell_type": "code",
   "execution_count": null,
   "metadata": {},
   "outputs": [],
   "source": [
    "def graficar_barplot (df): # La función recibe el dataframe creado para graficar\n",
    "    sns.barplot(data = df, y='variable', x = 'value');"
   ]
  },
  {
   "cell_type": "code",
   "execution_count": null,
   "metadata": {},
   "outputs": [],
   "source": [
    "graficar_barplot(df_lutilizado)"
   ]
  },
  {
   "attachments": {},
   "cell_type": "markdown",
   "metadata": {},
   "source": [
    "# 11. Análisis de los resultados"
   ]
  },
  {
   "attachments": {},
   "cell_type": "markdown",
   "metadata": {},
   "source": [
    "Perfil de analista"
   ]
  },
  {
   "attachments": {},
   "cell_type": "markdown",
   "metadata": {},
   "source": [
    "Industria donde trabajan"
   ]
  },
  {
   "attachments": {},
   "cell_type": "markdown",
   "metadata": {},
   "source": [
    "Herramientas que utilizan"
   ]
  }
 ],
 "metadata": {
  "kernelspec": {
   "display_name": "base",
   "language": "python",
   "name": "python3"
  },
  "language_info": {
   "codemirror_mode": {
    "name": "ipython",
    "version": 3
   },
   "file_extension": ".py",
   "mimetype": "text/x-python",
   "name": "python",
   "nbconvert_exporter": "python",
   "pygments_lexer": "ipython3",
   "version": "3.9.13"
  },
  "orig_nbformat": 4,
  "vscode": {
   "interpreter": {
    "hash": "f2104d434ce3092b7c07d5af98c90652611c7ad655b2a72b59e9e675e449bc7b"
   }
  }
 },
 "nbformat": 4,
 "nbformat_minor": 2
}
