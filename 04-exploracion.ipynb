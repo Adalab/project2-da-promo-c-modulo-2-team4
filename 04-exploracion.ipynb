{
 "cells": [
  {
   "cell_type": "code",
   "execution_count": 40,
   "metadata": {},
   "outputs": [],
   "source": [
    "import pandas as pd\n",
    "import numpy as np\n",
    "import os"
   ]
  },
  {
   "cell_type": "code",
   "execution_count": 41,
   "metadata": {},
   "outputs": [],
   "source": [
    "pd.options.display.max_columns = None"
   ]
  },
  {
   "cell_type": "code",
   "execution_count": 42,
   "metadata": {},
   "outputs": [],
   "source": [
    "from datetime import datetime"
   ]
  },
  {
   "cell_type": "code",
   "execution_count": 43,
   "metadata": {},
   "outputs": [
    {
     "data": {
      "text/html": [
       "<div>\n",
       "<style scoped>\n",
       "    .dataframe tbody tr th:only-of-type {\n",
       "        vertical-align: middle;\n",
       "    }\n",
       "\n",
       "    .dataframe tbody tr th {\n",
       "        vertical-align: top;\n",
       "    }\n",
       "\n",
       "    .dataframe thead th {\n",
       "        text-align: right;\n",
       "    }\n",
       "</style>\n",
       "<table border=\"1\" class=\"dataframe\">\n",
       "  <thead>\n",
       "    <tr style=\"text-align: right;\">\n",
       "      <th></th>\n",
       "      <th>Unnamed: 0.1</th>\n",
       "      <th>Unnamed: 0</th>\n",
       "      <th>index</th>\n",
       "      <th>pais</th>\n",
       "      <th>educacion</th>\n",
       "      <th>ocupacion</th>\n",
       "      <th>experiencia</th>\n",
       "      <th>l_recomendado</th>\n",
       "      <th>plataforma</th>\n",
       "      <th>tpu</th>\n",
       "      <th>i_actual</th>\n",
       "      <th>e_tamanio</th>\n",
       "      <th>e_analistas</th>\n",
       "      <th>salario_actual</th>\n",
       "      <th>presupuesto_ml_cc</th>\n",
       "      <th>big_products_used</th>\n",
       "      <th>tool_ppal</th>\n",
       "      <th>l_utilizado</th>\n",
       "      <th>adi</th>\n",
       "      <th>hardware</th>\n",
       "      <th>visualizacion</th>\n",
       "      <th>e_actividades</th>\n",
       "      <th>big_products</th>\n",
       "    </tr>\n",
       "  </thead>\n",
       "  <tbody>\n",
       "    <tr>\n",
       "      <th>0</th>\n",
       "      <td>0</td>\n",
       "      <td>0</td>\n",
       "      <td>0</td>\n",
       "      <td>India</td>\n",
       "      <td>Bachelor’s degree</td>\n",
       "      <td>Other</td>\n",
       "      <td>5-10 years</td>\n",
       "      <td>Python</td>\n",
       "      <td>A laptop</td>\n",
       "      <td>2-5 times</td>\n",
       "      <td>Manufacturing/Fabrication</td>\n",
       "      <td>50-249 employees</td>\n",
       "      <td>3-4</td>\n",
       "      <td>25,000-29,999</td>\n",
       "      <td>$100-$999</td>\n",
       "      <td>NaN</td>\n",
       "      <td>Local development environments (RStudio, Jupyt...</td>\n",
       "      <td>Python, R</td>\n",
       "      <td>Vim / Emacs</td>\n",
       "      <td>Google Cloud TPUs</td>\n",
       "      <td>Matplotlib ,Seaborn ,Ggplot / ggplot2 ,Shiny ...</td>\n",
       "      <td>None of these activities are an important par...</td>\n",
       "      <td>PostgreSQL</td>\n",
       "    </tr>\n",
       "    <tr>\n",
       "      <th>1</th>\n",
       "      <td>1</td>\n",
       "      <td>1</td>\n",
       "      <td>1</td>\n",
       "      <td>Indonesia</td>\n",
       "      <td>Master’s degree</td>\n",
       "      <td>Program/Project Manager</td>\n",
       "      <td>20+ years</td>\n",
       "      <td>Python</td>\n",
       "      <td>A cloud computing platform (AWS, Azure, GCP, h...</td>\n",
       "      <td>Never</td>\n",
       "      <td>Manufacturing/Fabrication</td>\n",
       "      <td>1000-9,999 employees</td>\n",
       "      <td>1-2</td>\n",
       "      <td>60,000-69,999</td>\n",
       "      <td>$0 ($USD)</td>\n",
       "      <td>NaN</td>\n",
       "      <td>Advanced statistical software (SPSS, SAS, etc.)</td>\n",
       "      <td>SQL, C, C++, Java</td>\n",
       "      <td>Notepad++,Jupyter Notebook</td>\n",
       "      <td>None</td>\n",
       "      <td>Matplotlib</td>\n",
       "      <td>Build and/or run the data infrastructure that...</td>\n",
       "      <td>NaN</td>\n",
       "    </tr>\n",
       "  </tbody>\n",
       "</table>\n",
       "</div>"
      ],
      "text/plain": [
       "   Unnamed: 0.1  Unnamed: 0  index       pais          educacion  \\\n",
       "0             0           0      0      India  Bachelor’s degree   \n",
       "1             1           1      1  Indonesia    Master’s degree   \n",
       "\n",
       "                 ocupacion experiencia l_recomendado  \\\n",
       "0                    Other  5-10 years        Python   \n",
       "1  Program/Project Manager   20+ years        Python   \n",
       "\n",
       "                                          plataforma        tpu  \\\n",
       "0                                           A laptop  2-5 times   \n",
       "1  A cloud computing platform (AWS, Azure, GCP, h...      Never   \n",
       "\n",
       "                    i_actual             e_tamanio e_analistas salario_actual  \\\n",
       "0  Manufacturing/Fabrication      50-249 employees         3-4  25,000-29,999   \n",
       "1  Manufacturing/Fabrication  1000-9,999 employees         1-2  60,000-69,999   \n",
       "\n",
       "  presupuesto_ml_cc big_products_used  \\\n",
       "0         $100-$999               NaN   \n",
       "1         $0 ($USD)               NaN   \n",
       "\n",
       "                                           tool_ppal         l_utilizado  \\\n",
       "0  Local development environments (RStudio, Jupyt...           Python, R   \n",
       "1    Advanced statistical software (SPSS, SAS, etc.)   SQL, C, C++, Java   \n",
       "\n",
       "                           adi            hardware  \\\n",
       "0                  Vim / Emacs  Google Cloud TPUs    \n",
       "1   Notepad++,Jupyter Notebook                None   \n",
       "\n",
       "                                       visualizacion  \\\n",
       "0   Matplotlib ,Seaborn ,Ggplot / ggplot2 ,Shiny ...   \n",
       "1                                        Matplotlib    \n",
       "\n",
       "                                       e_actividades  big_products  \n",
       "0   None of these activities are an important par...   PostgreSQL   \n",
       "1   Build and/or run the data infrastructure that...           NaN  "
      ]
     },
     "execution_count": 43,
     "metadata": {},
     "output_type": "execute_result"
    }
   ],
   "source": [
    "df_txt= pd.read_csv(\"data/04-data-txt-col-rename.csv\", )\n",
    "df_txt.head(2)"
   ]
  },
  {
   "cell_type": "code",
   "execution_count": 44,
   "metadata": {},
   "outputs": [
    {
     "data": {
      "text/plain": [
       "(25973, 23)"
      ]
     },
     "execution_count": 44,
     "metadata": {},
     "output_type": "execute_result"
    }
   ],
   "source": [
    "# shape\n",
    "\n",
    "df_txt.shape\n"
   ]
  },
  {
   "cell_type": "code",
   "execution_count": 45,
   "metadata": {},
   "outputs": [
    {
     "name": "stdout",
     "output_type": "stream",
     "text": [
      "<class 'pandas.core.frame.DataFrame'>\n",
      "RangeIndex: 25973 entries, 0 to 25972\n",
      "Data columns (total 23 columns):\n",
      " #   Column             Non-Null Count  Dtype \n",
      "---  ------             --------------  ----- \n",
      " 0   Unnamed: 0.1       25973 non-null  int64 \n",
      " 1   Unnamed: 0         25973 non-null  int64 \n",
      " 2   index              25973 non-null  int64 \n",
      " 3   pais               25973 non-null  object\n",
      " 4   educacion          25973 non-null  object\n",
      " 5   ocupacion          25973 non-null  object\n",
      " 6   experiencia        25973 non-null  object\n",
      " 7   l_recomendado      24940 non-null  object\n",
      " 8   plataforma         24720 non-null  object\n",
      " 9   tpu                24403 non-null  object\n",
      " 10  i_actual           16325 non-null  object\n",
      " 11  e_tamanio          16251 non-null  object\n",
      " 12  e_analistas        16126 non-null  object\n",
      " 13  salario_actual     15391 non-null  object\n",
      " 14  presupuesto_ml_cc  15183 non-null  object\n",
      " 15  big_products_used  4656 non-null   object\n",
      " 16  tool_ppal          18489 non-null  object\n",
      " 17  l_utilizado        24941 non-null  object\n",
      " 18  adi                24934 non-null  object\n",
      " 19  hardware           24582 non-null  object\n",
      " 20  visualizacion      23970 non-null  object\n",
      " 21  e_actividades      15635 non-null  object\n",
      " 22  big_products       9484 non-null   object\n",
      "dtypes: int64(3), object(20)\n",
      "memory usage: 4.6+ MB\n"
     ]
    }
   ],
   "source": [
    "df_txt.info()"
   ]
  },
  {
   "cell_type": "markdown",
   "metadata": {},
   "source": [
    "ojo: salario, cambiar a número"
   ]
  },
  {
   "cell_type": "code",
   "execution_count": 46,
   "metadata": {},
   "outputs": [
    {
     "data": {
      "text/html": [
       "<div>\n",
       "<style scoped>\n",
       "    .dataframe tbody tr th:only-of-type {\n",
       "        vertical-align: middle;\n",
       "    }\n",
       "\n",
       "    .dataframe tbody tr th {\n",
       "        vertical-align: top;\n",
       "    }\n",
       "\n",
       "    .dataframe thead th {\n",
       "        text-align: right;\n",
       "    }\n",
       "</style>\n",
       "<table border=\"1\" class=\"dataframe\">\n",
       "  <thead>\n",
       "    <tr style=\"text-align: right;\">\n",
       "      <th></th>\n",
       "      <th>count</th>\n",
       "      <th>mean</th>\n",
       "      <th>std</th>\n",
       "      <th>min</th>\n",
       "      <th>25%</th>\n",
       "      <th>50%</th>\n",
       "      <th>75%</th>\n",
       "      <th>max</th>\n",
       "    </tr>\n",
       "  </thead>\n",
       "  <tbody>\n",
       "    <tr>\n",
       "      <th>Unnamed: 0.1</th>\n",
       "      <td>25973.0</td>\n",
       "      <td>12986.0</td>\n",
       "      <td>7497.903607</td>\n",
       "      <td>0.0</td>\n",
       "      <td>6493.0</td>\n",
       "      <td>12986.0</td>\n",
       "      <td>19479.0</td>\n",
       "      <td>25972.0</td>\n",
       "    </tr>\n",
       "    <tr>\n",
       "      <th>Unnamed: 0</th>\n",
       "      <td>25973.0</td>\n",
       "      <td>12986.0</td>\n",
       "      <td>7497.903607</td>\n",
       "      <td>0.0</td>\n",
       "      <td>6493.0</td>\n",
       "      <td>12986.0</td>\n",
       "      <td>19479.0</td>\n",
       "      <td>25972.0</td>\n",
       "    </tr>\n",
       "    <tr>\n",
       "      <th>index</th>\n",
       "      <td>25973.0</td>\n",
       "      <td>12986.0</td>\n",
       "      <td>7497.903607</td>\n",
       "      <td>0.0</td>\n",
       "      <td>6493.0</td>\n",
       "      <td>12986.0</td>\n",
       "      <td>19479.0</td>\n",
       "      <td>25972.0</td>\n",
       "    </tr>\n",
       "  </tbody>\n",
       "</table>\n",
       "</div>"
      ],
      "text/plain": [
       "                count     mean          std  min     25%      50%      75%  \\\n",
       "Unnamed: 0.1  25973.0  12986.0  7497.903607  0.0  6493.0  12986.0  19479.0   \n",
       "Unnamed: 0    25973.0  12986.0  7497.903607  0.0  6493.0  12986.0  19479.0   \n",
       "index         25973.0  12986.0  7497.903607  0.0  6493.0  12986.0  19479.0   \n",
       "\n",
       "                  max  \n",
       "Unnamed: 0.1  25972.0  \n",
       "Unnamed: 0    25972.0  \n",
       "index         25972.0  "
      ]
     },
     "execution_count": 46,
     "metadata": {},
     "output_type": "execute_result"
    }
   ],
   "source": [
    "df_txt.describe().T"
   ]
  },
  {
   "cell_type": "code",
   "execution_count": 47,
   "metadata": {},
   "outputs": [
    {
     "data": {
      "text/html": [
       "<div>\n",
       "<style scoped>\n",
       "    .dataframe tbody tr th:only-of-type {\n",
       "        vertical-align: middle;\n",
       "    }\n",
       "\n",
       "    .dataframe tbody tr th {\n",
       "        vertical-align: top;\n",
       "    }\n",
       "\n",
       "    .dataframe thead th {\n",
       "        text-align: right;\n",
       "    }\n",
       "</style>\n",
       "<table border=\"1\" class=\"dataframe\">\n",
       "  <thead>\n",
       "    <tr style=\"text-align: right;\">\n",
       "      <th></th>\n",
       "      <th>pais</th>\n",
       "      <th>educacion</th>\n",
       "      <th>ocupacion</th>\n",
       "      <th>experiencia</th>\n",
       "      <th>l_recomendado</th>\n",
       "      <th>plataforma</th>\n",
       "      <th>tpu</th>\n",
       "      <th>i_actual</th>\n",
       "      <th>e_tamanio</th>\n",
       "      <th>e_analistas</th>\n",
       "      <th>salario_actual</th>\n",
       "      <th>presupuesto_ml_cc</th>\n",
       "      <th>big_products_used</th>\n",
       "      <th>tool_ppal</th>\n",
       "      <th>l_utilizado</th>\n",
       "      <th>adi</th>\n",
       "      <th>hardware</th>\n",
       "      <th>visualizacion</th>\n",
       "      <th>e_actividades</th>\n",
       "      <th>big_products</th>\n",
       "    </tr>\n",
       "  </thead>\n",
       "  <tbody>\n",
       "    <tr>\n",
       "      <th>count</th>\n",
       "      <td>25973</td>\n",
       "      <td>25973</td>\n",
       "      <td>25973</td>\n",
       "      <td>25973</td>\n",
       "      <td>24940</td>\n",
       "      <td>24720</td>\n",
       "      <td>24403</td>\n",
       "      <td>16325</td>\n",
       "      <td>16251</td>\n",
       "      <td>16126</td>\n",
       "      <td>15391</td>\n",
       "      <td>15183</td>\n",
       "      <td>4656</td>\n",
       "      <td>18489</td>\n",
       "      <td>24941</td>\n",
       "      <td>24934</td>\n",
       "      <td>24582</td>\n",
       "      <td>23970</td>\n",
       "      <td>15635</td>\n",
       "      <td>9484</td>\n",
       "    </tr>\n",
       "    <tr>\n",
       "      <th>unique</th>\n",
       "      <td>66</td>\n",
       "      <td>7</td>\n",
       "      <td>15</td>\n",
       "      <td>7</td>\n",
       "      <td>13</td>\n",
       "      <td>6</td>\n",
       "      <td>5</td>\n",
       "      <td>18</td>\n",
       "      <td>5</td>\n",
       "      <td>7</td>\n",
       "      <td>26</td>\n",
       "      <td>6</td>\n",
       "      <td>20</td>\n",
       "      <td>6</td>\n",
       "      <td>825</td>\n",
       "      <td>1330</td>\n",
       "      <td>26</td>\n",
       "      <td>467</td>\n",
       "      <td>96</td>\n",
       "      <td>1558</td>\n",
       "    </tr>\n",
       "    <tr>\n",
       "      <th>top</th>\n",
       "      <td>India</td>\n",
       "      <td>Master’s degree</td>\n",
       "      <td>Student</td>\n",
       "      <td>1-3 years</td>\n",
       "      <td>Python</td>\n",
       "      <td>A laptop</td>\n",
       "      <td>Never</td>\n",
       "      <td>Computers/Technology</td>\n",
       "      <td>0-49 employees</td>\n",
       "      <td>1-2</td>\n",
       "      <td>$0-999</td>\n",
       "      <td>$0 ($USD)</td>\n",
       "      <td>MySQL</td>\n",
       "      <td>Basic statistical software (Microsoft Excel, G...</td>\n",
       "      <td>Python</td>\n",
       "      <td>Jupyter Notebook</td>\n",
       "      <td>None</td>\n",
       "      <td>Matplotlib ,Seaborn</td>\n",
       "      <td>Analyze and understand data to influence produ...</td>\n",
       "      <td>None</td>\n",
       "    </tr>\n",
       "    <tr>\n",
       "      <th>freq</th>\n",
       "      <td>7434</td>\n",
       "      <td>10132</td>\n",
       "      <td>6804</td>\n",
       "      <td>7874</td>\n",
       "      <td>20213</td>\n",
       "      <td>16231</td>\n",
       "      <td>16457</td>\n",
       "      <td>4079</td>\n",
       "      <td>5055</td>\n",
       "      <td>3642</td>\n",
       "      <td>3369</td>\n",
       "      <td>5903</td>\n",
       "      <td>1110</td>\n",
       "      <td>7246</td>\n",
       "      <td>4740</td>\n",
       "      <td>2341</td>\n",
       "      <td>13234</td>\n",
       "      <td>5697</td>\n",
       "      <td>2891</td>\n",
       "      <td>2297</td>\n",
       "    </tr>\n",
       "  </tbody>\n",
       "</table>\n",
       "</div>"
      ],
      "text/plain": [
       "         pais        educacion ocupacion experiencia l_recomendado plataforma  \\\n",
       "count   25973            25973     25973       25973         24940      24720   \n",
       "unique     66                7        15           7            13          6   \n",
       "top     India  Master’s degree   Student   1-3 years        Python   A laptop   \n",
       "freq     7434            10132      6804        7874         20213      16231   \n",
       "\n",
       "          tpu              i_actual       e_tamanio e_analistas  \\\n",
       "count   24403                 16325           16251       16126   \n",
       "unique      5                    18               5           7   \n",
       "top     Never  Computers/Technology  0-49 employees         1-2   \n",
       "freq    16457                  4079            5055        3642   \n",
       "\n",
       "       salario_actual presupuesto_ml_cc big_products_used  \\\n",
       "count           15391             15183              4656   \n",
       "unique             26                 6                20   \n",
       "top            $0-999         $0 ($USD)            MySQL    \n",
       "freq             3369              5903              1110   \n",
       "\n",
       "                                                tool_ppal l_utilizado  \\\n",
       "count                                               18489       24941   \n",
       "unique                                                  6         825   \n",
       "top     Basic statistical software (Microsoft Excel, G...      Python   \n",
       "freq                                                 7246        4740   \n",
       "\n",
       "                     adi hardware          visualizacion  \\\n",
       "count              24934    24582                  23970   \n",
       "unique              1330       26                    467   \n",
       "top     Jupyter Notebook     None   Matplotlib ,Seaborn    \n",
       "freq                2341    13234                   5697   \n",
       "\n",
       "                                            e_actividades big_products  \n",
       "count                                               15635         9484  \n",
       "unique                                                 96         1558  \n",
       "top     Analyze and understand data to influence produ...         None  \n",
       "freq                                                 2891         2297  "
      ]
     },
     "execution_count": 47,
     "metadata": {},
     "output_type": "execute_result"
    }
   ],
   "source": [
    "df_txt.describe(include=\"object\")"
   ]
  },
  {
   "cell_type": "code",
   "execution_count": 48,
   "metadata": {},
   "outputs": [
    {
     "data": {
      "text/html": [
       "<div>\n",
       "<style scoped>\n",
       "    .dataframe tbody tr th:only-of-type {\n",
       "        vertical-align: middle;\n",
       "    }\n",
       "\n",
       "    .dataframe tbody tr th {\n",
       "        vertical-align: top;\n",
       "    }\n",
       "\n",
       "    .dataframe thead th {\n",
       "        text-align: right;\n",
       "    }\n",
       "</style>\n",
       "<table border=\"1\" class=\"dataframe\">\n",
       "  <thead>\n",
       "    <tr style=\"text-align: right;\">\n",
       "      <th></th>\n",
       "      <th>count</th>\n",
       "      <th>unique</th>\n",
       "      <th>top</th>\n",
       "      <th>freq</th>\n",
       "    </tr>\n",
       "  </thead>\n",
       "  <tbody>\n",
       "    <tr>\n",
       "      <th>pais</th>\n",
       "      <td>25973</td>\n",
       "      <td>66</td>\n",
       "      <td>India</td>\n",
       "      <td>7434</td>\n",
       "    </tr>\n",
       "    <tr>\n",
       "      <th>educacion</th>\n",
       "      <td>25973</td>\n",
       "      <td>7</td>\n",
       "      <td>Master’s degree</td>\n",
       "      <td>10132</td>\n",
       "    </tr>\n",
       "    <tr>\n",
       "      <th>ocupacion</th>\n",
       "      <td>25973</td>\n",
       "      <td>15</td>\n",
       "      <td>Student</td>\n",
       "      <td>6804</td>\n",
       "    </tr>\n",
       "    <tr>\n",
       "      <th>experiencia</th>\n",
       "      <td>25973</td>\n",
       "      <td>7</td>\n",
       "      <td>1-3 years</td>\n",
       "      <td>7874</td>\n",
       "    </tr>\n",
       "    <tr>\n",
       "      <th>l_recomendado</th>\n",
       "      <td>24940</td>\n",
       "      <td>13</td>\n",
       "      <td>Python</td>\n",
       "      <td>20213</td>\n",
       "    </tr>\n",
       "    <tr>\n",
       "      <th>plataforma</th>\n",
       "      <td>24720</td>\n",
       "      <td>6</td>\n",
       "      <td>A laptop</td>\n",
       "      <td>16231</td>\n",
       "    </tr>\n",
       "    <tr>\n",
       "      <th>tpu</th>\n",
       "      <td>24403</td>\n",
       "      <td>5</td>\n",
       "      <td>Never</td>\n",
       "      <td>16457</td>\n",
       "    </tr>\n",
       "    <tr>\n",
       "      <th>i_actual</th>\n",
       "      <td>16325</td>\n",
       "      <td>18</td>\n",
       "      <td>Computers/Technology</td>\n",
       "      <td>4079</td>\n",
       "    </tr>\n",
       "    <tr>\n",
       "      <th>e_tamanio</th>\n",
       "      <td>16251</td>\n",
       "      <td>5</td>\n",
       "      <td>0-49 employees</td>\n",
       "      <td>5055</td>\n",
       "    </tr>\n",
       "    <tr>\n",
       "      <th>e_analistas</th>\n",
       "      <td>16126</td>\n",
       "      <td>7</td>\n",
       "      <td>1-2</td>\n",
       "      <td>3642</td>\n",
       "    </tr>\n",
       "    <tr>\n",
       "      <th>salario_actual</th>\n",
       "      <td>15391</td>\n",
       "      <td>26</td>\n",
       "      <td>$0-999</td>\n",
       "      <td>3369</td>\n",
       "    </tr>\n",
       "    <tr>\n",
       "      <th>presupuesto_ml_cc</th>\n",
       "      <td>15183</td>\n",
       "      <td>6</td>\n",
       "      <td>$0 ($USD)</td>\n",
       "      <td>5903</td>\n",
       "    </tr>\n",
       "    <tr>\n",
       "      <th>big_products_used</th>\n",
       "      <td>4656</td>\n",
       "      <td>20</td>\n",
       "      <td>MySQL</td>\n",
       "      <td>1110</td>\n",
       "    </tr>\n",
       "    <tr>\n",
       "      <th>tool_ppal</th>\n",
       "      <td>18489</td>\n",
       "      <td>6</td>\n",
       "      <td>Basic statistical software (Microsoft Excel, G...</td>\n",
       "      <td>7246</td>\n",
       "    </tr>\n",
       "    <tr>\n",
       "      <th>l_utilizado</th>\n",
       "      <td>24941</td>\n",
       "      <td>825</td>\n",
       "      <td>Python</td>\n",
       "      <td>4740</td>\n",
       "    </tr>\n",
       "    <tr>\n",
       "      <th>adi</th>\n",
       "      <td>24934</td>\n",
       "      <td>1330</td>\n",
       "      <td>Jupyter Notebook</td>\n",
       "      <td>2341</td>\n",
       "    </tr>\n",
       "    <tr>\n",
       "      <th>hardware</th>\n",
       "      <td>24582</td>\n",
       "      <td>26</td>\n",
       "      <td>None</td>\n",
       "      <td>13234</td>\n",
       "    </tr>\n",
       "    <tr>\n",
       "      <th>visualizacion</th>\n",
       "      <td>23970</td>\n",
       "      <td>467</td>\n",
       "      <td>Matplotlib ,Seaborn</td>\n",
       "      <td>5697</td>\n",
       "    </tr>\n",
       "    <tr>\n",
       "      <th>e_actividades</th>\n",
       "      <td>15635</td>\n",
       "      <td>96</td>\n",
       "      <td>Analyze and understand data to influence produ...</td>\n",
       "      <td>2891</td>\n",
       "    </tr>\n",
       "    <tr>\n",
       "      <th>big_products</th>\n",
       "      <td>9484</td>\n",
       "      <td>1558</td>\n",
       "      <td>None</td>\n",
       "      <td>2297</td>\n",
       "    </tr>\n",
       "  </tbody>\n",
       "</table>\n",
       "</div>"
      ],
      "text/plain": [
       "                   count unique  \\\n",
       "pais               25973     66   \n",
       "educacion          25973      7   \n",
       "ocupacion          25973     15   \n",
       "experiencia        25973      7   \n",
       "l_recomendado      24940     13   \n",
       "plataforma         24720      6   \n",
       "tpu                24403      5   \n",
       "i_actual           16325     18   \n",
       "e_tamanio          16251      5   \n",
       "e_analistas        16126      7   \n",
       "salario_actual     15391     26   \n",
       "presupuesto_ml_cc  15183      6   \n",
       "big_products_used   4656     20   \n",
       "tool_ppal          18489      6   \n",
       "l_utilizado        24941    825   \n",
       "adi                24934   1330   \n",
       "hardware           24582     26   \n",
       "visualizacion      23970    467   \n",
       "e_actividades      15635     96   \n",
       "big_products        9484   1558   \n",
       "\n",
       "                                                                 top   freq  \n",
       "pais                                                           India   7434  \n",
       "educacion                                            Master’s degree  10132  \n",
       "ocupacion                                                    Student   6804  \n",
       "experiencia                                                1-3 years   7874  \n",
       "l_recomendado                                                 Python  20213  \n",
       "plataforma                                                  A laptop  16231  \n",
       "tpu                                                            Never  16457  \n",
       "i_actual                                        Computers/Technology   4079  \n",
       "e_tamanio                                             0-49 employees   5055  \n",
       "e_analistas                                                      1-2   3642  \n",
       "salario_actual                                                $0-999   3369  \n",
       "presupuesto_ml_cc                                          $0 ($USD)   5903  \n",
       "big_products_used                                             MySQL    1110  \n",
       "tool_ppal          Basic statistical software (Microsoft Excel, G...   7246  \n",
       "l_utilizado                                                   Python   4740  \n",
       "adi                                                 Jupyter Notebook   2341  \n",
       "hardware                                                        None  13234  \n",
       "visualizacion                                   Matplotlib ,Seaborn    5697  \n",
       "e_actividades      Analyze and understand data to influence produ...   2891  \n",
       "big_products                                                    None   2297  "
      ]
     },
     "execution_count": 48,
     "metadata": {},
     "output_type": "execute_result"
    }
   ],
   "source": [
    "df_txt.describe(include=\"object\").T"
   ]
  },
  {
   "cell_type": "code",
   "execution_count": 49,
   "metadata": {},
   "outputs": [
    {
     "data": {
      "text/plain": [
       "India                       7434\n",
       "United States of America    2650\n",
       "Other                       1270\n",
       "Japan                        921\n",
       "China                        814\n",
       "                            ... \n",
       "Kazakhstan                    45\n",
       "Norway                        45\n",
       "Algeria                       44\n",
       "Ethiopia                      43\n",
       "Iraq                          43\n",
       "Name: pais, Length: 66, dtype: int64"
      ]
     },
     "execution_count": 49,
     "metadata": {},
     "output_type": "execute_result"
    }
   ],
   "source": [
    "# Pensar agrupar por continentes\n",
    "df_txt[\"pais\"].value_counts()"
   ]
  },
  {
   "cell_type": "code",
   "execution_count": 50,
   "metadata": {},
   "outputs": [
    {
     "data": {
      "text/plain": [
       "Student                         6804\n",
       "Data Scientist                  3616\n",
       "Software Engineer               2449\n",
       "Other                           2393\n",
       "Data Analyst                    2301\n",
       "Currently not employed          1986\n",
       "Research Scientist              1538\n",
       "Machine Learning Engineer       1499\n",
       "Business Analyst                 968\n",
       "Program/Project Manager          849\n",
       "Data Engineer                    668\n",
       "Product Manager                  319\n",
       "Statistician                     313\n",
       "DBA/Database Engineer            171\n",
       "Developer Relations/Advocacy      99\n",
       "Name: ocupacion, dtype: int64"
      ]
     },
     "execution_count": 50,
     "metadata": {},
     "output_type": "execute_result"
    }
   ],
   "source": [
    "# Pensar si acotar la investigacion a analistas de datos únicamente\n",
    "df_txt[\"ocupacion\"].value_counts()"
   ]
  },
  {
   "cell_type": "code",
   "execution_count": 51,
   "metadata": {},
   "outputs": [
    {
     "data": {
      "text/plain": [
       "$0-999              3369\n",
       "1,000-1,999          969\n",
       "10,000-14,999        950\n",
       "30,000-39,999        741\n",
       "100,000-124,999      725\n",
       "5,000-7,499          699\n",
       "50,000-59,999        697\n",
       "40,000-49,999        688\n",
       "20,000-24,999        587\n",
       "2,000-2,999          575\n",
       "15,000-19,999        573\n",
       "7,500-9,999          552\n",
       "60,000-69,999        551\n",
       "25,000-29,999        470\n",
       "70,000-79,999        464\n",
       "4,000-4,999          456\n",
       "150,000-199,999      392\n",
       "80,000-89,999        391\n",
       "3,000-3,999          380\n",
       "125,000-149,999      379\n",
       "90,000-99,999        350\n",
       "200,000-249,999      177\n",
       "300,000-499,999       91\n",
       "250,000-299,999       75\n",
       ">$1,000,000           58\n",
       "$500,000-999,999      32\n",
       "Name: salario_actual, dtype: int64"
      ]
     },
     "execution_count": 51,
     "metadata": {},
     "output_type": "execute_result"
    }
   ],
   "source": [
    "#media de salario mundial de un data analist\n",
    "df_txt[\"salario_actual\"].value_counts()"
   ]
  },
  {
   "cell_type": "code",
   "execution_count": 52,
   "metadata": {},
   "outputs": [
    {
     "data": {
      "text/plain": [
       "array(['25,000-29,999', '60,000-69,999', '$0-999', '30,000-39,999', nan,\n",
       "       '15,000-19,999', '70,000-79,999', '2,000-2,999', '10,000-14,999',\n",
       "       '5,000-7,499', '20,000-24,999', '1,000-1,999', '100,000-124,999',\n",
       "       '7,500-9,999', '4,000-4,999', '40,000-49,999', '50,000-59,999',\n",
       "       '3,000-3,999', '300,000-499,999', '200,000-249,999',\n",
       "       '125,000-149,999', '250,000-299,999', '80,000-89,999',\n",
       "       '90,000-99,999', '150,000-199,999', '>$1,000,000',\n",
       "       '$500,000-999,999'], dtype=object)"
      ]
     },
     "execution_count": 52,
     "metadata": {},
     "output_type": "execute_result"
    }
   ],
   "source": [
    "df_txt[\"salario_actual\"].unique()"
   ]
  },
  {
   "cell_type": "code",
   "execution_count": 53,
   "metadata": {},
   "outputs": [
    {
     "data": {
      "text/plain": [
       "Unnamed: 0.1             0\n",
       "Unnamed: 0               0\n",
       "index                    0\n",
       "pais                     0\n",
       "educacion                0\n",
       "ocupacion                0\n",
       "experiencia              0\n",
       "l_recomendado         1033\n",
       "plataforma            1253\n",
       "tpu                   1570\n",
       "i_actual              9648\n",
       "e_tamanio             9722\n",
       "e_analistas           9847\n",
       "salario_actual       10582\n",
       "presupuesto_ml_cc    10790\n",
       "big_products_used    21317\n",
       "tool_ppal             7484\n",
       "l_utilizado           1032\n",
       "adi                   1039\n",
       "hardware              1391\n",
       "visualizacion         2003\n",
       "e_actividades        10338\n",
       "big_products         16489\n",
       "dtype: int64"
      ]
     },
     "execution_count": 53,
     "metadata": {},
     "output_type": "execute_result"
    }
   ],
   "source": [
    "df_txt.isnull().sum()"
   ]
  },
  {
   "cell_type": "code",
   "execution_count": 54,
   "metadata": {},
   "outputs": [
    {
     "data": {
      "text/plain": [
       "0        False\n",
       "1        False\n",
       "2        False\n",
       "3        False\n",
       "4        False\n",
       "         ...  \n",
       "25968    False\n",
       "25969    False\n",
       "25970    False\n",
       "25971    False\n",
       "25972    False\n",
       "Length: 25973, dtype: bool"
      ]
     },
     "execution_count": 54,
     "metadata": {},
     "output_type": "execute_result"
    }
   ],
   "source": [
    "df_txt.duplicated()"
   ]
  },
  {
   "cell_type": "code",
   "execution_count": 55,
   "metadata": {},
   "outputs": [],
   "source": [
    "# salario y país\n",
    "df_india = df_txt[df_txt[\"pais\"] == \"India\"]"
   ]
  },
  {
   "cell_type": "code",
   "execution_count": 56,
   "metadata": {},
   "outputs": [
    {
     "data": {
      "text/html": [
       "<div>\n",
       "<style scoped>\n",
       "    .dataframe tbody tr th:only-of-type {\n",
       "        vertical-align: middle;\n",
       "    }\n",
       "\n",
       "    .dataframe tbody tr th {\n",
       "        vertical-align: top;\n",
       "    }\n",
       "\n",
       "    .dataframe thead th {\n",
       "        text-align: right;\n",
       "    }\n",
       "</style>\n",
       "<table border=\"1\" class=\"dataframe\">\n",
       "  <thead>\n",
       "    <tr style=\"text-align: right;\">\n",
       "      <th></th>\n",
       "      <th>Unnamed: 0.1</th>\n",
       "      <th>Unnamed: 0</th>\n",
       "      <th>index</th>\n",
       "      <th>pais</th>\n",
       "      <th>educacion</th>\n",
       "      <th>ocupacion</th>\n",
       "      <th>experiencia</th>\n",
       "      <th>l_recomendado</th>\n",
       "      <th>plataforma</th>\n",
       "      <th>tpu</th>\n",
       "      <th>i_actual</th>\n",
       "      <th>e_tamanio</th>\n",
       "      <th>e_analistas</th>\n",
       "      <th>salario_actual</th>\n",
       "      <th>presupuesto_ml_cc</th>\n",
       "      <th>big_products_used</th>\n",
       "      <th>tool_ppal</th>\n",
       "      <th>l_utilizado</th>\n",
       "      <th>adi</th>\n",
       "      <th>hardware</th>\n",
       "      <th>visualizacion</th>\n",
       "      <th>e_actividades</th>\n",
       "      <th>big_products</th>\n",
       "    </tr>\n",
       "  </thead>\n",
       "  <tbody>\n",
       "    <tr>\n",
       "      <th>0</th>\n",
       "      <td>0</td>\n",
       "      <td>0</td>\n",
       "      <td>0</td>\n",
       "      <td>India</td>\n",
       "      <td>Bachelor’s degree</td>\n",
       "      <td>Other</td>\n",
       "      <td>5-10 years</td>\n",
       "      <td>Python</td>\n",
       "      <td>A laptop</td>\n",
       "      <td>2-5 times</td>\n",
       "      <td>Manufacturing/Fabrication</td>\n",
       "      <td>50-249 employees</td>\n",
       "      <td>3-4</td>\n",
       "      <td>25,000-29,999</td>\n",
       "      <td>$100-$999</td>\n",
       "      <td>NaN</td>\n",
       "      <td>Local development environments (RStudio, Jupyt...</td>\n",
       "      <td>Python, R</td>\n",
       "      <td>Vim / Emacs</td>\n",
       "      <td>Google Cloud TPUs</td>\n",
       "      <td>Matplotlib ,Seaborn ,Ggplot / ggplot2 ,Shiny ...</td>\n",
       "      <td>None of these activities are an important par...</td>\n",
       "      <td>PostgreSQL</td>\n",
       "    </tr>\n",
       "    <tr>\n",
       "      <th>4</th>\n",
       "      <td>4</td>\n",
       "      <td>4</td>\n",
       "      <td>4</td>\n",
       "      <td>India</td>\n",
       "      <td>Doctoral degree</td>\n",
       "      <td>Other</td>\n",
       "      <td>&lt; 1 years</td>\n",
       "      <td>Python</td>\n",
       "      <td>A cloud computing platform (AWS, Azure, GCP, h...</td>\n",
       "      <td>Never</td>\n",
       "      <td>Academics/Education</td>\n",
       "      <td>50-249 employees</td>\n",
       "      <td>5-9</td>\n",
       "      <td>30,000-39,999</td>\n",
       "      <td>$1000-$9,999</td>\n",
       "      <td>NaN</td>\n",
       "      <td>Local development environments (RStudio, Jupyt...</td>\n",
       "      <td>Python, C, MATLAB</td>\n",
       "      <td>Spyder,MATLAB ,Jupyter Notebook</td>\n",
       "      <td>None</td>\n",
       "      <td>Matplotlib ,Seaborn ,Ggplot / ggplot2</td>\n",
       "      <td>Analyze and understand data to influence produ...</td>\n",
       "      <td>None</td>\n",
       "    </tr>\n",
       "  </tbody>\n",
       "</table>\n",
       "</div>"
      ],
      "text/plain": [
       "   Unnamed: 0.1  Unnamed: 0  index   pais          educacion ocupacion  \\\n",
       "0             0           0      0  India  Bachelor’s degree     Other   \n",
       "4             4           4      4  India    Doctoral degree     Other   \n",
       "\n",
       "  experiencia l_recomendado  \\\n",
       "0  5-10 years        Python   \n",
       "4   < 1 years        Python   \n",
       "\n",
       "                                          plataforma        tpu  \\\n",
       "0                                           A laptop  2-5 times   \n",
       "4  A cloud computing platform (AWS, Azure, GCP, h...      Never   \n",
       "\n",
       "                    i_actual         e_tamanio e_analistas salario_actual  \\\n",
       "0  Manufacturing/Fabrication  50-249 employees         3-4  25,000-29,999   \n",
       "4        Academics/Education  50-249 employees         5-9  30,000-39,999   \n",
       "\n",
       "  presupuesto_ml_cc big_products_used  \\\n",
       "0         $100-$999               NaN   \n",
       "4      $1000-$9,999               NaN   \n",
       "\n",
       "                                           tool_ppal        l_utilizado  \\\n",
       "0  Local development environments (RStudio, Jupyt...          Python, R   \n",
       "4  Local development environments (RStudio, Jupyt...  Python, C, MATLAB   \n",
       "\n",
       "                                adi            hardware  \\\n",
       "0                       Vim / Emacs  Google Cloud TPUs    \n",
       "4   Spyder,MATLAB ,Jupyter Notebook                None   \n",
       "\n",
       "                                       visualizacion  \\\n",
       "0   Matplotlib ,Seaborn ,Ggplot / ggplot2 ,Shiny ...   \n",
       "4             Matplotlib ,Seaborn ,Ggplot / ggplot2    \n",
       "\n",
       "                                       e_actividades  big_products  \n",
       "0   None of these activities are an important par...   PostgreSQL   \n",
       "4  Analyze and understand data to influence produ...          None  "
      ]
     },
     "execution_count": 56,
     "metadata": {},
     "output_type": "execute_result"
    }
   ],
   "source": [
    "df_india[df_india[\"salario_actual\"] > '5,000-7,499']\n",
    "df_india.head(2)"
   ]
  },
  {
   "attachments": {},
   "cell_type": "markdown",
   "metadata": {},
   "source": [
    "# 01. Columna 1"
   ]
  },
  {
   "cell_type": "code",
   "execution_count": 57,
   "metadata": {},
   "outputs": [
    {
     "data": {
      "text/plain": [
       "India                       7434\n",
       "United States of America    2650\n",
       "Other                       1270\n",
       "Japan                        921\n",
       "China                        814\n",
       "                            ... \n",
       "Kazakhstan                    45\n",
       "Norway                        45\n",
       "Algeria                       44\n",
       "Ethiopia                      43\n",
       "Iraq                          43\n",
       "Name: pais, Length: 66, dtype: int64"
      ]
     },
     "execution_count": 57,
     "metadata": {},
     "output_type": "execute_result"
    }
   ],
   "source": [
    "df_txt[\"pais\"].value_counts()"
   ]
  },
  {
   "cell_type": "code",
   "execution_count": 58,
   "metadata": {},
   "outputs": [
    {
     "data": {
      "text/plain": [
       "array(['India', 'Indonesia', 'Pakistan', 'Mexico', 'Russia', 'Turkey',\n",
       "       'Australia', 'Nigeria', 'Greece', 'Belgium', 'Japan', 'Egypt',\n",
       "       'Singapore', 'Brazil', 'Poland', 'China',\n",
       "       'Iran, Islamic Republic of...', 'United States of America',\n",
       "       'Italy', 'Viet Nam', 'Israel', 'Peru', 'South Africa', 'Other',\n",
       "       'Spain', 'Bangladesh',\n",
       "       'United Kingdom of Great Britain and Northern Ireland', 'France',\n",
       "       'Switzerland', 'Algeria', 'Tunisia', 'Argentina', 'Sweden',\n",
       "       'Colombia', 'I do not wish to disclose my location', 'Canada',\n",
       "       'Chile', 'Netherlands', 'Ukraine', 'Saudi Arabia', 'Romania',\n",
       "       'Morocco', 'Austria', 'Taiwan', 'Kenya', 'Belarus', 'Ireland',\n",
       "       'Portugal', 'Hong Kong (S.A.R.)', 'Denmark', 'Germany',\n",
       "       'South Korea', 'Philippines', 'Sri Lanka', 'United Arab Emirates',\n",
       "       'Uganda', 'Ghana', 'Malaysia', 'Thailand', 'Nepal', 'Kazakhstan',\n",
       "       'Ethiopia', 'Iraq', 'Ecuador', 'Norway', 'Czech Republic'],\n",
       "      dtype=object)"
      ]
     },
     "execution_count": 58,
     "metadata": {},
     "output_type": "execute_result"
    }
   ],
   "source": [
    "df_txt[\"pais\"].unique()"
   ]
  },
  {
   "cell_type": "code",
   "execution_count": 59,
   "metadata": {},
   "outputs": [
    {
     "data": {
      "text/plain": [
       "0"
      ]
     },
     "execution_count": 59,
     "metadata": {},
     "output_type": "execute_result"
    }
   ],
   "source": [
    "df_txt[\"pais\"].isnull().sum()"
   ]
  },
  {
   "attachments": {},
   "cell_type": "markdown",
   "metadata": {},
   "source": [
    "# 02. Columna 2"
   ]
  },
  {
   "cell_type": "code",
   "execution_count": 60,
   "metadata": {},
   "outputs": [
    {
     "data": {
      "text/plain": [
       "Master’s degree                                                      10132\n",
       "Bachelor’s degree                                                     9907\n",
       "Doctoral degree                                                       2795\n",
       "Some college/university study without earning a bachelor’s degree     1735\n",
       "I prefer not to answer                                                 627\n",
       "No formal education past high school                                   417\n",
       "Professional doctorate                                                 360\n",
       "Name: educacion, dtype: int64"
      ]
     },
     "execution_count": 60,
     "metadata": {},
     "output_type": "execute_result"
    }
   ],
   "source": [
    "df_txt[\"educacion\"].value_counts()"
   ]
  },
  {
   "cell_type": "code",
   "execution_count": 61,
   "metadata": {},
   "outputs": [
    {
     "data": {
      "text/plain": [
       "array(['Bachelor’s degree', 'Master’s degree', 'Doctoral degree',\n",
       "       'I prefer not to answer',\n",
       "       'Some college/university study without earning a bachelor’s degree',\n",
       "       'No formal education past high school', 'Professional doctorate'],\n",
       "      dtype=object)"
      ]
     },
     "execution_count": 61,
     "metadata": {},
     "output_type": "execute_result"
    }
   ],
   "source": [
    "df_txt[\"educacion\"].unique()"
   ]
  },
  {
   "cell_type": "code",
   "execution_count": 62,
   "metadata": {},
   "outputs": [
    {
     "data": {
      "text/plain": [
       "0"
      ]
     },
     "execution_count": 62,
     "metadata": {},
     "output_type": "execute_result"
    }
   ],
   "source": [
    "df_txt[\"educacion\"].isnull().sum()"
   ]
  },
  {
   "attachments": {},
   "cell_type": "markdown",
   "metadata": {},
   "source": [
    "# 03. Columna 3"
   ]
  },
  {
   "cell_type": "code",
   "execution_count": 63,
   "metadata": {},
   "outputs": [
    {
     "data": {
      "text/plain": [
       "Student                         6804\n",
       "Data Scientist                  3616\n",
       "Software Engineer               2449\n",
       "Other                           2393\n",
       "Data Analyst                    2301\n",
       "Currently not employed          1986\n",
       "Research Scientist              1538\n",
       "Machine Learning Engineer       1499\n",
       "Business Analyst                 968\n",
       "Program/Project Manager          849\n",
       "Data Engineer                    668\n",
       "Product Manager                  319\n",
       "Statistician                     313\n",
       "DBA/Database Engineer            171\n",
       "Developer Relations/Advocacy      99\n",
       "Name: ocupacion, dtype: int64"
      ]
     },
     "execution_count": 63,
     "metadata": {},
     "output_type": "execute_result"
    }
   ],
   "source": [
    "df_txt[\"ocupacion\"].value_counts()\n"
   ]
  },
  {
   "cell_type": "code",
   "execution_count": 64,
   "metadata": {},
   "outputs": [
    {
     "data": {
      "text/plain": [
       "array(['Other', 'Program/Project Manager', 'Software Engineer',\n",
       "       'Research Scientist', 'Currently not employed', 'Student',\n",
       "       'Data Scientist', 'Data Analyst', 'Machine Learning Engineer',\n",
       "       'Business Analyst', 'Data Engineer', 'Product Manager',\n",
       "       'Statistician', 'Developer Relations/Advocacy',\n",
       "       'DBA/Database Engineer'], dtype=object)"
      ]
     },
     "execution_count": 64,
     "metadata": {},
     "output_type": "execute_result"
    }
   ],
   "source": [
    "df_txt[\"ocupacion\"].unique()"
   ]
  },
  {
   "cell_type": "code",
   "execution_count": 65,
   "metadata": {},
   "outputs": [
    {
     "data": {
      "text/plain": [
       "0"
      ]
     },
     "execution_count": 65,
     "metadata": {},
     "output_type": "execute_result"
    }
   ],
   "source": [
    "df_txt[\"ocupacion\"].isnull().sum()"
   ]
  },
  {
   "attachments": {},
   "cell_type": "markdown",
   "metadata": {},
   "source": [
    "# 04. Columna 4"
   ]
  },
  {
   "cell_type": "code",
   "execution_count": 66,
   "metadata": {},
   "outputs": [
    {
     "data": {
      "text/plain": [
       "1-3 years                    7874\n",
       "< 1 years                    5881\n",
       "3-5 years                    4061\n",
       "5-10 years                   3099\n",
       "10-20 years                  2166\n",
       "20+ years                    1860\n",
       "I have never written code    1032\n",
       "Name: experiencia, dtype: int64"
      ]
     },
     "execution_count": 66,
     "metadata": {},
     "output_type": "execute_result"
    }
   ],
   "source": [
    "df_txt[\"experiencia\"].value_counts()\n"
   ]
  },
  {
   "cell_type": "code",
   "execution_count": 67,
   "metadata": {},
   "outputs": [
    {
     "data": {
      "text/plain": [
       "array(['5-10 years', '20+ years', '1-3 years', '< 1 years', '3-5 years',\n",
       "       '10-20 years', 'I have never written code'], dtype=object)"
      ]
     },
     "execution_count": 67,
     "metadata": {},
     "output_type": "execute_result"
    }
   ],
   "source": [
    "df_txt[\"experiencia\"].unique()"
   ]
  },
  {
   "cell_type": "code",
   "execution_count": 68,
   "metadata": {},
   "outputs": [
    {
     "data": {
      "text/plain": [
       "0"
      ]
     },
     "execution_count": 68,
     "metadata": {},
     "output_type": "execute_result"
    }
   ],
   "source": [
    "df_txt[\"experiencia\"].isnull().sum()"
   ]
  },
  {
   "attachments": {},
   "cell_type": "markdown",
   "metadata": {},
   "source": [
    "# 05. Columna 5"
   ]
  },
  {
   "cell_type": "code",
   "execution_count": 69,
   "metadata": {},
   "outputs": [
    {
     "data": {
      "text/plain": [
       "Python        20213\n",
       "R              1445\n",
       "SQL            1338\n",
       "C               440\n",
       "C++             437\n",
       "Java            242\n",
       "MATLAB          215\n",
       "Other           176\n",
       "Julia           137\n",
       "Javascript      133\n",
       "None            111\n",
       "Bash             38\n",
       "Swift            15\n",
       "Name: l_recomendado, dtype: int64"
      ]
     },
     "execution_count": 69,
     "metadata": {},
     "output_type": "execute_result"
    }
   ],
   "source": [
    "df_txt[\"l_recomendado\"].value_counts()\n"
   ]
  },
  {
   "cell_type": "code",
   "execution_count": 70,
   "metadata": {},
   "outputs": [
    {
     "data": {
      "text/plain": [
       "array(['Python', 'SQL', 'R', 'MATLAB', 'C', 'Julia', nan, 'Other', 'C++',\n",
       "       'Javascript', 'Java', 'None', 'Bash', 'Swift'], dtype=object)"
      ]
     },
     "execution_count": 70,
     "metadata": {},
     "output_type": "execute_result"
    }
   ],
   "source": [
    "df_txt[\"l_recomendado\"].unique()"
   ]
  },
  {
   "cell_type": "code",
   "execution_count": 71,
   "metadata": {},
   "outputs": [
    {
     "data": {
      "text/plain": [
       "1033"
      ]
     },
     "execution_count": 71,
     "metadata": {},
     "output_type": "execute_result"
    }
   ],
   "source": [
    "df_txt[\"l_recomendado\"].isnull().sum()"
   ]
  },
  {
   "attachments": {},
   "cell_type": "markdown",
   "metadata": {},
   "source": [
    "# 06. Columna 6"
   ]
  },
  {
   "cell_type": "code",
   "execution_count": 72,
   "metadata": {},
   "outputs": [
    {
     "data": {
      "text/plain": [
       "A laptop                                                               16231\n",
       "A personal computer / desktop                                           4916\n",
       "A cloud computing platform (AWS, Azure, GCP, hosted notebooks, etc)     2328\n",
       "A deep learning workstation (NVIDIA GTX, LambdaLabs, etc)                814\n",
       "None                                                                     259\n",
       "Other                                                                    172\n",
       "Name: plataforma, dtype: int64"
      ]
     },
     "execution_count": 72,
     "metadata": {},
     "output_type": "execute_result"
    }
   ],
   "source": [
    "df_txt[\"plataforma\"].value_counts()"
   ]
  },
  {
   "cell_type": "code",
   "execution_count": 73,
   "metadata": {},
   "outputs": [
    {
     "data": {
      "text/plain": [
       "array(['A laptop',\n",
       "       'A cloud computing platform (AWS, Azure, GCP, hosted notebooks, etc)',\n",
       "       'A personal computer / desktop',\n",
       "       'A deep learning workstation (NVIDIA GTX, LambdaLabs, etc)', nan,\n",
       "       'Other', 'None'], dtype=object)"
      ]
     },
     "execution_count": 73,
     "metadata": {},
     "output_type": "execute_result"
    }
   ],
   "source": [
    "df_txt[\"plataforma\"].unique()"
   ]
  },
  {
   "cell_type": "code",
   "execution_count": 74,
   "metadata": {},
   "outputs": [
    {
     "data": {
      "text/plain": [
       "1253"
      ]
     },
     "execution_count": 74,
     "metadata": {},
     "output_type": "execute_result"
    }
   ],
   "source": [
    "df_txt[\"plataforma\"].isnull().sum()"
   ]
  },
  {
   "attachments": {},
   "cell_type": "markdown",
   "metadata": {},
   "source": [
    "# 07. Columna 7"
   ]
  },
  {
   "cell_type": "code",
   "execution_count": 75,
   "metadata": {},
   "outputs": [
    {
     "data": {
      "text/plain": [
       "Never                 16457\n",
       "2-5 times              3405\n",
       "Once                   2982\n",
       "6-25 times              947\n",
       "More than 25 times      612\n",
       "Name: tpu, dtype: int64"
      ]
     },
     "execution_count": 75,
     "metadata": {},
     "output_type": "execute_result"
    }
   ],
   "source": [
    "# parece irrelevante todo el mundo responde never\n",
    "df_txt[\"tpu\"].value_counts()"
   ]
  },
  {
   "cell_type": "code",
   "execution_count": 76,
   "metadata": {},
   "outputs": [
    {
     "data": {
      "text/plain": [
       "array(['2-5 times', 'Never', 'More than 25 times', nan, 'Once',\n",
       "       '6-25 times'], dtype=object)"
      ]
     },
     "execution_count": 76,
     "metadata": {},
     "output_type": "execute_result"
    }
   ],
   "source": [
    "df_txt[\"tpu\"].unique()"
   ]
  },
  {
   "cell_type": "code",
   "execution_count": 77,
   "metadata": {},
   "outputs": [
    {
     "data": {
      "text/plain": [
       "1570"
      ]
     },
     "execution_count": 77,
     "metadata": {},
     "output_type": "execute_result"
    }
   ],
   "source": [
    "df_txt[\"tpu\"].isnull().sum()"
   ]
  },
  {
   "attachments": {},
   "cell_type": "markdown",
   "metadata": {},
   "source": [
    "# 08. Columna 8"
   ]
  },
  {
   "cell_type": "code",
   "execution_count": 78,
   "metadata": {},
   "outputs": [
    {
     "data": {
      "text/plain": [
       "Computers/Technology                      4079\n",
       "Academics/Education                       3214\n",
       "Accounting/Finance                        1459\n",
       "Other                                     1136\n",
       "Manufacturing/Fabrication                  872\n",
       "Medical/Pharmaceutical                     776\n",
       "Government/Public Service                  726\n",
       "Online Service/Internet-based Services     585\n",
       "Energy/Mining                              558\n",
       "Retail/Sales                               536\n",
       "Insurance/Risk Assessment                  424\n",
       "Marketing/CRM                              373\n",
       "Broadcasting/Communications                326\n",
       "Shipping/Transportation                    316\n",
       "Non-profit/Service                         300\n",
       "Online Business/Internet-based Sales       275\n",
       "Military/Security/Defense                  197\n",
       "Hospitality/Entertainment/Sports           173\n",
       "Name: i_actual, dtype: int64"
      ]
     },
     "execution_count": 78,
     "metadata": {},
     "output_type": "execute_result"
    }
   ],
   "source": [
    "# industria actual\n",
    "df_txt[\"i_actual\"].value_counts()"
   ]
  },
  {
   "cell_type": "code",
   "execution_count": 79,
   "metadata": {},
   "outputs": [
    {
     "data": {
      "text/plain": [
       "array(['Manufacturing/Fabrication', 'Academics/Education', nan,\n",
       "       'Computers/Technology', 'Other', 'Shipping/Transportation',\n",
       "       'Energy/Mining', 'Insurance/Risk Assessment', 'Non-profit/Service',\n",
       "       'Accounting/Finance', 'Hospitality/Entertainment/Sports',\n",
       "       'Government/Public Service',\n",
       "       'Online Service/Internet-based Services',\n",
       "       'Online Business/Internet-based Sales', 'Medical/Pharmaceutical',\n",
       "       'Retail/Sales', 'Broadcasting/Communications', 'Marketing/CRM',\n",
       "       'Military/Security/Defense'], dtype=object)"
      ]
     },
     "execution_count": 79,
     "metadata": {},
     "output_type": "execute_result"
    }
   ],
   "source": [
    "df_txt[\"i_actual\"].unique()"
   ]
  },
  {
   "cell_type": "code",
   "execution_count": 80,
   "metadata": {},
   "outputs": [
    {
     "data": {
      "text/plain": [
       "9648"
      ]
     },
     "execution_count": 80,
     "metadata": {},
     "output_type": "execute_result"
    }
   ],
   "source": [
    "df_txt[\"i_actual\"].isnull().sum()"
   ]
  },
  {
   "attachments": {},
   "cell_type": "markdown",
   "metadata": {},
   "source": [
    "# 09. Columna 9"
   ]
  },
  {
   "cell_type": "code",
   "execution_count": 81,
   "metadata": {},
   "outputs": [
    {
     "data": {
      "text/plain": [
       "0-49 employees              5055\n",
       "10,000 or more employees    3416\n",
       "1000-9,999 employees        3059\n",
       "50-249 employees            2567\n",
       "250-999 employees           2154\n",
       "Name: e_tamanio, dtype: int64"
      ]
     },
     "execution_count": 81,
     "metadata": {},
     "output_type": "execute_result"
    }
   ],
   "source": [
    "#tamaño de la compañia/empresa\n",
    "df_txt[\"e_tamanio\"].value_counts()"
   ]
  },
  {
   "cell_type": "code",
   "execution_count": 82,
   "metadata": {},
   "outputs": [
    {
     "data": {
      "text/plain": [
       "array(['50-249 employees', '1000-9,999 employees', nan,\n",
       "       '10,000 or more employees', '0-49 employees', '250-999 employees'],\n",
       "      dtype=object)"
      ]
     },
     "execution_count": 82,
     "metadata": {},
     "output_type": "execute_result"
    }
   ],
   "source": [
    "df_txt[\"e_tamanio\"].unique()"
   ]
  },
  {
   "cell_type": "code",
   "execution_count": 83,
   "metadata": {},
   "outputs": [
    {
     "data": {
      "text/plain": [
       "9722"
      ]
     },
     "execution_count": 83,
     "metadata": {},
     "output_type": "execute_result"
    }
   ],
   "source": [
    "df_txt[\"e_tamanio\"].isnull().sum()"
   ]
  },
  {
   "attachments": {},
   "cell_type": "markdown",
   "metadata": {},
   "source": [
    "# 10. Columna 10"
   ]
  },
  {
   "cell_type": "code",
   "execution_count": 84,
   "metadata": {},
   "outputs": [
    {
     "data": {
      "text/plain": [
       "1-2      3642\n",
       "20+      3595\n",
       "0        3064\n",
       "3-4      2558\n",
       "5-9      1850\n",
       "10-14     996\n",
       "15-19     421\n",
       "Name: e_analistas, dtype: int64"
      ]
     },
     "execution_count": 84,
     "metadata": {},
     "output_type": "execute_result"
    }
   ],
   "source": [
    "#personas analistas en la compañia\n",
    "df_txt[\"e_analistas\"].value_counts()"
   ]
  },
  {
   "cell_type": "code",
   "execution_count": 85,
   "metadata": {},
   "outputs": [
    {
     "data": {
      "text/plain": [
       "array(['3-4', '1-2', '0', '5-9', nan, '10-14', '20+', '15-19'],\n",
       "      dtype=object)"
      ]
     },
     "execution_count": 85,
     "metadata": {},
     "output_type": "execute_result"
    }
   ],
   "source": [
    "df_txt[\"e_analistas\"].unique()"
   ]
  },
  {
   "cell_type": "code",
   "execution_count": 86,
   "metadata": {},
   "outputs": [
    {
     "data": {
      "text/plain": [
       "9847"
      ]
     },
     "execution_count": 86,
     "metadata": {},
     "output_type": "execute_result"
    }
   ],
   "source": [
    "df_txt[\"e_analistas\"].isnull().sum()"
   ]
  },
  {
   "attachments": {},
   "cell_type": "markdown",
   "metadata": {},
   "source": [
    "# 11. Columna 11"
   ]
  },
  {
   "cell_type": "code",
   "execution_count": 87,
   "metadata": {},
   "outputs": [
    {
     "data": {
      "text/plain": [
       "$0-999              3369\n",
       "1,000-1,999          969\n",
       "10,000-14,999        950\n",
       "30,000-39,999        741\n",
       "100,000-124,999      725\n",
       "5,000-7,499          699\n",
       "50,000-59,999        697\n",
       "40,000-49,999        688\n",
       "20,000-24,999        587\n",
       "2,000-2,999          575\n",
       "15,000-19,999        573\n",
       "7,500-9,999          552\n",
       "60,000-69,999        551\n",
       "25,000-29,999        470\n",
       "70,000-79,999        464\n",
       "4,000-4,999          456\n",
       "150,000-199,999      392\n",
       "80,000-89,999        391\n",
       "3,000-3,999          380\n",
       "125,000-149,999      379\n",
       "90,000-99,999        350\n",
       "200,000-249,999      177\n",
       "300,000-499,999       91\n",
       "250,000-299,999       75\n",
       ">$1,000,000           58\n",
       "$500,000-999,999      32\n",
       "Name: salario_actual, dtype: int64"
      ]
     },
     "execution_count": 87,
     "metadata": {},
     "output_type": "execute_result"
    }
   ],
   "source": [
    "df_txt[\"salario_actual\"].value_counts()"
   ]
  },
  {
   "cell_type": "code",
   "execution_count": 88,
   "metadata": {},
   "outputs": [
    {
     "data": {
      "text/plain": [
       "array(['25,000-29,999', '60,000-69,999', '$0-999', '30,000-39,999', nan,\n",
       "       '15,000-19,999', '70,000-79,999', '2,000-2,999', '10,000-14,999',\n",
       "       '5,000-7,499', '20,000-24,999', '1,000-1,999', '100,000-124,999',\n",
       "       '7,500-9,999', '4,000-4,999', '40,000-49,999', '50,000-59,999',\n",
       "       '3,000-3,999', '300,000-499,999', '200,000-249,999',\n",
       "       '125,000-149,999', '250,000-299,999', '80,000-89,999',\n",
       "       '90,000-99,999', '150,000-199,999', '>$1,000,000',\n",
       "       '$500,000-999,999'], dtype=object)"
      ]
     },
     "execution_count": 88,
     "metadata": {},
     "output_type": "execute_result"
    }
   ],
   "source": [
    "df_txt[\"salario_actual\"].unique()"
   ]
  },
  {
   "cell_type": "code",
   "execution_count": 89,
   "metadata": {},
   "outputs": [
    {
     "data": {
      "text/plain": [
       "10582"
      ]
     },
     "execution_count": 89,
     "metadata": {},
     "output_type": "execute_result"
    }
   ],
   "source": [
    "df_txt[\"salario_actual\"].isnull().sum()"
   ]
  },
  {
   "attachments": {},
   "cell_type": "markdown",
   "metadata": {},
   "source": [
    "# 12. Columna 12"
   ]
  },
  {
   "cell_type": "code",
   "execution_count": 90,
   "metadata": {},
   "outputs": [
    {
     "data": {
      "text/plain": [
       "$0 ($USD)                  5903\n",
       "$100-$999                  2534\n",
       "$1000-$9,999               2491\n",
       "$1-$99                     1929\n",
       "$10,000-$99,999            1309\n",
       "$100,000 or more ($USD)    1017\n",
       "Name: presupuesto_ml_cc, dtype: int64"
      ]
     },
     "execution_count": 90,
     "metadata": {},
     "output_type": "execute_result"
    }
   ],
   "source": [
    "df_txt[\"presupuesto_ml_cc\"].value_counts()\n"
   ]
  },
  {
   "cell_type": "code",
   "execution_count": 91,
   "metadata": {},
   "outputs": [
    {
     "data": {
      "text/plain": [
       "array(['$100-$999', '$0 ($USD)', '$1000-$9,999', nan, '$1-$99',\n",
       "       '$100,000 or more ($USD)', '$10,000-$99,999'], dtype=object)"
      ]
     },
     "execution_count": 91,
     "metadata": {},
     "output_type": "execute_result"
    }
   ],
   "source": [
    "df_txt[\"presupuesto_ml_cc\"].unique()"
   ]
  },
  {
   "cell_type": "code",
   "execution_count": 92,
   "metadata": {},
   "outputs": [
    {
     "data": {
      "text/plain": [
       "10790"
      ]
     },
     "execution_count": 92,
     "metadata": {},
     "output_type": "execute_result"
    }
   ],
   "source": [
    "df_txt[\"presupuesto_ml_cc\"].isnull().sum()"
   ]
  },
  {
   "attachments": {},
   "cell_type": "markdown",
   "metadata": {},
   "source": [
    "# 13. Columna 13"
   ]
  },
  {
   "cell_type": "code",
   "execution_count": 93,
   "metadata": {},
   "outputs": [
    {
     "data": {
      "text/plain": [
       "MySQL                            1110\n",
       "PostgreSQL                        694\n",
       "Microsoft SQL Server              611\n",
       "MongoDB                           342\n",
       "Oracle Database                   316\n",
       "Google Cloud BigQuery             298\n",
       "SQLite                            235\n",
       "Microsoft Azure SQL Database      191\n",
       "Amazon Redshift                   146\n",
       "Snowflake                         132\n",
       "Amazon RDS                         94\n",
       "Google Cloud SQL                   79\n",
       "IBM Db2                            78\n",
       "Amazon DynamoDB                    77\n",
       "Other                              64\n",
       "Google Cloud Firestore             60\n",
       "Microsoft Azure Cosmos DB          54\n",
       "Amazon Aurora                      34\n",
       "Google Cloud BigTable              31\n",
       "Google Cloud Spanner               10\n",
       "Name: big_products_used, dtype: int64"
      ]
     },
     "execution_count": 93,
     "metadata": {},
     "output_type": "execute_result"
    }
   ],
   "source": [
    "df_txt[\"big_products_used\"].value_counts()\n"
   ]
  },
  {
   "cell_type": "code",
   "execution_count": 94,
   "metadata": {},
   "outputs": [
    {
     "data": {
      "text/plain": [
       "array([nan, 'MySQL ', 'IBM Db2 ', 'PostgreSQL ',\n",
       "       'Google Cloud Firestore ', 'Oracle Database ',\n",
       "       'Microsoft SQL Server ', 'Microsoft Azure SQL Database ',\n",
       "       'Snowflake ', 'MongoDB ', 'Google Cloud BigQuery ',\n",
       "       'Amazon DynamoDB ', 'SQLite ', 'Amazon RDS ', 'Amazon Redshift ',\n",
       "       'Google Cloud BigTable ', 'Google Cloud SQL ',\n",
       "       'Microsoft Azure Cosmos DB ', 'Other', 'Amazon Aurora ',\n",
       "       'Google Cloud Spanner '], dtype=object)"
      ]
     },
     "execution_count": 94,
     "metadata": {},
     "output_type": "execute_result"
    }
   ],
   "source": [
    "df_txt[\"big_products_used\"].unique()"
   ]
  },
  {
   "cell_type": "code",
   "execution_count": 95,
   "metadata": {},
   "outputs": [
    {
     "data": {
      "text/plain": [
       "21317"
      ]
     },
     "execution_count": 95,
     "metadata": {},
     "output_type": "execute_result"
    }
   ],
   "source": [
    "df_txt[\"big_products_used\"].isnull().sum()"
   ]
  },
  {
   "attachments": {},
   "cell_type": "markdown",
   "metadata": {},
   "source": [
    "# 14. Columna 14"
   ]
  },
  {
   "cell_type": "code",
   "execution_count": 96,
   "metadata": {},
   "outputs": [
    {
     "data": {
      "text/plain": [
       "Basic statistical software (Microsoft Excel, Google Sheets, etc.)       7246\n",
       "Local development environments (RStudio, JupyterLab, etc.)              7170\n",
       "Business intelligence software (Salesforce, Tableau, Spotfire, etc.)    1184\n",
       "Cloud-based data software & APIs (AWS, GCP, Azure, etc.)                 997\n",
       "Other                                                                    985\n",
       "Advanced statistical software (SPSS, SAS, etc.)                          907\n",
       "Name: tool_ppal, dtype: int64"
      ]
     },
     "execution_count": 96,
     "metadata": {},
     "output_type": "execute_result"
    }
   ],
   "source": [
    "df_txt[\"tool_ppal\"].value_counts()\n"
   ]
  },
  {
   "cell_type": "code",
   "execution_count": 97,
   "metadata": {},
   "outputs": [
    {
     "data": {
      "text/plain": [
       "array(['Local development environments (RStudio, JupyterLab, etc.)',\n",
       "       'Advanced statistical software (SPSS, SAS, etc.)',\n",
       "       'Basic statistical software (Microsoft Excel, Google Sheets, etc.)',\n",
       "       nan,\n",
       "       'Business intelligence software (Salesforce, Tableau, Spotfire, etc.)',\n",
       "       'Cloud-based data software & APIs (AWS, GCP, Azure, etc.)',\n",
       "       'Other'], dtype=object)"
      ]
     },
     "execution_count": 97,
     "metadata": {},
     "output_type": "execute_result"
    }
   ],
   "source": [
    "df_txt[\"tool_ppal\"].unique()"
   ]
  },
  {
   "cell_type": "code",
   "execution_count": 98,
   "metadata": {},
   "outputs": [
    {
     "data": {
      "text/plain": [
       "7484"
      ]
     },
     "execution_count": 98,
     "metadata": {},
     "output_type": "execute_result"
    }
   ],
   "source": [
    "df_txt[\"tool_ppal\"].isnull().sum()"
   ]
  },
  {
   "attachments": {},
   "cell_type": "markdown",
   "metadata": {},
   "source": [
    "# 15. Columna 15"
   ]
  },
  {
   "cell_type": "code",
   "execution_count": 99,
   "metadata": {},
   "outputs": [
    {
     "data": {
      "text/plain": [
       "Python                                                      4740\n",
       "Python, SQL                                                 2374\n",
       "Python, R, SQL                                              1160\n",
       "Python, R                                                    955\n",
       "Python, C++                                                  707\n",
       "                                                            ... \n",
       " R, SQL, C, Java, MATLAB                                       1\n",
       " R, SQL, C, Java                                               1\n",
       " R, C++, Java, Javascript, MATLAB                              1\n",
       "Python, R, SQL, C++, Javascript, Julia, MATLAB                 1\n",
       "Python, R, C, C++, Java, Javascript, Julia, Bash, MATLAB       1\n",
       "Name: l_utilizado, Length: 825, dtype: int64"
      ]
     },
     "execution_count": 99,
     "metadata": {},
     "output_type": "execute_result"
    }
   ],
   "source": [
    "df_txt[\"l_utilizado\"].value_counts()\n"
   ]
  },
  {
   "cell_type": "code",
   "execution_count": 100,
   "metadata": {},
   "outputs": [
    {
     "data": {
      "text/plain": [
       "array(['Python, R', ' SQL, C, C++, Java', 'Python, C++, Java', 'Python',\n",
       "       'Python, C, MATLAB', ' C++, Java, Javascript', 'Python, SQL',\n",
       "       'Python, R, SQL', 'Python, R, C++', 'Python, MATLAB',\n",
       "       'Python, C, C++, MATLAB', 'Python, SQL, C, Java, Javascript',\n",
       "       ' None', 'Python, R, SQL, C++', ' R', 'Python, SQL, C++',\n",
       "       'Python, R, SQL, C, C++, MATLAB', 'Python, C++', 'Python, C, C++',\n",
       "       'Python, Java', 'Python, C, C++, Java, Javascript, MATLAB',\n",
       "       'Python, Java, Javascript', 'Python, SQL, Java, Other',\n",
       "       'Python, SQL, Java', 'Python, C, C++, Other',\n",
       "       'Python, C++, MATLAB',\n",
       "       'Python, SQL, C, C++, Java, Javascript, MATLAB',\n",
       "       'Python, SQL, Java, Javascript, MATLAB, Other', ' R, SQL',\n",
       "       'Python, SQL, Other', ' SQL, Javascript, Bash', ' C++, Other',\n",
       "       'Python, SQL, C', ' C++', 'Python, SQL, Bash',\n",
       "       'Python, C, Javascript', 'Python, Javascript, Bash, MATLAB',\n",
       "       'Python, Javascript', ' SQL, Javascript', ' SQL, Java',\n",
       "       'Python, Bash', 'Python, SQL, C, C++, Javascript',\n",
       "       'Python, R, SQL, Javascript, Julia, Swift',\n",
       "       'Python, SQL, Javascript, Bash, Other', nan,\n",
       "       ' C++, Java, Javascript, Other',\n",
       "       'Python, SQL, C, Javascript, Other',\n",
       "       'Python, Java, Javascript, Bash', 'Python, Other',\n",
       "       'Python, SQL, Javascript, Other', ' SQL, C++',\n",
       "       'Python, R, SQL, Javascript, Bash', ' R, SQL, C++', ' R, C++',\n",
       "       'Python, SQL, Java, Javascript, Bash, Other', ' C, Java', ' Bash',\n",
       "       'Python, SQL, C++, Java', 'Python, C, Bash, MATLAB',\n",
       "       'Python, SQL, C, Javascript', ' C', 'Python, C++, Julia', ' SQL',\n",
       "       'Python, C, Java, Javascript',\n",
       "       'Python, R, SQL, C++, Javascript, MATLAB',\n",
       "       'Python, SQL, C, C++, Java', 'Python, R, C, C++, Javascript',\n",
       "       'Python, SQL, C, C++, MATLAB',\n",
       "       'Python, SQL, C, C++, MATLAB, Other',\n",
       "       'Python, SQL, Java, Javascript, Other', ' Other',\n",
       "       'Python, SQL, MATLAB, Other', 'Python, R, SQL, MATLAB',\n",
       "       'Python, SQL, Javascript', 'Python, C++, Bash',\n",
       "       ' SQL, Javascript, Other', 'Python, C++, Java, Javascript',\n",
       "       'Python, R, Java',\n",
       "       'Python, SQL, C, Java, Javascript, Swift, MATLAB',\n",
       "       'Python, SQL, C, C++, Java, MATLAB', ' R, Bash',\n",
       "       'Python, R, SQL, C, C++, Julia, Other', ' C, C++',\n",
       "       'Python, SQL, Java, Bash', 'Python, SQL, C, Bash',\n",
       "       'Python, R, Bash, Other', 'Python, C',\n",
       "       'Python, SQL, C, C++, Java, Javascript, Bash',\n",
       "       'Python, Javascript, Bash', 'Python, C, Bash',\n",
       "       'Python, SQL, C, C++, Java, Javascript',\n",
       "       'Python, Javascript, Other', 'Python, SQL, C++, Swift',\n",
       "       'Python, SQL, C++, Other', 'Python, SQL, Java, MATLAB',\n",
       "       ' C, MATLAB', 'Python, Swift',\n",
       "       'Python, R, SQL, Java, Javascript, Bash',\n",
       "       'Python, SQL, Javascript, Bash', 'Python, SQL, Java, Javascript',\n",
       "       'Python, C, C++, Java, Bash, MATLAB', ' MATLAB',\n",
       "       'Python, R, SQL, Bash', 'Python, R, SQL, C, C++',\n",
       "       'Python, Javascript, Swift, MATLAB', 'Python, C++, Other',\n",
       "       'Python, C, Java, Bash', ' R, Other',\n",
       "       'Python, R, SQL, Javascript, Other',\n",
       "       'Python, SQL, C, Java, Javascript, Bash', 'Python, R, SQL, Other',\n",
       "       'Python, R, Javascript', 'Python, R, Bash',\n",
       "       'Python, SQL, C++, Javascript', 'Python, R, SQL, C, C++, Bash',\n",
       "       'Python, R, Julia', 'Python, R, Other', ' SQL, MATLAB, Other',\n",
       "       ' C, C++, Javascript, Other',\n",
       "       'Python, SQL, C, Javascript, Julia, Bash',\n",
       "       'Python, C++, Javascript',\n",
       "       'Python, R, C, C++, Bash, MATLAB, Other', 'Python, SQL, MATLAB',\n",
       "       'Python, Java, MATLAB',\n",
       "       'Python, R, SQL, C, C++, Java, Javascript, Bash', ' R, SQL, Other',\n",
       "       'Python, SQL, C++, Java, MATLAB',\n",
       "       'Python, R, C, C++, Java, MATLAB', 'Python, R, SQL, Javascript',\n",
       "       'Python, R, SQL, C', 'Python, Javascript, MATLAB',\n",
       "       'Python, R, MATLAB', 'Python, MATLAB, Other',\n",
       "       'Python, C, C++, Java', 'Python, R, C, C++, Javascript, Bash',\n",
       "       'Python, SQL, C, C++', 'Python, SQL, C++, Java, Javascript, Bash',\n",
       "       'Python, R, SQL, C, C++, Javascript, Bash',\n",
       "       'Python, SQL, Java, Javascript, Swift',\n",
       "       'Python, R, SQL, C++, MATLAB', ' Java', 'Python, SQL, Bash, Other',\n",
       "       'Python, C, Java', 'Python, SQL, C, C++, Bash, Other',\n",
       "       'Python, SQL, C, Java, Javascript, Other', ' Javascript',\n",
       "       'Python, SQL, C, Java', ' Java, Javascript',\n",
       "       'Python, SQL, C++, Java, Bash', ' Java, Other',\n",
       "       ' SQL, Javascript, Swift, Other', ' R, SQL, C, MATLAB',\n",
       "       'Python, Julia', 'Python, R, C, C++',\n",
       "       'Python, R, SQL, Java, Javascript, Julia', ' R, MATLAB',\n",
       "       'Python, C, Julia, MATLAB', 'Python, C, Bash, Other',\n",
       "       ' C, C++, Java', 'Python, SQL, C, C++, Java, Javascript, Other',\n",
       "       'Python, SQL, Javascript, MATLAB',\n",
       "       'Python, C, C++, Javascript, Julia, Bash',\n",
       "       'Python, SQL, C++, Bash, MATLAB',\n",
       "       'Python, SQL, C, C++, Java, Bash', ' C, C++, MATLAB', ' C++, Java',\n",
       "       'Python, Java, Other', 'Python, R, Java, Javascript',\n",
       "       'Python, R, SQL, C, C++, Javascript, Other',\n",
       "       ' SQL, C, C++, MATLAB', ' SQL, C, Javascript, Other',\n",
       "       'Python, C++, Java, Swift', 'Python, C++, Javascript, Bash',\n",
       "       'Python, SQL, C++, Javascript, Bash',\n",
       "       'Python, R, SQL, Javascript, Julia, Bash, MATLAB, Other',\n",
       "       'Python, C, C++, Javascript', 'Python, R, SQL, Javascript, MATLAB',\n",
       "       'Python, R, SQL, C++, Java, Javascript, MATLAB',\n",
       "       'Python, C++, Java, MATLAB', ' SQL, Other',\n",
       "       'Python, C, C++, Java, Javascript', 'Python, SQL, C, Java, Other',\n",
       "       'Python, C, Java, Javascript, MATLAB', ' R, MATLAB, Other',\n",
       "       'Python, R, SQL, C, C++, Java, Javascript, MATLAB', ' C++, MATLAB',\n",
       "       'Python, R, SQL, Javascript, Bash, MATLAB',\n",
       "       'Python, R, C, C++, MATLAB', ' Javascript, Other',\n",
       "       'Python, R, SQL, C++, Java', 'Python, C, Javascript, Bash, MATLAB',\n",
       "       'Python, SQL, Java, Javascript, Bash',\n",
       "       'Python, C, C++, Javascript, MATLAB', 'Python, Javascript, Julia',\n",
       "       'Python, C, C++, Java, MATLAB', 'Python, Java, Bash',\n",
       "       'Python, C, C++, Java, Javascript, Other',\n",
       "       'Python, R, Java, Other', ' SQL, Java, Javascript',\n",
       "       'Python, C, Javascript, Other', ' C++, Julia, Other',\n",
       "       'Python, R, SQL, C, C++, Java, Javascript',\n",
       "       'Python, SQL, Javascript, Bash, MATLAB',\n",
       "       'Python, R, SQL, Java, Javascript, MATLAB',\n",
       "       'Python, R, SQL, C, C++, Java', ' Java, Bash, Other',\n",
       "       'Python, R, SQL, Java, Javascript', 'Python, R, SQL, Java',\n",
       "       ' SQL, C, Java, MATLAB', 'Python, SQL, C, MATLAB',\n",
       "       'Python, R, SQL, C, MATLAB', 'Python, SQL, C, C++, Java, Other',\n",
       "       'Python, C, Java, MATLAB', 'Python, R, C++, MATLAB',\n",
       "       'Python, C++, Javascript, MATLAB',\n",
       "       'Python, R, SQL, Java, Javascript, Bash, Other',\n",
       "       ' SQL, Java, Other', 'Python, SQL, Java, MATLAB, Other',\n",
       "       'Python, SQL, C, C++, Javascript, Bash',\n",
       "       ' R, SQL, Java, Javascript', ' SQL, C, C++, Java, Javascript',\n",
       "       'Python, R, SQL, C, C++, Java, Javascript, MATLAB, Other',\n",
       "       'Python, SQL, C, C++, Java, Javascript, Bash, Other',\n",
       "       'Python, Bash, Other', 'Python, R, SQL, Java, Bash, MATLAB',\n",
       "       'Python, R, SQL, C, Java, Javascript, Bash',\n",
       "       ' SQL, C, C++, Java, MATLAB', 'Python, C, Javascript, MATLAB',\n",
       "       'Python, SQL, C, C++, Bash, MATLAB',\n",
       "       'Python, Java, Javascript, Other',\n",
       "       ' C, C++, Javascript, Bash, Other', 'Python, SQL, C, Java, MATLAB',\n",
       "       'Python, R, SQL, C++, Java, Javascript', 'Python, C, C++, Bash',\n",
       "       ' R, Javascript', 'Python, R, C++, Javascript',\n",
       "       'Python, SQL, C, Java, Javascript, MATLAB',\n",
       "       ' SQL, Java, Javascript, Swift',\n",
       "       'Python, R, SQL, C, C++, Java, Javascript, Julia, Swift, Bash, MATLAB',\n",
       "       ' R, SQL, C++, Other', 'Python, SQL, C++, Bash',\n",
       "       'Python, SQL, C, C++, Javascript, Bash, MATLAB',\n",
       "       'Python, C, Java, Other',\n",
       "       'Python, R, SQL, C, C++, Java, Javascript, Swift, MATLAB',\n",
       "       ' R, Swift', ' R, C, C++, Java', 'Python, Java, Swift, Other',\n",
       "       'Python, R, C', 'Python, C++, Java, Bash', 'Python, C, Swift',\n",
       "       'Python, C++, Julia, MATLAB',\n",
       "       'Python, R, SQL, C++, Java, Javascript, Swift, MATLAB',\n",
       "       'Python, R, SQL, Bash, Other',\n",
       "       'Python, SQL, C, C++, Java, Javascript, Bash, MATLAB',\n",
       "       'Python, R, SQL, C, C++, Java, MATLAB',\n",
       "       'Python, SQL, C, C++, Javascript, Other',\n",
       "       'Python, R, C, Java, Bash', 'Python, C, Javascript, Swift, Other',\n",
       "       'Python, R, C, Java', 'Python, C, C++, Bash, MATLAB',\n",
       "       'Python, R, SQL, C++, Other', 'Python, SQL, C++, MATLAB',\n",
       "       'Python, C++, Java, Other', 'Python, SQL, C++, Java, Javascript',\n",
       "       'Python, C, C++, Javascript, Julia, Swift',\n",
       "       'Python, R, SQL, Java, Javascript, Swift',\n",
       "       'Python, R, SQL, Java, Javascript, Other',\n",
       "       'Python, SQL, C, C++, Java, Javascript, Swift, Bash, MATLAB',\n",
       "       'Python, R, SQL, C, C++, Java, Julia, MATLAB, Other',\n",
       "       'Python, SQL, C, C++, Javascript, Bash, Other', ' R, Java, MATLAB',\n",
       "       'Python, R, SQL, C, Julia, Other',\n",
       "       'Python, R, SQL, C, C++, Swift, Bash', ' Bash, MATLAB',\n",
       "       ' SQL, C, Javascript',\n",
       "       'Python, R, SQL, C, C++, Java, Javascript, Bash, Other',\n",
       "       'Python, R, SQL, C, Java', ' R, SQL, C++, MATLAB',\n",
       "       'Python, SQL, Java, Bash, Other', 'Python, R, C, Other',\n",
       "       ' C, Other',\n",
       "       'Python, R, SQL, C, C++, Javascript, Julia, Bash, MATLAB',\n",
       "       'Python, R, SQL, C, C++, Java, Javascript, Bash, MATLAB',\n",
       "       ' C, C++, Java, Javascript', ' Javascript, Swift, Other',\n",
       "       'Python, SQL, C, C++, Swift', 'Python, R, Julia, MATLAB',\n",
       "       'Python, Javascript, Julia, Bash',\n",
       "       'Python, SQL, Java, Javascript, Bash, MATLAB',\n",
       "       'Python, R, SQL, Julia, Bash', 'Python, SQL, C, C++, Bash',\n",
       "       'Python, R, C, Java, Swift, Bash, MATLAB',\n",
       "       'Python, SQL, C, Javascript, Bash, MATLAB', ' Swift',\n",
       "       'Python, SQL, Java, Javascript, MATLAB',\n",
       "       'Python, C, C++, Javascript, Bash',\n",
       "       'Python, R, SQL, C, Javascript, MATLAB',\n",
       "       'Python, SQL, C, C++, Javascript, MATLAB', 'Python, R, SQL, Julia',\n",
       "       'Python, R, SQL, C, Java, Javascript, Bash, MATLAB',\n",
       "       ' R, SQL, C, Java, MATLAB', ' R, C++, Other',\n",
       "       ' R, C++, Java, Javascript, MATLAB',\n",
       "       'Python, Javascript, Bash, Other', ' SQL, Java, Javascript, Other',\n",
       "       'Python, SQL, C++, Javascript, Bash, Other', ' SQL, C++, Java',\n",
       "       ' SQL, C, C++', ' SQL, Bash', 'Python, R, Java, MATLAB',\n",
       "       'Python, R, SQL, C, Java, Bash, MATLAB',\n",
       "       'Python, R, C, MATLAB, Other',\n",
       "       'Python, SQL, C++, Java, Javascript, MATLAB',\n",
       "       'Python, R, SQL, Java, Javascript, Swift, Bash',\n",
       "       ' SQL, C, C++, Java, Other', ' R, C', 'Python, R, C++, Bash',\n",
       "       'Python, R, C, C++, Julia, MATLAB',\n",
       "       'Python, C, Javascript, MATLAB, Other', ' SQL, C, C++, Javascript',\n",
       "       'Python, SQL, Swift, MATLAB',\n",
       "       'Python, SQL, C++, Java, Javascript, Other',\n",
       "       'Python, R, SQL, C, C++, Julia, Bash, MATLAB',\n",
       "       ' R, SQL, C, Javascript, Bash', 'Python, R, C, Bash, MATLAB',\n",
       "       'Python, SQL, C, C++, Other',\n",
       "       'Python, C, C++, Java, Javascript, Julia, Bash', ' MATLAB, Other',\n",
       "       'Python, SQL, C++, Java, Swift',\n",
       "       'Python, R, SQL, C, Java, Javascript',\n",
       "       'Python, R, C++, Java, Bash', 'Python, R, SQL, C, Javascript',\n",
       "       'Python, C, Javascript, Bash', ' SQL, C++, Java, Other',\n",
       "       'Python, R, C, MATLAB', ' R, Java', 'Python, Julia, MATLAB',\n",
       "       'Python, C, Other',\n",
       "       'Python, R, SQL, C, C++, Java, Javascript, Other',\n",
       "       'Python, SQL, Javascript, MATLAB, Other',\n",
       "       'Python, SQL, C++, Javascript, MATLAB', 'Python, R, SQL, C, Bash',\n",
       "       ' SQL, Java, Bash', 'Python, SQL, Javascript, Swift, Other',\n",
       "       'Python, SQL, C++, Javascript, Other',\n",
       "       'Python, R, SQL, C++, Javascript, Swift, Other',\n",
       "       'Python, R, SQL, Swift', 'Python, R, SQL, C++, Bash',\n",
       "       ' SQL, C, C++, Javascript, Other',\n",
       "       'Python, SQL, C, C++, Java, Javascript, Bash, MATLAB, Other',\n",
       "       'Python, R, SQL, C, C++, Java, Bash',\n",
       "       'Python, C++, Javascript, Other', ' SQL, C, MATLAB',\n",
       "       ' SQL, C++, Javascript, MATLAB, Other',\n",
       "       'Python, R, C, C++, Java, Javascript',\n",
       "       'Python, SQL, C, C++, Javascript, Swift, MATLAB, Other',\n",
       "       ' C, C++, Javascript, MATLAB', 'Python, R, SQL, MATLAB, Other',\n",
       "       ' SQL, C++, Java, Javascript',\n",
       "       'Python, R, SQL, C++, Java, Javascript, Other',\n",
       "       'Python, R, SQL, Bash, MATLAB',\n",
       "       'Python, SQL, C, C++, Javascript, Swift',\n",
       "       'Python, R, SQL, Javascript, Bash, Other', ' R, SQL, Java',\n",
       "       'Python, SQL, Bash, MATLAB', 'Python, R, SQL, Julia, MATLAB',\n",
       "       'Python, Java, Bash, Other', ' SQL, C, Java, Bash, Other',\n",
       "       'Python, R, C, C++, Bash', ' C, C++, Javascript', ' SQL, C, Java',\n",
       "       'Python, R, SQL, C++, Javascript',\n",
       "       'Python, R, SQL, C++, Java, Julia, MATLAB',\n",
       "       'Python, SQL, C++, Java, Bash, Other',\n",
       "       'Python, SQL, C, C++, Java, Javascript, Swift',\n",
       "       'Python, R, Java, MATLAB, Other', ' C++, Javascript, Other',\n",
       "       'Python, R, C++, Julia, Bash', 'Python, R, Javascript, Bash',\n",
       "       'Python, SQL, C, Javascript, Bash',\n",
       "       'Python, R, SQL, C, C++, Other',\n",
       "       'Python, R, C, C++, Javascript, Other', ' C, Javascript',\n",
       "       ' SQL, Java, Bash, Other', 'Python, R, Java, Javascript, MATLAB',\n",
       "       'Python, SQL, C, C++, Java, Javascript, MATLAB, Other',\n",
       "       'Python, R, C++, Bash, Other',\n",
       "       'Python, SQL, C++, Java, Swift, MATLAB', ' SQL, Swift, Other',\n",
       "       'Python, R, Java, Swift, Bash',\n",
       "       'Python, R, SQL, C, C++, Java, Javascript, Bash, MATLAB, Other',\n",
       "       ' SQL, C', 'Python, C++, Java, Javascript, MATLAB',\n",
       "       ' Java, Javascript, Bash', ' Javascript, Bash', ' R, C, C++',\n",
       "       'Python, Swift, Other', 'Python, Java, Javascript, MATLAB',\n",
       "       'Python, R, SQL, C, C++, Java, Javascript, Swift, Bash',\n",
       "       'Python, R, SQL, C, C++, Java, Javascript, Julia, MATLAB',\n",
       "       'Python, C++, Javascript, Bash, MATLAB',\n",
       "       ' SQL, C, C++, Javascript, MATLAB',\n",
       "       'Python, R, SQL, Javascript, Julia, Bash', ' R, SQL, C++, Java',\n",
       "       'Python, SQL, C++, Julia',\n",
       "       'Python, SQL, C, Java, Javascript, Julia', 'Python, Julia, Other',\n",
       "       'Python, SQL, Javascript, Julia',\n",
       "       'Python, SQL, C, Javascript, Bash, Other', 'Python, R, C++, Other',\n",
       "       ' SQL, C, Java, Javascript', 'Python, R, SQL, C, Java, MATLAB',\n",
       "       'Python, C++, Java, Swift, Bash', 'Python, SQL, Swift, Bash',\n",
       "       ' R, Java, Other', 'Python, R, SQL, C, C++, Javascript',\n",
       "       'Python, C, C++, Javascript, Bash, Other', ' R, SQL, MATLAB',\n",
       "       ' R, SQL, Javascript',\n",
       "       'Python, R, SQL, C, C++, Javascript, MATLAB, Other',\n",
       "       'Python, SQL, C, Javascript, Swift',\n",
       "       'Python, SQL, C++, Java, Other', 'Python, R, SQL, C++, Julia',\n",
       "       'Python, SQL, C, C++, Swift, MATLAB',\n",
       "       'Python, Java, Javascript, Bash, Other',\n",
       "       'Python, R, SQL, Java, Bash',\n",
       "       'Python, R, SQL, C, C++, Java, MATLAB, Other',\n",
       "       'Python, R, SQL, C, C++, Java, Javascript, Julia, Bash, MATLAB',\n",
       "       'Python, R, SQL, C++, Javascript, Bash',\n",
       "       'Python, SQL, Java, Swift', 'Python, R, Java, Bash',\n",
       "       'Python, R, C, C++, Java, Javascript, Bash',\n",
       "       'Python, R, SQL, C, C++, Javascript, MATLAB', ' Julia',\n",
       "       ' C++, Java, Javascript, Swift',\n",
       "       'Python, R, SQL, C, C++, Bash, MATLAB',\n",
       "       'Python, R, SQL, C, C++, Java, Swift',\n",
       "       'Python, R, SQL, C, Java, Javascript, Swift, MATLAB',\n",
       "       ' R, SQL, Bash', 'Python, C, C++, Javascript, Swift, Other',\n",
       "       ' C, C++, Julia', 'Python, R, SQL, Java, MATLAB',\n",
       "       'Python, R, C, C++, Java, Javascript, MATLAB',\n",
       "       'Python, R, SQL, C, C++, Javascript, Swift, MATLAB, Other',\n",
       "       'Python, Julia, Bash', ' R, SQL, C, Java, Javascript',\n",
       "       'Python, Javascript, Swift, Other',\n",
       "       'Python, R, Javascript, MATLAB',\n",
       "       'Python, SQL, C, C++, Swift, Bash, MATLAB',\n",
       "       'Python, R, SQL, Java, Javascript, Bash, MATLAB',\n",
       "       'Python, C, C++, MATLAB, Other',\n",
       "       'Python, R, SQL, C++, Java, MATLAB', 'Python, Bash, MATLAB',\n",
       "       ' SQL, C, Java, Javascript, Other', 'Python, R, Swift',\n",
       "       'Python, SQL, Java, Julia', 'Python, SQL, C++, Java, Julia',\n",
       "       'Python, R, Bash, MATLAB', 'Python, C++, Swift',\n",
       "       ' R, C, Bash, MATLAB', ' R, SQL, Bash, MATLAB',\n",
       "       ' R, Javascript, Other', ' SQL, C++, MATLAB', ' R, Julia, MATLAB',\n",
       "       'Python, R, C++, Bash, MATLAB',\n",
       "       'Python, C, Java, Javascript, Other',\n",
       "       'Python, SQL, C, C++, Javascript, Bash, MATLAB, Other',\n",
       "       'Python, R, Javascript, Bash, Other', ' R, Java, Javascript',\n",
       "       ' C, C++, Swift, Bash', 'Python, C, MATLAB, Other',\n",
       "       'Python, R, Java, Julia, MATLAB', 'Python, C, C++, Bash, Other',\n",
       "       'Python, R, C, C++, Javascript, Julia', 'Python, SQL, Swift',\n",
       "       ' Java, Javascript, Other', ' C, Java, MATLAB',\n",
       "       'Python, R, SQL, C, C++, Java, Bash, MATLAB',\n",
       "       'Python, R, C++, Java', ' Julia, Swift, MATLAB',\n",
       "       'Python, R, SQL, C++, Julia, MATLAB', 'Python, Swift, Bash',\n",
       "       ' SQL, Javascript, Bash, Other', 'Python, R, C++, MATLAB, Other',\n",
       "       'Python, R, SQL, C, Java, Javascript, Julia, Bash',\n",
       "       'Python, R, SQL, C++, Java, Bash',\n",
       "       'Python, SQL, Java, Julia, MATLAB',\n",
       "       'Python, R, SQL, C, C++, Javascript, Bash, MATLAB',\n",
       "       'Python, R, SQL, C++, Java, Javascript, Swift, Bash, MATLAB',\n",
       "       ' SQL, Java, Javascript, Bash',\n",
       "       'Python, C, C++, Java, Javascript, MATLAB, Other',\n",
       "       'Python, SQL, C, Javascript, MATLAB', ' C, C++, MATLAB, Other',\n",
       "       ' SQL, Javascript, Swift', ' Swift, Other',\n",
       "       'Python, SQL, C, C++, Javascript, Julia, MATLAB',\n",
       "       'Python, R, C, C++, Java', ' R, SQL, C, C++',\n",
       "       ' R, SQL, C++, Javascript, MATLAB, Other',\n",
       "       ' R, SQL, C, C++, Other', 'Python, R, C, Java, Javascript',\n",
       "       'Python, R, SQL, C++, Bash, MATLAB',\n",
       "       'Python, R, C, C++, Bash, MATLAB', ' SQL, C, C++, Other',\n",
       "       'Python, SQL, C, Java, Bash, Other', ' C++, Java, MATLAB',\n",
       "       'Python, SQL, Java, Javascript, Swift, Bash, Other',\n",
       "       'Python, Julia, MATLAB, Other',\n",
       "       'Python, R, Java, Javascript, Swift',\n",
       "       'Python, SQL, Javascript, Julia, Bash',\n",
       "       'Python, R, Javascript, Other',\n",
       "       'Python, R, SQL, C, C++, Java, Javascript, Julia, Bash',\n",
       "       ' R, C, Other', 'Python, R, SQL, Javascript, Julia',\n",
       "       'Python, SQL, C, Other', 'Python, R, Swift, MATLAB',\n",
       "       'Python, R, SQL, Julia, Bash, Other',\n",
       "       'Python, R, SQL, Swift, MATLAB', ' SQL, C++, Java, Bash',\n",
       "       'Python, C, Javascript, Bash, Other',\n",
       "       'Python, SQL, Javascript, Julia, Bash, Other',\n",
       "       'Python, C, C++, Java, Other',\n",
       "       'Python, C, C++, Java, Javascript, Bash', ' C, Java, Other',\n",
       "       ' C++, MATLAB, Other', 'Python, SQL, Julia',\n",
       "       'Python, C++, Julia, Swift, Bash', ' SQL, C++, Java, MATLAB',\n",
       "       ' SQL, Bash, Other', 'Python, C++, Java, Javascript, Bash',\n",
       "       'Python, R, SQL, C, C++, Java, Javascript, Swift',\n",
       "       'Python, R, SQL, Java, Swift, Bash', ' SQL, C, Other',\n",
       "       'Python, C, C++, Javascript, Other',\n",
       "       'Python, R, SQL, Java, Bash, Other',\n",
       "       ' SQL, C++, Javascript, Other',\n",
       "       'Python, R, SQL, C, Java, Javascript, MATLAB, Other',\n",
       "       'Python, C++, Java, Javascript, Other',\n",
       "       'Python, R, SQL, C, Java, Bash, MATLAB, Other',\n",
       "       'Python, R, C++, Javascript, Swift', 'Python, R, C, C++, Other',\n",
       "       'Python, R, SQL, C, Bash, Other', ' C++, Javascript',\n",
       "       'Python, C++, MATLAB, Other', ' Javascript, Bash, Other',\n",
       "       ' Javascript, MATLAB', ' R, C, C++, Other',\n",
       "       'Python, R, C, Java, MATLAB',\n",
       "       'Python, SQL, C, C++, Java, Javascript, Julia, Bash',\n",
       "       'Python, R, SQL, C, C++, MATLAB, Other',\n",
       "       'Python, R, SQL, C, Java, Javascript, Other',\n",
       "       'Python, SQL, C++, Swift, Bash', ' SQL, C, Bash, Other',\n",
       "       ' R, C, C++, Java, Javascript, MATLAB',\n",
       "       'Python, R, SQL, C, Java, Javascript, MATLAB', ' Java, Bash',\n",
       "       ' R, C, C++, Java, Javascript, Other',\n",
       "       'Python, SQL, C++, Java, Javascript, Swift, Bash',\n",
       "       'Python, C, Java, Javascript, Bash',\n",
       "       'Python, SQL, C, C++, Java, Bash, Other',\n",
       "       'Python, Javascript, Bash, MATLAB, Other',\n",
       "       'Python, R, SQL, Java, Swift', 'Python, R, SQL, Java, Julia',\n",
       "       ' R, SQL, Javascript, Other', ' Bash, Other',\n",
       "       'Python, R, SQL, Julia, Other',\n",
       "       'Python, SQL, C, C++, Julia, MATLAB',\n",
       "       'Python, R, SQL, Java, Other', ' R, C, C++, MATLAB',\n",
       "       'Python, SQL, C, Java, Bash, MATLAB',\n",
       "       'Python, C, Java, Bash, Other',\n",
       "       'Python, R, SQL, C++, Java, Bash, Other',\n",
       "       ' R, SQL, C, C++, MATLAB, Other', ' R, C++, Javascript',\n",
       "       ' SQL, C, C++, Swift, MATLAB', ' C++, Bash',\n",
       "       ' SQL, Java, Javascript, MATLAB',\n",
       "       'Python, R, SQL, C, C++, Java, Swift, MATLAB',\n",
       "       ' C, C++, Java, MATLAB', ' SQL, C++, Java, Javascript, Swift',\n",
       "       ' SQL, MATLAB', ' R, SQL, C', ' R, SQL, Bash, Other',\n",
       "       'Python, R, SQL, C, Java, Bash', ' R, SQL, Javascript, Bash',\n",
       "       'Python, SQL, Javascript, Swift',\n",
       "       'Python, C, Java, Javascript, Julia', 'Python, C++, Bash, MATLAB',\n",
       "       'Python, C, Bash, MATLAB, Other', ' SQL, C++, Javascript',\n",
       "       'Python, C, C++, Java, Bash', 'Python, R, MATLAB, Other',\n",
       "       'Python, SQL, C++, Java, Javascript, MATLAB, Other',\n",
       "       ' SQL, C++, Java, Javascript, MATLAB', 'Python, C++, Julia, Bash',\n",
       "       'Python, SQL, Julia, Bash',\n",
       "       'Python, SQL, C, C++, Bash, MATLAB, Other',\n",
       "       'Python, SQL, Swift, Other', 'Python, SQL, C, Bash, MATLAB',\n",
       "       ' C, C++, Bash', ' C, Javascript, Other',\n",
       "       'Python, C++, Java, Julia, MATLAB', ' R, C, C++, Java, Javascript',\n",
       "       'Python, SQL, C++, Java, Julia, Bash',\n",
       "       'Python, R, SQL, C, Javascript, Other',\n",
       "       'Python, C, C++, Java, Javascript, Swift, MATLAB',\n",
       "       'Python, R, Java, Javascript, Bash',\n",
       "       'Python, Java, Javascript, Bash, MATLAB',\n",
       "       'Python, SQL, Java, Bash, MATLAB', ' Java, Bash, MATLAB',\n",
       "       'Python, R, SQL, C, Bash, MATLAB, Other',\n",
       "       'Python, SQL, Java, Javascript, Julia', ' C++, Java, Other',\n",
       "       'Python, R, SQL, C++, Javascript, Julia, MATLAB',\n",
       "       'Python, C, C++, Bash, MATLAB, Other', ' R, SQL, C, Java',\n",
       "       'Python, R, C, C++, Javascript, MATLAB', 'Python, C, C++, Julia',\n",
       "       'Python, Java, Swift',\n",
       "       'Python, R, SQL, Javascript, Julia, Bash, Other',\n",
       "       'Python, R, SQL, C, C++, Julia', 'Python, SQL, C, Swift',\n",
       "       'Python, SQL, C, C++, Java, Javascript, Julia',\n",
       "       'Python, SQL, Swift, Bash, Other',\n",
       "       'Python, R, SQL, C, C++, Java, Javascript, Swift, Bash, MATLAB',\n",
       "       ' C, Java, Javascript', 'Python, R, SQL, C, C++, Java, Other',\n",
       "       'Python, SQL, C++, Javascript, MATLAB, Other',\n",
       "       'Python, R, C, C++, Java, MATLAB, Other', ' C, C++, Java, Other',\n",
       "       'Python, SQL, C++, Java, Javascript, Bash, MATLAB',\n",
       "       ' SQL, C++, Javascript, Julia, Bash, Other',\n",
       "       'Python, R, SQL, C++, MATLAB, Other',\n",
       "       'Python, R, SQL, C, C++, Swift, Bash, Other',\n",
       "       'Python, SQL, C, C++, Java, Javascript, Swift, Bash, Other',\n",
       "       'Python, R, SQL, Swift, Bash, MATLAB, Other',\n",
       "       'Python, R, SQL, C++, Java, Javascript, Bash',\n",
       "       'Python, Java, Javascript, Swift',\n",
       "       'Python, C++, Java, Bash, Other',\n",
       "       'Python, C, C++, Javascript, Julia, MATLAB',\n",
       "       'Python, SQL, C, Java, Julia, Bash, MATLAB',\n",
       "       'Python, C, C++, Swift', ' SQL, C, C++, Java, Julia',\n",
       "       'Python, R, C, Swift, Bash',\n",
       "       'Python, R, SQL, C, C++, Julia, Swift, Bash', ' R, Bash, MATLAB',\n",
       "       ' R, Julia', ' SQL, Java, Swift',\n",
       "       'Python, R, SQL, C, C++, Java, Javascript, Julia, Swift, Bash, MATLAB, Other',\n",
       "       'Python, R, Julia, Bash', ' R, C++, Java, Javascript',\n",
       "       ' SQL, C++, Javascript, MATLAB', ' SQL, C, Javascript, Bash',\n",
       "       ' R, SQL, C, C++, Java, Javascript, Bash, Other',\n",
       "       'Python, R, C, C++, Julia, Bash',\n",
       "       'Python, R, C++, Java, Javascript, Swift, MATLAB',\n",
       "       'Python, SQL, C++, Java, Javascript, Julia, Bash, Other',\n",
       "       'Python, C, Julia, Other', ' R, Java, Swift',\n",
       "       'Python, Javascript, Swift', 'Python, R, C, Javascript',\n",
       "       ' Java, MATLAB', ' SQL, Javascript, MATLAB', ' C, Bash',\n",
       "       'Python, R, SQL, C++, Javascript, Julia',\n",
       "       'Python, R, SQL, C, C++, Java, Bash, Other',\n",
       "       ' C++, Java, Bash, MATLAB',\n",
       "       'Python, R, SQL, Java, Javascript, Julia, MATLAB',\n",
       "       'Python, R, SQL, Julia, Bash, MATLAB',\n",
       "       'Python, C, C++, Javascript, Bash, MATLAB',\n",
       "       ' R, SQL, C, C++, Java', ' Julia, Other',\n",
       "       'Python, SQL, C, Java, Bash',\n",
       "       'Python, R, Javascript, Julia, Bash, Other', ' C, Bash, Other',\n",
       "       'Python, R, SQL, C++, Julia, Bash',\n",
       "       'Python, R, SQL, C, Java, Javascript, Swift',\n",
       "       'Python, SQL, Javascript, Bash, MATLAB, Other',\n",
       "       'Python, R, Julia, Bash, MATLAB',\n",
       "       'Python, Javascript, MATLAB, Other', ' R, C, Javascript, Other',\n",
       "       'Python, C, Java, Javascript, Bash, Other',\n",
       "       ' R, C, C++, Java, Julia, Other',\n",
       "       'Python, SQL, C, Java, Javascript, MATLAB, Other',\n",
       "       ' Julia, Bash, Other', 'Python, R, Java, Javascript, Bash, Other',\n",
       "       'Python, R, C++, Julia, Bash, MATLAB',\n",
       "       'Python, SQL, C++, Bash, Other',\n",
       "       'Python, SQL, C, C++, Java, Bash, MATLAB',\n",
       "       'Python, R, SQL, C, Java, MATLAB, Other',\n",
       "       'Python, C, C++, Java, Javascript, Julia, MATLAB',\n",
       "       'Python, SQL, C, C++, Java, MATLAB, Other',\n",
       "       'Python, SQL, Java, Javascript, Swift, Other',\n",
       "       'Python, C, Java, Swift', 'Python, SQL, Bash, MATLAB, Other',\n",
       "       ' SQL, C, C++, MATLAB, Other', ' R, C, C++, MATLAB, Other',\n",
       "       'Python, C, Julia, Bash, MATLAB, Other',\n",
       "       'Python, R, SQL, C, C++, Javascript, Swift',\n",
       "       'Python, SQL, C, Julia, Bash',\n",
       "       'Python, R, SQL, C, C++, Java, Javascript, Julia',\n",
       "       ' R, SQL, Java, Javascript, Bash, Other', ' SQL, C, Java, Bash',\n",
       "       ' SQL, Swift', 'Python, R, C++, Java, Javascript',\n",
       "       'Python, R, SQL, C, C++, Java, Javascript, Julia, Swift',\n",
       "       'Python, R, C, C++, Javascript, Bash, MATLAB',\n",
       "       'Python, SQL, Javascript, Julia, Other',\n",
       "       'Python, C++, Swift, MATLAB', ' R, C++, Bash',\n",
       "       'Python, SQL, C++, Javascript, Bash, MATLAB',\n",
       "       'Python, R, C, C++, Java, Bash, MATLAB',\n",
       "       'Python, R, SQL, C, Bash, MATLAB', 'Python, Swift, MATLAB',\n",
       "       ' SQL, C++, Julia, Swift, MATLAB', ' Java, Julia, Bash, Other',\n",
       "       'Python, R, SQL, Java, Javascript, Julia, Bash, Other',\n",
       "       'Python, SQL, C, C++, Java, Javascript, Swift, Bash',\n",
       "       'Python, R, SQL, Java, Bash, MATLAB, Other',\n",
       "       ' R, SQL, MATLAB, Other', ' SQL, Java, Javascript, MATLAB, Other',\n",
       "       'Python, R, C++, Javascript, Bash', ' R, Javascript, Bash, Other',\n",
       "       'Python, R, SQL, Java, Julia, MATLAB',\n",
       "       'Python, SQL, Javascript, Swift, Bash',\n",
       "       'Python, SQL, C, C++, Java, Swift',\n",
       "       'Python, C++, Java, Bash, MATLAB', ' R, Javascript, Swift, Other',\n",
       "       'Python, SQL, C++, Java, Javascript, Julia',\n",
       "       'Python, Java, Javascript, Julia, Bash, Other',\n",
       "       ' SQL, C, C++, Java, MATLAB, Other', ' SQL, C, Java, Swift, Bash',\n",
       "       'Python, R, SQL, C, Julia, MATLAB',\n",
       "       ' SQL, C++, Javascript, Swift, Bash', ' SQL, Java, MATLAB',\n",
       "       'Python, R, SQL, Java, Julia, Other',\n",
       "       'Python, R, SQL, C, Java, Javascript, Swift, Bash, Other',\n",
       "       'Python, R, C, Java, Javascript, Bash, Other',\n",
       "       'Python, R, SQL, Javascript, Swift, Other',\n",
       "       'Python, Java, Javascript, Julia, MATLAB, Other',\n",
       "       'Python, C, C++, Java, Javascript, Bash, Other',\n",
       "       'Python, C++, Java, MATLAB, Other', ' R, C++, Java',\n",
       "       'Python, SQL, C, Java, Javascript, Swift, Bash',\n",
       "       ' SQL, C++, Other',\n",
       "       'Python, R, SQL, C, C++, Java, Javascript, Julia, Bash, MATLAB, Other',\n",
       "       'Python, SQL, C, Swift, Bash',\n",
       "       'Python, R, C++, Java, Javascript, MATLAB',\n",
       "       'Python, R, C++, Java, MATLAB',\n",
       "       'Python, SQL, C++, Julia, MATLAB, Other',\n",
       "       'Python, C, C++, Julia, MATLAB', ' R, C, Java',\n",
       "       ' SQL, C, C++, Java, Bash', 'Python, SQL, C, Java, MATLAB, Other',\n",
       "       'Python, R, C, Swift, Bash, Other',\n",
       "       'Python, R, SQL, C, C++, Java, Javascript, Julia, Swift, MATLAB',\n",
       "       'Python, SQL, C++, Java, Julia, MATLAB, Other', 'Python, C, Julia',\n",
       "       'Python, C, C++, Java, Javascript, Swift',\n",
       "       'Python, R, SQL, C, C++, Java, Javascript, Swift, Bash, MATLAB, Other',\n",
       "       ' R, SQL, C, C++, Java, Javascript', 'Python, SQL, Julia, Other',\n",
       "       'Python, C++, Bash, Other',\n",
       "       'Python, SQL, C++, Java, Swift, Bash, MATLAB',\n",
       "       'Python, SQL, C, C++, Javascript, MATLAB, Other',\n",
       "       'Python, R, SQL, C++, Swift',\n",
       "       'Python, R, C, C++, Java, Swift, Other',\n",
       "       'Python, R, SQL, C++, Java, Other', ' R, SQL, C, Bash',\n",
       "       'Python, C++, Java, Julia, Bash',\n",
       "       'Python, Javascript, Julia, MATLAB',\n",
       "       'Python, C, C++, Julia, Other', 'Python, R, C, C++, Julia',\n",
       "       ' SQL, C, Java, Javascript, Bash, Other',\n",
       "       'Python, R, SQL, C++, Java, Javascript, MATLAB, Other',\n",
       "       'Python, R, C, C++, MATLAB, Other',\n",
       "       'Python, R, SQL, C, Java, Bash, Other',\n",
       "       'Python, C, C++, Java, Javascript, Bash, MATLAB',\n",
       "       'Python, R, SQL, C, Java, Swift', ' C, C++, Other',\n",
       "       'Python, C++, Java, Julia',\n",
       "       'Python, SQL, C++, Java, Javascript, Bash, Other',\n",
       "       'Python, R, SQL, C, Other', 'Python, C++, Java, Javascript, Swift',\n",
       "       'Python, SQL, C, C++, Java, Javascript, Julia, Bash, MATLAB',\n",
       "       'Python, C++, Javascript, Swift',\n",
       "       'Python, R, SQL, C++, Java, Javascript, Bash, MATLAB',\n",
       "       'Python, Swift, Bash, Other', ' SQL, C++, Java, Javascript, Other',\n",
       "       ' SQL, Java, Javascript, Bash, Other',\n",
       "       'Python, R, C++, Julia, Bash, MATLAB, Other',\n",
       "       'Python, Java, Julia', 'Python, R, C, Bash',\n",
       "       'Python, R, C, Java, Javascript, Bash, MATLAB',\n",
       "       'Python, R, SQL, C++, Bash, MATLAB, Other',\n",
       "       'Python, SQL, C, C++, Java, Javascript, Swift, MATLAB',\n",
       "       ' C, C++, Java, Bash',\n",
       "       'Python, R, SQL, C, C++, Java, Javascript, Julia, Bash, Other',\n",
       "       'Python, R, SQL, C, C++, Java, Javascript, Swift, Bash, Other',\n",
       "       'Python, R, SQL, Java, Javascript, MATLAB, Other',\n",
       "       ' C, MATLAB, Other',\n",
       "       'Python, R, SQL, C++, Java, Javascript, Julia, Bash, MATLAB',\n",
       "       ' R, SQL, C, Other', 'Python, R, SQL, C, Javascript, Bash',\n",
       "       'Python, R, SQL, C++, Java, Javascript, Swift, Bash',\n",
       "       'Python, C, Julia, Bash', ' SQL, C, C++, Java, Javascript, MATLAB',\n",
       "       'Python, SQL, C++, Javascript, Swift, Bash, MATLAB',\n",
       "       'Python, Java, MATLAB, Other',\n",
       "       'Python, R, SQL, Bash, MATLAB, Other',\n",
       "       'Python, SQL, C++, Julia, Bash',\n",
       "       'Python, SQL, C++, Java, Julia, Bash, Other',\n",
       "       'Python, Java, Javascript, Swift, Other', ' R, Javascript, Bash',\n",
       "       'Python, R, Java, Javascript, Other',\n",
       "       'Python, R, C, Javascript, Bash, Other', ' R, C++, MATLAB',\n",
       "       'Python, R, Java, Javascript, Swift, Bash, MATLAB, Other',\n",
       "       'Python, R, C++, Javascript, Julia, Other',\n",
       "       'Python, SQL, C++, Java, MATLAB, Other',\n",
       "       ' Java, Javascript, Swift, Other',\n",
       "       'Python, Javascript, Julia, Other', ' R, SQL, Julia, Bash',\n",
       "       ' R, C, C++, Javascript', ' R, SQL, C++, Javascript, MATLAB',\n",
       "       'Python, R, C, C++, Java, Javascript, Julia, Bash, MATLAB'],\n",
       "      dtype=object)"
      ]
     },
     "execution_count": 100,
     "metadata": {},
     "output_type": "execute_result"
    }
   ],
   "source": [
    "df_txt[\"l_utilizado\"].unique()"
   ]
  },
  {
   "cell_type": "code",
   "execution_count": 101,
   "metadata": {},
   "outputs": [
    {
     "data": {
      "text/plain": [
       "1032"
      ]
     },
     "execution_count": 101,
     "metadata": {},
     "output_type": "execute_result"
    }
   ],
   "source": [
    "df_txt[\"l_utilizado\"].isnull().sum()"
   ]
  },
  {
   "attachments": {},
   "cell_type": "markdown",
   "metadata": {},
   "source": [
    "# 16. Columna 16"
   ]
  },
  {
   "cell_type": "code",
   "execution_count": 102,
   "metadata": {},
   "outputs": [
    {
     "data": {
      "text/plain": [
       "Jupyter Notebook                                                                                                                   2341\n",
       "Visual Studio Code (VSCode) ,Jupyter Notebook                                                                                      1412\n",
       "Visual Studio Code (VSCode)                                                                                                         939\n",
       "PyCharm ,Jupyter Notebook                                                                                                           820\n",
       "Visual Studio Code (VSCode) ,PyCharm ,Jupyter Notebook                                                                              554\n",
       "                                                                                                                                   ... \n",
       "RStudio ,Visual Studio , Spyder, Vim / Emacs,Jupyter Notebook                                                                         1\n",
       "Jupyter (JupyterLab, Jupyter Notebooks, etc) ,Visual Studio ,Visual Studio Code (VSCode) , Vim / Emacs,MATLAB ,Jupyter Notebook       1\n",
       "Jupyter (JupyterLab, Jupyter Notebooks, etc) ,Visual Studio ,PyCharm , Spyder, Notepad++                                              1\n",
       "RStudio ,Visual Studio , Notepad++, Vim / Emacs                                                                                       1\n",
       "RStudio ,Visual Studio ,Visual Studio Code (VSCode) , Notepad++, Vim / Emacs                                                          1\n",
       "Name: adi, Length: 1330, dtype: int64"
      ]
     },
     "execution_count": 102,
     "metadata": {},
     "output_type": "execute_result"
    }
   ],
   "source": [
    "df_txt[\"adi\"].value_counts()\n"
   ]
  },
  {
   "cell_type": "code",
   "execution_count": 103,
   "metadata": {},
   "outputs": [
    {
     "data": {
      "text/plain": [
       "array([' Vim / Emacs', ' Notepad++,Jupyter Notebook',\n",
       "       'PyCharm ,Jupyter Notebook, Other', ...,\n",
       "       'Visual Studio ,Visual Studio Code (VSCode) , Notepad++, Vim / Emacs,MATLAB ,Jupyter Notebook',\n",
       "       'RStudio ,Visual Studio ,PyCharm , Spyder',\n",
       "       'RStudio ,Visual Studio ,Visual Studio Code (VSCode) , Notepad++, Vim / Emacs'],\n",
       "      dtype=object)"
      ]
     },
     "execution_count": 103,
     "metadata": {},
     "output_type": "execute_result"
    }
   ],
   "source": [
    "df_txt[\"adi\"].unique()"
   ]
  },
  {
   "cell_type": "code",
   "execution_count": 104,
   "metadata": {},
   "outputs": [
    {
     "data": {
      "text/plain": [
       "1039"
      ]
     },
     "execution_count": 104,
     "metadata": {},
     "output_type": "execute_result"
    }
   ],
   "source": [
    "df_txt[\"adi\"].isnull().sum()"
   ]
  },
  {
   "attachments": {},
   "cell_type": "markdown",
   "metadata": {},
   "source": [
    "# 17. Columna 17"
   ]
  },
  {
   "cell_type": "code",
   "execution_count": 105,
   "metadata": {},
   "outputs": [
    {
     "data": {
      "text/plain": [
       "Python        20213\n",
       "R              1445\n",
       "SQL            1338\n",
       "C               440\n",
       "C++             437\n",
       "Java            242\n",
       "MATLAB          215\n",
       "Other           176\n",
       "Julia           137\n",
       "Javascript      133\n",
       "None            111\n",
       "Bash             38\n",
       "Swift            15\n",
       "Name: l_recomendado, dtype: int64"
      ]
     },
     "execution_count": 105,
     "metadata": {},
     "output_type": "execute_result"
    }
   ],
   "source": [
    "df_txt[\"l_recomendado\"].value_counts()\n"
   ]
  },
  {
   "cell_type": "code",
   "execution_count": 106,
   "metadata": {},
   "outputs": [
    {
     "data": {
      "text/plain": [
       "array(['Python', 'SQL', 'R', 'MATLAB', 'C', 'Julia', nan, 'Other', 'C++',\n",
       "       'Javascript', 'Java', 'None', 'Bash', 'Swift'], dtype=object)"
      ]
     },
     "execution_count": 106,
     "metadata": {},
     "output_type": "execute_result"
    }
   ],
   "source": [
    "df_txt[\"l_recomendado\"].unique()"
   ]
  },
  {
   "cell_type": "code",
   "execution_count": 107,
   "metadata": {},
   "outputs": [
    {
     "data": {
      "text/plain": [
       "1033"
      ]
     },
     "execution_count": 107,
     "metadata": {},
     "output_type": "execute_result"
    }
   ],
   "source": [
    "df_txt[\"l_recomendado\"].isnull().sum()"
   ]
  },
  {
   "attachments": {},
   "cell_type": "markdown",
   "metadata": {},
   "source": [
    "# 18. Columna 18"
   ]
  },
  {
   "cell_type": "code",
   "execution_count": 108,
   "metadata": {},
   "outputs": [
    {
     "data": {
      "text/plain": [
       " None                                                                                13234\n",
       " NVIDIA GPUs                                                                          6697\n",
       "Google Cloud TPUs                                                                     2067\n",
       " NVIDIA GPUs ,Google Cloud TPUs                                                       1066\n",
       " Other                                                                                 760\n",
       "AWS Inferentia Chips                                                                   137\n",
       "AWS Trainium Chips                                                                     133\n",
       " NVIDIA GPUs ,Google Cloud TPUs ,AWS Trainium Chips ,AWS Inferentia Chips               84\n",
       " NVIDIA GPUs , Other                                                                    58\n",
       "Google Cloud TPUs ,AWS Inferentia Chips                                                 52\n",
       "Google Cloud TPUs ,AWS Trainium Chips                                                   51\n",
       "AWS Trainium Chips ,AWS Inferentia Chips                                                41\n",
       "Google Cloud TPUs ,AWS Trainium Chips ,AWS Inferentia Chips                             35\n",
       " NVIDIA GPUs ,AWS Trainium Chips                                                        32\n",
       "Google Cloud TPUs , Other                                                               31\n",
       " NVIDIA GPUs ,Google Cloud TPUs ,AWS Inferentia Chips                                   28\n",
       " NVIDIA GPUs ,AWS Inferentia Chips                                                      26\n",
       " NVIDIA GPUs ,Google Cloud TPUs ,AWS Trainium Chips                                     24\n",
       " NVIDIA GPUs ,Google Cloud TPUs , Other                                                  9\n",
       " NVIDIA GPUs ,AWS Trainium Chips ,AWS Inferentia Chips                                   8\n",
       " NVIDIA GPUs ,Google Cloud TPUs ,AWS Trainium Chips ,AWS Inferentia Chips , Other        2\n",
       "AWS Inferentia Chips , Other                                                             2\n",
       "Google Cloud TPUs ,AWS Trainium Chips , Other                                            2\n",
       "AWS Trainium Chips , Other                                                               1\n",
       " NVIDIA GPUs ,AWS Inferentia Chips , Other                                               1\n",
       " NVIDIA GPUs ,AWS Trainium Chips , Other                                                 1\n",
       "Name: hardware, dtype: int64"
      ]
     },
     "execution_count": 108,
     "metadata": {},
     "output_type": "execute_result"
    }
   ],
   "source": [
    "df_txt[\"hardware\"].value_counts()\n"
   ]
  },
  {
   "cell_type": "code",
   "execution_count": 109,
   "metadata": {},
   "outputs": [
    {
     "data": {
      "text/plain": [
       "array(['Google Cloud TPUs ', ' None', ' Other', ' NVIDIA GPUs ', nan,\n",
       "       ' NVIDIA GPUs ,Google Cloud TPUs ', 'AWS Trainium Chips ',\n",
       "       ' NVIDIA GPUs ,AWS Trainium Chips ',\n",
       "       'AWS Trainium Chips ,AWS Inferentia Chips ',\n",
       "       ' NVIDIA GPUs ,Google Cloud TPUs ,AWS Trainium Chips ,AWS Inferentia Chips ',\n",
       "       ' NVIDIA GPUs , Other',\n",
       "       ' NVIDIA GPUs ,Google Cloud TPUs ,AWS Trainium Chips ',\n",
       "       'Google Cloud TPUs ,AWS Inferentia Chips ',\n",
       "       'Google Cloud TPUs ,AWS Trainium Chips ,AWS Inferentia Chips ',\n",
       "       'Google Cloud TPUs ,AWS Trainium Chips ',\n",
       "       ' NVIDIA GPUs ,Google Cloud TPUs ,AWS Inferentia Chips ',\n",
       "       'Google Cloud TPUs , Other',\n",
       "       ' NVIDIA GPUs ,AWS Trainium Chips ,AWS Inferentia Chips ',\n",
       "       ' NVIDIA GPUs ,AWS Inferentia Chips ', 'AWS Inferentia Chips ',\n",
       "       ' NVIDIA GPUs ,Google Cloud TPUs , Other',\n",
       "       ' NVIDIA GPUs ,Google Cloud TPUs ,AWS Trainium Chips ,AWS Inferentia Chips , Other',\n",
       "       'AWS Trainium Chips , Other', 'AWS Inferentia Chips , Other',\n",
       "       'Google Cloud TPUs ,AWS Trainium Chips , Other',\n",
       "       ' NVIDIA GPUs ,AWS Inferentia Chips , Other',\n",
       "       ' NVIDIA GPUs ,AWS Trainium Chips , Other'], dtype=object)"
      ]
     },
     "execution_count": 109,
     "metadata": {},
     "output_type": "execute_result"
    }
   ],
   "source": [
    "df_txt[\"hardware\"].unique()"
   ]
  },
  {
   "cell_type": "code",
   "execution_count": 110,
   "metadata": {},
   "outputs": [
    {
     "data": {
      "text/plain": [
       "1391"
      ]
     },
     "execution_count": 110,
     "metadata": {},
     "output_type": "execute_result"
    }
   ],
   "source": [
    "df_txt[\"hardware\"].isnull().sum()"
   ]
  },
  {
   "attachments": {},
   "cell_type": "markdown",
   "metadata": {},
   "source": [
    "# 19. Columna 19"
   ]
  },
  {
   "cell_type": "code",
   "execution_count": 111,
   "metadata": {},
   "outputs": [
    {
     "data": {
      "text/plain": [
       " Matplotlib ,Seaborn                                                                   5697\n",
       " Matplotlib                                                                            3766\n",
       " None                                                                                  3479\n",
       " Matplotlib ,Seaborn ,Plotly / Plotly Express                                          2096\n",
       " Matplotlib ,Seaborn ,Ggplot / ggplot2                                                  968\n",
       "                                                                                       ... \n",
       " Matplotlib ,Bokeh ,Leaflet / Folium                                                      1\n",
       " Matplotlib ,Plotly / Plotly Express ,D3 js ,Geoplotlib                                   1\n",
       "Seaborn ,Plotly / Plotly Express ,Ggplot / ggplot2 ,Shiny ,D3 js ,Leaflet / Folium        1\n",
       " Matplotlib ,D3 js ,Bokeh ,Geoplotlib                                                     1\n",
       "Ggplot / ggplot2 ,D3 js , Other                                                           1\n",
       "Name: visualizacion, Length: 467, dtype: int64"
      ]
     },
     "execution_count": 111,
     "metadata": {},
     "output_type": "execute_result"
    }
   ],
   "source": [
    "df_txt[\"visualizacion\"].value_counts()\n"
   ]
  },
  {
   "cell_type": "code",
   "execution_count": 112,
   "metadata": {},
   "outputs": [
    {
     "data": {
      "text/plain": [
       "array([' Matplotlib ,Seaborn ,Ggplot / ggplot2 ,Shiny ,Leaflet / Folium ',\n",
       "       ' Matplotlib ', ' Matplotlib ,Seaborn ,Ggplot / ggplot2 ',\n",
       "       'Geoplotlib ', ' Matplotlib ,Plotly / Plotly Express ',\n",
       "       ' Matplotlib ,Seaborn ', nan, 'Plotly / Plotly Express ',\n",
       "       ' Matplotlib ,Seaborn ,Plotly / Plotly Express ', ' None',\n",
       "       'Ggplot / ggplot2 ', ' Matplotlib ,Seaborn , Other',\n",
       "       ' Matplotlib ,Seaborn ,Plotly / Plotly Express ,Ggplot / ggplot2 ,Shiny ',\n",
       "       'Altair ', ' Matplotlib ,Ggplot / ggplot2 ',\n",
       "       ' Matplotlib ,Seaborn ,Bokeh ',\n",
       "       ' Matplotlib ,Seaborn ,Plotly / Plotly Express ,Ggplot / ggplot2 ',\n",
       "       'Seaborn ,Ggplot / ggplot2 ,Shiny ',\n",
       "       'Plotly / Plotly Express ,Ggplot / ggplot2 ,Shiny ',\n",
       "       ' Matplotlib ,Plotly / Plotly Express ,Ggplot / ggplot2 ,D3 js ',\n",
       "       ' Matplotlib ,Seaborn ,Plotly / Plotly Express ,Bokeh ',\n",
       "       ' Matplotlib ,Seaborn ,Ggplot / ggplot2 ,Geoplotlib ', ' Other',\n",
       "       'Seaborn ', ' Matplotlib ,Altair ', ' Matplotlib ,Seaborn ,D3 js ',\n",
       "       ' Matplotlib ,Seaborn ,Plotly / Plotly Express ,Leaflet / Folium ',\n",
       "       ' Matplotlib ,Seaborn ,Ggplot / ggplot2 ,D3 js ',\n",
       "       ' Matplotlib ,D3 js ', 'Ggplot / ggplot2 ,Geoplotlib ',\n",
       "       ' Matplotlib ,Plotly / Plotly Express ,Ggplot / ggplot2 ,Shiny ',\n",
       "       'Ggplot / ggplot2 ,Altair ,Bokeh ',\n",
       "       ' Matplotlib ,Seaborn ,Plotly / Plotly Express ,Altair ',\n",
       "       ' Matplotlib ,Plotly / Plotly Express ,Bokeh , Other',\n",
       "       ' Matplotlib ,Ggplot / ggplot2 ,Shiny ',\n",
       "       'Plotly / Plotly Express ,Ggplot / ggplot2 ', 'D3 js ',\n",
       "       'Seaborn ,Ggplot / ggplot2 ',\n",
       "       ' Matplotlib ,Ggplot / ggplot2 ,Shiny ,D3 js ',\n",
       "       ' Matplotlib ,Seaborn ,Plotly / Plotly Express ,Ggplot / ggplot2 ,Bokeh ',\n",
       "       'Seaborn ,Ggplot / ggplot2 ,D3 js ,Bokeh ', 'Seaborn ,Bokeh ',\n",
       "       ' Matplotlib ,Seaborn ,Plotly / Plotly Express ,Ggplot / ggplot2 ,Shiny ,Altair ,Bokeh ',\n",
       "       ' Matplotlib ,Seaborn ,Geoplotlib ',\n",
       "       ' Matplotlib ,Seaborn ,Plotly / Plotly Express ,Geoplotlib ',\n",
       "       'Ggplot / ggplot2 ,Shiny ', 'Seaborn ,Altair ',\n",
       "       'Seaborn ,Plotly / Plotly Express ,Geoplotlib ',\n",
       "       ' Matplotlib , Other', ' Matplotlib ,Geoplotlib ',\n",
       "       'Ggplot / ggplot2 ,Leaflet / Folium ',\n",
       "       ' Matplotlib ,Seaborn ,Plotly / Plotly Express ,Altair ,Geoplotlib ',\n",
       "       ' Matplotlib ,Bokeh ',\n",
       "       ' Matplotlib ,Seaborn ,Plotly / Plotly Express ,Shiny ,Geoplotlib ',\n",
       "       ' Matplotlib ,Seaborn ,Plotly / Plotly Express ,Altair ,Bokeh ,Leaflet / Folium ',\n",
       "       ' Matplotlib ,Seaborn ,Plotly / Plotly Express ,Ggplot / ggplot2 ,Geoplotlib ',\n",
       "       'Plotly / Plotly Express ,Ggplot / ggplot2 ,Shiny ,Altair ,Bokeh ',\n",
       "       ' Matplotlib ,Seaborn ,Ggplot / ggplot2 ,Shiny ',\n",
       "       ' Matplotlib ,Plotly / Plotly Express ,Leaflet / Folium ',\n",
       "       ' Matplotlib ,Plotly / Plotly Express ,Ggplot / ggplot2 ',\n",
       "       ' Matplotlib ,Shiny ,Altair ',\n",
       "       ' Matplotlib ,Seaborn ,Ggplot / ggplot2 ,Shiny ,Bokeh ',\n",
       "       ' Matplotlib ,Seaborn ,Plotly / Plotly Express ,Ggplot / ggplot2 ,Shiny ,Bokeh ',\n",
       "       ' Matplotlib ,Seaborn ,Plotly / Plotly Express ,D3 js ',\n",
       "       ' Matplotlib ,Seaborn ,Plotly / Plotly Express ,Ggplot / ggplot2 ,Altair ',\n",
       "       ' Matplotlib ,Plotly / Plotly Express ,Ggplot / ggplot2 ,D3 js ,Geoplotlib ',\n",
       "       ' Matplotlib ,Plotly / Plotly Express ,Geoplotlib , Other',\n",
       "       ' Matplotlib ,Ggplot / ggplot2 ,Shiny ,Geoplotlib ',\n",
       "       'Seaborn ,Plotly / Plotly Express ', 'Leaflet / Folium ',\n",
       "       ' Matplotlib ,Seaborn ,Plotly / Plotly Express ,Ggplot / ggplot2 ,Altair ,Leaflet / Folium ',\n",
       "       'Seaborn ,Plotly / Plotly Express ,Ggplot / ggplot2 ,Bokeh ',\n",
       "       'Seaborn ,Plotly / Plotly Express ,Shiny ,Leaflet / Folium ',\n",
       "       'Plotly / Plotly Express ,Ggplot / ggplot2 ,Shiny ,Leaflet / Folium ',\n",
       "       'Bokeh ',\n",
       "       ' Matplotlib ,Seaborn ,Plotly / Plotly Express ,Ggplot / ggplot2 ,Shiny ,Bokeh ,Geoplotlib ',\n",
       "       ' Matplotlib ,Seaborn ,Plotly / Plotly Express ,Ggplot / ggplot2 ,Shiny ,Bokeh ,Geoplotlib ,Leaflet / Folium ',\n",
       "       'Seaborn ,Ggplot / ggplot2 ,Shiny ,Geoplotlib ',\n",
       "       'Seaborn ,Plotly / Plotly Express ,Shiny ,D3 js ,Leaflet / Folium ',\n",
       "       'Plotly / Plotly Express ,D3 js ',\n",
       "       ' Matplotlib ,Seaborn ,Ggplot / ggplot2 ,Bokeh ,Geoplotlib ,Leaflet / Folium ',\n",
       "       ' Matplotlib ,Seaborn ,Plotly / Plotly Express ,Ggplot / ggplot2 ,Shiny ,D3 js ,Geoplotlib ,Leaflet / Folium ',\n",
       "       ' Matplotlib ,Seaborn ,Plotly / Plotly Express ,Shiny ',\n",
       "       ' Matplotlib ,Seaborn ,Plotly / Plotly Express ,Ggplot / ggplot2 ,Shiny ,D3 js ,Leaflet / Folium ',\n",
       "       ' Matplotlib ,Plotly / Plotly Express ,Geoplotlib ',\n",
       "       'Seaborn ,D3 js ',\n",
       "       ' Matplotlib ,Seaborn ,Ggplot / ggplot2 ,Shiny ,Geoplotlib ',\n",
       "       ' Matplotlib ,Ggplot / ggplot2 ,Geoplotlib ',\n",
       "       ' Matplotlib ,Seaborn ,Plotly / Plotly Express ,Ggplot / ggplot2 ,Shiny ,Bokeh ,Leaflet / Folium ',\n",
       "       ' Matplotlib ,Plotly / Plotly Express ,D3 js ',\n",
       "       ' Matplotlib ,Plotly / Plotly Express ,D3 js ,Geoplotlib ',\n",
       "       ' Matplotlib ,Seaborn ,Plotly / Plotly Express ,Ggplot / ggplot2 ,Shiny ,Altair ,Bokeh ,Geoplotlib ,Leaflet / Folium ',\n",
       "       'Shiny ', ' Matplotlib ,Seaborn ,Leaflet / Folium ',\n",
       "       ' Matplotlib ,Seaborn ,Plotly / Plotly Express ,Ggplot / ggplot2 ,Geoplotlib ,Leaflet / Folium ',\n",
       "       ' Matplotlib ,Seaborn ,D3 js ,Bokeh ',\n",
       "       ' Matplotlib ,Seaborn ,Bokeh ,Geoplotlib ',\n",
       "       ' Matplotlib ,Seaborn ,Plotly / Plotly Express ,Ggplot / ggplot2 ,D3 js ,Altair ,Bokeh ',\n",
       "       ' Matplotlib ,Seaborn ,Plotly / Plotly Express ,D3 js ,Leaflet / Folium , Other',\n",
       "       ' Matplotlib ,Seaborn ,Plotly / Plotly Express ,Ggplot / ggplot2 ,Shiny ,Geoplotlib ',\n",
       "       ' Matplotlib ,Ggplot / ggplot2 ,Shiny ,Altair ',\n",
       "       ' Matplotlib ,Seaborn ,Plotly / Plotly Express ,Shiny ,Leaflet / Folium ',\n",
       "       ' Matplotlib ,Ggplot / ggplot2 ,D3 js ', 'Seaborn ,Geoplotlib ',\n",
       "       'Altair ,Bokeh ,Leaflet / Folium ',\n",
       "       ' Matplotlib ,Seaborn ,Ggplot / ggplot2 ,Altair ',\n",
       "       ' Matplotlib ,Seaborn ,Plotly / Plotly Express ,Ggplot / ggplot2 ,Shiny ,Geoplotlib ,Leaflet / Folium ',\n",
       "       ' Matplotlib ,Seaborn ,Plotly / Plotly Express ,Ggplot / ggplot2 ,Shiny ,Leaflet / Folium ',\n",
       "       ' Matplotlib ,Seaborn ,Ggplot / ggplot2 ,D3 js ,Geoplotlib ',\n",
       "       ' Matplotlib ,Seaborn ,Ggplot / ggplot2 ,Bokeh ',\n",
       "       ' Matplotlib ,Plotly / Plotly Express ,Ggplot / ggplot2 ,Bokeh ',\n",
       "       ' Matplotlib ,Seaborn ,Plotly / Plotly Express ,Shiny ,Bokeh ',\n",
       "       ' Matplotlib ,Seaborn ,D3 js ,Leaflet / Folium ',\n",
       "       ' Matplotlib ,Plotly / Plotly Express ,Ggplot / ggplot2 ,D3 js ,Leaflet / Folium ',\n",
       "       ' Matplotlib ,Seaborn ,Plotly / Plotly Express ,Ggplot / ggplot2 ,Bokeh ,Geoplotlib ,Leaflet / Folium ',\n",
       "       ' Matplotlib ,Seaborn ,Altair ,Leaflet / Folium ',\n",
       "       ' Matplotlib ,Seaborn ,Plotly / Plotly Express ,Ggplot / ggplot2 ,D3 js ,Geoplotlib , Other',\n",
       "       ' Matplotlib ,Ggplot / ggplot2 , Other',\n",
       "       ' Matplotlib ,Seaborn ,Plotly / Plotly Express ,Ggplot / ggplot2 ,Leaflet / Folium ',\n",
       "       ' Matplotlib ,Seaborn ,D3 js ,Bokeh ,Leaflet / Folium ',\n",
       "       ' Matplotlib ,Leaflet / Folium , Other', 'Seaborn , Other',\n",
       "       ' Matplotlib ,Seaborn ,Plotly / Plotly Express ,Ggplot / ggplot2 ,Shiny ,D3 js ,Altair ,Bokeh ,Geoplotlib ,Leaflet / Folium ',\n",
       "       'D3 js ,Leaflet / Folium ', 'Shiny ,Altair ,Geoplotlib ',\n",
       "       ' Matplotlib ,Seaborn ,Plotly / Plotly Express ,Bokeh ,Leaflet / Folium ',\n",
       "       'Seaborn ,Plotly / Plotly Express ,Bokeh ',\n",
       "       ' Matplotlib ,Seaborn ,Bokeh ,Leaflet / Folium ',\n",
       "       ' Matplotlib ,Seaborn ,Plotly / Plotly Express ,Ggplot / ggplot2 ,D3 js ',\n",
       "       'Seaborn ,Plotly / Plotly Express ,Ggplot / ggplot2 ',\n",
       "       ' Matplotlib ,Plotly / Plotly Express , Other',\n",
       "       'Seaborn ,Plotly / Plotly Express ,Shiny ',\n",
       "       ' Matplotlib ,Plotly / Plotly Express ,Shiny ,Geoplotlib ',\n",
       "       ' Matplotlib ,Seaborn ,Plotly / Plotly Express ,Bokeh ,Geoplotlib ,Leaflet / Folium ',\n",
       "       ' Matplotlib ,Leaflet / Folium ',\n",
       "       ' Matplotlib ,Shiny ,D3 js ,Leaflet / Folium ',\n",
       "       ' Matplotlib ,Seaborn ,Plotly / Plotly Express ,Ggplot / ggplot2 ,Bokeh ,Geoplotlib ',\n",
       "       ' Matplotlib ,Seaborn ,Plotly / Plotly Express ,Ggplot / ggplot2 ,Bokeh , Other',\n",
       "       ' Matplotlib ,Seaborn ,Ggplot / ggplot2 ,D3 js ,Geoplotlib ,Leaflet / Folium ',\n",
       "       ' Matplotlib ,Plotly / Plotly Express ,Ggplot / ggplot2 ,Geoplotlib ',\n",
       "       ' Matplotlib ,Plotly / Plotly Express ,Bokeh ',\n",
       "       'Plotly / Plotly Express , Other',\n",
       "       ' Matplotlib ,Seaborn ,Plotly / Plotly Express ,Ggplot / ggplot2 ,Shiny ,D3 js ',\n",
       "       ' Matplotlib ,Seaborn ,Plotly / Plotly Express ,Ggplot / ggplot2 ,Shiny ,D3 js ,Altair ,Bokeh ,Leaflet / Folium ',\n",
       "       ' Matplotlib ,Seaborn ,Plotly / Plotly Express ,Ggplot / ggplot2 ,D3 js ,Geoplotlib ',\n",
       "       ' Matplotlib ,Seaborn ,Plotly / Plotly Express ,Ggplot / ggplot2 ,Altair ,Bokeh ',\n",
       "       ' Matplotlib ,Seaborn ,Plotly / Plotly Express ,Ggplot / ggplot2 ,Bokeh ,Leaflet / Folium ',\n",
       "       ' Matplotlib ,Seaborn ,Plotly / Plotly Express ,Altair ,Leaflet / Folium , Other',\n",
       "       ' Matplotlib ,Seaborn ,Plotly / Plotly Express ,Ggplot / ggplot2 ,Bokeh ,Geoplotlib , Other',\n",
       "       ' Matplotlib ,Ggplot / ggplot2 ,Leaflet / Folium ',\n",
       "       ' Matplotlib ,Ggplot / ggplot2 ,Altair ',\n",
       "       'Ggplot / ggplot2 , Other',\n",
       "       ' Matplotlib ,Seaborn ,Plotly / Plotly Express ,Ggplot / ggplot2 ,Shiny ,D3 js ,Bokeh ,Leaflet / Folium ',\n",
       "       'Plotly / Plotly Express ,D3 js ,Leaflet / Folium ',\n",
       "       ' Matplotlib ,Seaborn ,Plotly / Plotly Express ,Shiny ,D3 js ',\n",
       "       ' Matplotlib ,D3 js ,Geoplotlib ',\n",
       "       'Plotly / Plotly Express ,Shiny ',\n",
       "       'Plotly / Plotly Express ,Ggplot / ggplot2 ,Leaflet / Folium ',\n",
       "       ' Matplotlib ,Seaborn ,Ggplot / ggplot2 ,Altair ,Leaflet / Folium ',\n",
       "       'Seaborn ,Plotly / Plotly Express ,Ggplot / ggplot2 ,Shiny ',\n",
       "       'D3 js ,Altair ',\n",
       "       'Seaborn ,Plotly / Plotly Express ,Ggplot / ggplot2 ,Geoplotlib ',\n",
       "       ' Matplotlib ,Seaborn ,Plotly / Plotly Express ,Shiny ,Bokeh ,Geoplotlib ,Leaflet / Folium ',\n",
       "       ' Matplotlib ,Seaborn ,Ggplot / ggplot2 ,Shiny ,Altair ',\n",
       "       ' Matplotlib ,Plotly / Plotly Express ,Ggplot / ggplot2 ,Shiny ,Geoplotlib ',\n",
       "       ' Matplotlib ,Seaborn ,Altair ', ' Matplotlib ,Seaborn ,Shiny ',\n",
       "       ' Matplotlib ,Seaborn ,Ggplot / ggplot2 , Other',\n",
       "       ' Matplotlib ,Seaborn ,Plotly / Plotly Express ,Altair ,Bokeh ',\n",
       "       ' Matplotlib ,Ggplot / ggplot2 ,Shiny ,Geoplotlib ,Leaflet / Folium ',\n",
       "       'Bokeh ,Geoplotlib ', 'Plotly / Plotly Express ,Altair ',\n",
       "       ' Matplotlib ,Geoplotlib , Other',\n",
       "       'Ggplot / ggplot2 ,Shiny ,Leaflet / Folium ',\n",
       "       ' Matplotlib ,Seaborn ,Ggplot / ggplot2 ,Leaflet / Folium ',\n",
       "       ' Matplotlib ,Seaborn ,Ggplot / ggplot2 ,Altair ,Bokeh ,Leaflet / Folium ',\n",
       "       ' Matplotlib ,Seaborn ,Plotly / Plotly Express ,Ggplot / ggplot2 , Other',\n",
       "       ' Matplotlib ,Seaborn ,Plotly / Plotly Express ,Ggplot / ggplot2 ,D3 js ,Bokeh ,Leaflet / Folium ',\n",
       "       'Plotly / Plotly Express ,Geoplotlib ',\n",
       "       ' Matplotlib ,Ggplot / ggplot2 ,Bokeh ',\n",
       "       'Plotly / Plotly Express ,Ggplot / ggplot2 ,Shiny ,Geoplotlib ',\n",
       "       'Seaborn ,Ggplot / ggplot2 ,Shiny , Other',\n",
       "       ' Matplotlib ,D3 js ,Geoplotlib ,Leaflet / Folium ',\n",
       "       'Shiny ,D3 js ',\n",
       "       ' Matplotlib ,Seaborn ,Plotly / Plotly Express , Other',\n",
       "       'Seaborn ,Plotly / Plotly Express , Other',\n",
       "       ' Matplotlib ,Seaborn ,Plotly / Plotly Express ,Geoplotlib ,Leaflet / Folium ',\n",
       "       ' Matplotlib ,Seaborn ,Plotly / Plotly Express ,Ggplot / ggplot2 ,Shiny ,D3 js , Other',\n",
       "       ' Matplotlib ,Plotly / Plotly Express ,Altair ,Bokeh , Other',\n",
       "       'Seaborn ,Plotly / Plotly Express ,Ggplot / ggplot2 ,D3 js ',\n",
       "       ' Matplotlib ,Plotly / Plotly Express ,Ggplot / ggplot2 ,Shiny ,Geoplotlib , Other',\n",
       "       'Altair , Other',\n",
       "       ' Matplotlib ,Seaborn ,Ggplot / ggplot2 ,Shiny ,D3 js ,Bokeh ',\n",
       "       'Plotly / Plotly Express ,Shiny ,D3 js ',\n",
       "       'Ggplot / ggplot2 ,Bokeh ', 'Seaborn ,Shiny ',\n",
       "       ' Matplotlib ,Seaborn ,D3 js , Other',\n",
       "       ' Matplotlib ,D3 js ,Altair ',\n",
       "       'Plotly / Plotly Express ,Ggplot / ggplot2 ,Shiny ,D3 js ,Leaflet / Folium ',\n",
       "       ' Matplotlib ,Shiny ',\n",
       "       'Seaborn ,Plotly / Plotly Express ,Ggplot / ggplot2 ,Shiny ,D3 js ',\n",
       "       ' Matplotlib ,D3 js ,Leaflet / Folium ',\n",
       "       'Seaborn ,Plotly / Plotly Express ,Ggplot / ggplot2 ,Bokeh ,Geoplotlib ',\n",
       "       ' Matplotlib ,Plotly / Plotly Express ,Ggplot / ggplot2 ,Leaflet / Folium ',\n",
       "       ' Matplotlib ,Plotly / Plotly Express ,Ggplot / ggplot2 ,Shiny ,D3 js ',\n",
       "       'Plotly / Plotly Express ,Ggplot / ggplot2 ,Shiny ,D3 js ',\n",
       "       'Seaborn ,Bokeh ,Geoplotlib ,Leaflet / Folium ',\n",
       "       ' Matplotlib ,Seaborn ,Plotly / Plotly Express ,Ggplot / ggplot2 ,Shiny , Other',\n",
       "       'Plotly / Plotly Express ,Shiny ,Geoplotlib ,Leaflet / Folium ',\n",
       "       'Ggplot / ggplot2 ,Shiny ,Leaflet / Folium , Other',\n",
       "       ' Matplotlib ,Seaborn ,D3 js ,Altair ',\n",
       "       ' Matplotlib ,Seaborn ,Plotly / Plotly Express ,Ggplot / ggplot2 ,Altair ,Bokeh ,Geoplotlib ',\n",
       "       ' Matplotlib ,Seaborn ,Plotly / Plotly Express ,Shiny ,D3 js ,Bokeh ',\n",
       "       ' Matplotlib ,Shiny ,D3 js ', 'Seaborn ,Leaflet / Folium ',\n",
       "       ' Matplotlib ,Seaborn ,Plotly / Plotly Express ,Ggplot / ggplot2 ,Geoplotlib , Other',\n",
       "       ' Matplotlib ,Seaborn ,Plotly / Plotly Express ,D3 js ,Bokeh ',\n",
       "       ' Matplotlib ,Seaborn ,Plotly / Plotly Express ,Ggplot / ggplot2 ,Shiny ,D3 js ,Altair ',\n",
       "       'Shiny ,Altair ',\n",
       "       ' Matplotlib ,Seaborn ,Plotly / Plotly Express ,Ggplot / ggplot2 ,D3 js ,Bokeh ',\n",
       "       ' Matplotlib ,Ggplot / ggplot2 ,Shiny ,Leaflet / Folium ',\n",
       "       'Plotly / Plotly Express ,Geoplotlib ,Leaflet / Folium ',\n",
       "       ' Matplotlib ,Seaborn ,Plotly / Plotly Express ,Ggplot / ggplot2 ,Shiny ,Altair ,Bokeh ,Geoplotlib ',\n",
       "       'Plotly / Plotly Express ,Leaflet / Folium ',\n",
       "       ' Matplotlib ,Seaborn ,Plotly / Plotly Express ,Shiny ,Geoplotlib ,Leaflet / Folium ',\n",
       "       ' Matplotlib ,Seaborn ,Ggplot / ggplot2 ,Geoplotlib ,Leaflet / Folium ',\n",
       "       ' Matplotlib ,Ggplot / ggplot2 ,Altair ,Bokeh ',\n",
       "       ' Matplotlib ,Seaborn ,Ggplot / ggplot2 ,D3 js ,Bokeh ',\n",
       "       ' Matplotlib ,Seaborn ,Altair ,Geoplotlib ',\n",
       "       'Plotly / Plotly Express ,Ggplot / ggplot2 ,Geoplotlib ',\n",
       "       'Seaborn ,Plotly / Plotly Express ,Ggplot / ggplot2 ,Shiny ,Leaflet / Folium ',\n",
       "       'D3 js ,Bokeh ,Geoplotlib ',\n",
       "       ' Matplotlib ,Seaborn ,Plotly / Plotly Express ,Bokeh ,Geoplotlib ',\n",
       "       'Ggplot / ggplot2 ,D3 js ',\n",
       "       ' Matplotlib ,Seaborn ,Plotly / Plotly Express ,D3 js ,Geoplotlib ,Leaflet / Folium ',\n",
       "       ' Matplotlib ,Seaborn ,Plotly / Plotly Express ,Ggplot / ggplot2 ,Shiny ,D3 js ,Bokeh ',\n",
       "       ' Matplotlib ,Seaborn ,Plotly / Plotly Express ,Ggplot / ggplot2 ,D3 js ,Geoplotlib ,Leaflet / Folium ',\n",
       "       'Plotly / Plotly Express ,D3 js , Other',\n",
       "       ' Matplotlib ,Plotly / Plotly Express ,Ggplot / ggplot2 ,Altair ',\n",
       "       'Seaborn ,Plotly / Plotly Express ,Ggplot / ggplot2 ,Leaflet / Folium ',\n",
       "       ' Matplotlib ,Seaborn ,Plotly / Plotly Express ,Shiny ,D3 js ,Altair ,Bokeh ,Geoplotlib ',\n",
       "       ' Matplotlib ,Seaborn ,Geoplotlib ,Leaflet / Folium ',\n",
       "       'Seaborn ,Ggplot / ggplot2 ,Shiny ,Leaflet / Folium ',\n",
       "       ' Matplotlib ,Seaborn ,Plotly / Plotly Express ,Bokeh ,Leaflet / Folium , Other',\n",
       "       'Geoplotlib , Other',\n",
       "       ' Matplotlib ,Ggplot / ggplot2 ,Geoplotlib , Other',\n",
       "       ' Matplotlib ,Seaborn ,Plotly / Plotly Express ,Ggplot / ggplot2 ,Altair ,Geoplotlib ',\n",
       "       'Plotly / Plotly Express ,Ggplot / ggplot2 ,Shiny ,Altair ',\n",
       "       'Plotly / Plotly Express ,Bokeh , Other',\n",
       "       ' Matplotlib ,Plotly / Plotly Express ,Shiny ',\n",
       "       ' Matplotlib ,D3 js , Other',\n",
       "       ' Matplotlib ,Seaborn ,Plotly / Plotly Express ,D3 js ,Altair ',\n",
       "       ' Matplotlib ,Seaborn ,Altair ,Bokeh ', 'D3 js , Other',\n",
       "       'Seaborn ,Ggplot / ggplot2 ,Shiny ,D3 js ,Altair ,Geoplotlib ,Leaflet / Folium , Other',\n",
       "       ' Matplotlib ,Plotly / Plotly Express ,Ggplot / ggplot2 ,Geoplotlib ,Leaflet / Folium ',\n",
       "       ' Matplotlib ,Seaborn ,Plotly / Plotly Express ,Ggplot / ggplot2 ,D3 js ,Leaflet / Folium ',\n",
       "       'Ggplot / ggplot2 ,Shiny ,D3 js ,Leaflet / Folium ',\n",
       "       'Seaborn ,Plotly / Plotly Express ,Bokeh ,Leaflet / Folium ',\n",
       "       ' Matplotlib ,Ggplot / ggplot2 ,D3 js ,Geoplotlib ',\n",
       "       'Seaborn ,Plotly / Plotly Express ,Ggplot / ggplot2 ,Shiny ,Bokeh ',\n",
       "       'Ggplot / ggplot2 ,Shiny ,Geoplotlib ',\n",
       "       'Plotly / Plotly Express ,Ggplot / ggplot2 ,Bokeh ',\n",
       "       ' Matplotlib ,Plotly / Plotly Express ,Ggplot / ggplot2 ,Shiny , Other',\n",
       "       'Ggplot / ggplot2 ,Shiny , Other',\n",
       "       'Ggplot / ggplot2 ,Shiny ,D3 js ',\n",
       "       ' Matplotlib ,Seaborn ,D3 js ,Geoplotlib ',\n",
       "       ' Matplotlib ,Plotly / Plotly Express ,Ggplot / ggplot2 ,Shiny ,Bokeh ',\n",
       "       ' Matplotlib ,Seaborn ,Plotly / Plotly Express ,Ggplot / ggplot2 ,D3 js ,Altair ,Bokeh ,Geoplotlib ,Leaflet / Folium ',\n",
       "       ' Matplotlib ,Plotly / Plotly Express ,Ggplot / ggplot2 ,Shiny ,Geoplotlib ,Leaflet / Folium ',\n",
       "       ' Matplotlib ,Plotly / Plotly Express ,Geoplotlib ,Leaflet / Folium ',\n",
       "       ' Matplotlib ,D3 js ,Bokeh ',\n",
       "       ' Matplotlib ,Plotly / Plotly Express ,Ggplot / ggplot2 ,D3 js ,Bokeh ,Geoplotlib ',\n",
       "       'Plotly / Plotly Express ,Ggplot / ggplot2 ,D3 js ',\n",
       "       'Leaflet / Folium , Other', 'Bokeh , Other', 'D3 js ,Bokeh ',\n",
       "       ' Matplotlib ,Altair ,Geoplotlib ',\n",
       "       'Seaborn ,Altair ,Bokeh ,Geoplotlib ,Leaflet / Folium ',\n",
       "       'Seaborn ,Plotly / Plotly Express ,Leaflet / Folium ',\n",
       "       'Seaborn ,Plotly / Plotly Express ,D3 js ,Leaflet / Folium ',\n",
       "       ' Matplotlib ,Seaborn ,Plotly / Plotly Express ,D3 js ,Geoplotlib ',\n",
       "       ' Matplotlib ,Seaborn ,Plotly / Plotly Express ,Ggplot / ggplot2 ,Shiny ,D3 js ,Bokeh ,Geoplotlib ,Leaflet / Folium ',\n",
       "       ' Matplotlib ,Ggplot / ggplot2 ,Shiny ,Altair ,Geoplotlib ',\n",
       "       ' Matplotlib ,Seaborn ,Ggplot / ggplot2 ,Altair , Other',\n",
       "       ' Matplotlib ,D3 js ,Altair ,Leaflet / Folium ',\n",
       "       ' Matplotlib ,Shiny ,Leaflet / Folium ', 'Shiny , Other',\n",
       "       ' Matplotlib ,Shiny ,Bokeh ',\n",
       "       'Plotly / Plotly Express ,Ggplot / ggplot2 ,Shiny , Other',\n",
       "       ' Matplotlib ,Seaborn ,Plotly / Plotly Express ,Ggplot / ggplot2 ,Shiny ,Altair ',\n",
       "       ' Matplotlib ,Seaborn ,Plotly / Plotly Express ,Altair ,Bokeh ,Geoplotlib ',\n",
       "       ' Matplotlib ,Ggplot / ggplot2 ,D3 js , Other',\n",
       "       ' Matplotlib ,Seaborn ,Ggplot / ggplot2 ,Bokeh ,Geoplotlib ',\n",
       "       'Ggplot / ggplot2 ,Shiny ,Bokeh ',\n",
       "       ' Matplotlib ,Seaborn ,Bokeh ,Geoplotlib ,Leaflet / Folium ',\n",
       "       ' Matplotlib ,Bokeh ,Geoplotlib ',\n",
       "       ' Matplotlib ,Seaborn ,Plotly / Plotly Express ,Geoplotlib ,Leaflet / Folium , Other',\n",
       "       'Plotly / Plotly Express ,Altair ,Bokeh , Other',\n",
       "       ' Matplotlib ,Plotly / Plotly Express ,Ggplot / ggplot2 ,Bokeh ,Geoplotlib ',\n",
       "       ' Matplotlib ,Seaborn ,Ggplot / ggplot2 ,Shiny ,Bokeh ,Geoplotlib ,Leaflet / Folium ',\n",
       "       'Seaborn ,Plotly / Plotly Express ,D3 js ,Bokeh ,Leaflet / Folium ',\n",
       "       'Shiny ,D3 js ,Bokeh ,Leaflet / Folium ',\n",
       "       ' Matplotlib ,Seaborn ,Plotly / Plotly Express ,D3 js ,Bokeh ,Leaflet / Folium ',\n",
       "       'Altair ,Leaflet / Folium ', 'Shiny ,Leaflet / Folium , Other',\n",
       "       ' Matplotlib ,Plotly / Plotly Express ,Ggplot / ggplot2 , Other',\n",
       "       'Ggplot / ggplot2 ,Geoplotlib ,Leaflet / Folium ',\n",
       "       ' Matplotlib ,Altair ,Bokeh ,Leaflet / Folium ',\n",
       "       ' Matplotlib ,Shiny ,D3 js , Other',\n",
       "       ' Matplotlib ,Plotly / Plotly Express ,D3 js ,Leaflet / Folium ',\n",
       "       ' Matplotlib ,Geoplotlib ,Leaflet / Folium ',\n",
       "       ' Matplotlib ,Seaborn ,Plotly / Plotly Express ,Ggplot / ggplot2 ,Shiny ,D3 js ,Geoplotlib ',\n",
       "       'Shiny ,Leaflet / Folium ', ' Matplotlib ,Seaborn ,Bokeh , Other',\n",
       "       'Seaborn ,Ggplot / ggplot2 ,Shiny ,Bokeh ',\n",
       "       'Plotly / Plotly Express ,Altair ,Leaflet / Folium ',\n",
       "       ' Matplotlib ,Plotly / Plotly Express ,Ggplot / ggplot2 ,Shiny ,Altair ,Bokeh ,Geoplotlib ',\n",
       "       'Seaborn ,Plotly / Plotly Express ,D3 js ',\n",
       "       'Seaborn ,Ggplot / ggplot2 ,Shiny ,D3 js ',\n",
       "       'Seaborn ,Plotly / Plotly Express ,Ggplot / ggplot2 ,D3 js ,Bokeh ',\n",
       "       'Plotly / Plotly Express ,Ggplot / ggplot2 ,D3 js ,Geoplotlib ',\n",
       "       ' Matplotlib ,Seaborn ,Plotly / Plotly Express ,Ggplot / ggplot2 ,D3 js ,Altair ',\n",
       "       ' Matplotlib ,Seaborn ,Shiny ,Leaflet / Folium ',\n",
       "       ' Matplotlib ,Seaborn ,Plotly / Plotly Express ,Geoplotlib , Other',\n",
       "       ' Matplotlib ,Seaborn ,Plotly / Plotly Express ,Altair , Other',\n",
       "       ' Matplotlib ,Seaborn ,Plotly / Plotly Express ,Shiny ,D3 js ,Leaflet / Folium ',\n",
       "       ' Matplotlib ,Plotly / Plotly Express ,Shiny ,Leaflet / Folium ',\n",
       "       ' Matplotlib ,Bokeh ,Leaflet / Folium ',\n",
       "       ' Matplotlib ,Plotly / Plotly Express ,Shiny ,Bokeh ',\n",
       "       ' Matplotlib ,Seaborn ,Plotly / Plotly Express ,Bokeh , Other',\n",
       "       ' Matplotlib ,Seaborn ,Plotly / Plotly Express ,Ggplot / ggplot2 ,Shiny ,Bokeh , Other',\n",
       "       'Seaborn ,Ggplot / ggplot2 ,Bokeh ',\n",
       "       'Seaborn ,Plotly / Plotly Express ,Ggplot / ggplot2 ,Shiny ,D3 js ,Leaflet / Folium ',\n",
       "       ' Matplotlib ,Plotly / Plotly Express ,Ggplot / ggplot2 ,Shiny ,Leaflet / Folium ',\n",
       "       ' Matplotlib ,Seaborn ,Geoplotlib , Other',\n",
       "       ' Matplotlib ,D3 js ,Bokeh ,Geoplotlib ',\n",
       "       'Bokeh ,Geoplotlib ,Leaflet / Folium ',\n",
       "       'Seaborn ,Plotly / Plotly Express ,Ggplot / ggplot2 ,Geoplotlib ,Leaflet / Folium ',\n",
       "       ' Matplotlib ,Plotly / Plotly Express ,Ggplot / ggplot2 ,Shiny ,Bokeh ,Leaflet / Folium ',\n",
       "       'Seaborn ,Plotly / Plotly Express ,D3 js ,Bokeh ',\n",
       "       'Seaborn ,D3 js ,Leaflet / Folium ',\n",
       "       ' Matplotlib ,Plotly / Plotly Express ,Ggplot / ggplot2 ,Shiny ,D3 js ,Bokeh ,Leaflet / Folium ',\n",
       "       ' Matplotlib ,Plotly / Plotly Express ,Altair ',\n",
       "       ' Matplotlib ,Seaborn ,Plotly / Plotly Express ,Ggplot / ggplot2 ,Shiny ,D3 js ,Bokeh ,Geoplotlib , Other',\n",
       "       ' Matplotlib ,Plotly / Plotly Express ,Ggplot / ggplot2 ,Shiny ,Bokeh ,Geoplotlib ',\n",
       "       ' Matplotlib ,Seaborn ,Plotly / Plotly Express ,Ggplot / ggplot2 ,D3 js , Other',\n",
       "       'Seaborn ,Plotly / Plotly Express ,Ggplot / ggplot2 ,Shiny , Other',\n",
       "       ' Matplotlib ,Seaborn ,Ggplot / ggplot2 ,Shiny ,D3 js ',\n",
       "       ' Matplotlib ,Plotly / Plotly Express ,Leaflet / Folium , Other',\n",
       "       ' Matplotlib ,Seaborn ,Shiny ,D3 js ',\n",
       "       ' Matplotlib ,Seaborn ,Plotly / Plotly Express ,Ggplot / ggplot2 ,D3 js ,Bokeh ,Geoplotlib ,Leaflet / Folium ',\n",
       "       ' Matplotlib ,Plotly / Plotly Express ,Altair , Other',\n",
       "       ' Matplotlib ,D3 js ,Bokeh ,Leaflet / Folium ',\n",
       "       'Seaborn ,Altair , Other',\n",
       "       ' Matplotlib ,Seaborn ,Plotly / Plotly Express ,Leaflet / Folium , Other',\n",
       "       ' Matplotlib ,Seaborn ,Plotly / Plotly Express ,Ggplot / ggplot2 ,D3 js ,Altair ,Geoplotlib ',\n",
       "       ' Matplotlib ,Seaborn ,Plotly / Plotly Express ,Ggplot / ggplot2 ,Shiny ,D3 js ,Bokeh ,Geoplotlib ',\n",
       "       ' Matplotlib ,Seaborn ,Shiny ,Bokeh ',\n",
       "       ' Matplotlib ,Seaborn ,Plotly / Plotly Express ,Ggplot / ggplot2 ,Shiny ,Geoplotlib , Other',\n",
       "       'Altair ,Geoplotlib ', 'D3 js ,Geoplotlib ',\n",
       "       'Ggplot / ggplot2 ,D3 js ,Bokeh ,Leaflet / Folium ',\n",
       "       ' Matplotlib ,Plotly / Plotly Express ,Shiny ,D3 js ',\n",
       "       ' Matplotlib ,Seaborn ,Ggplot / ggplot2 ,D3 js ,Altair ',\n",
       "       'Plotly / Plotly Express ,Ggplot / ggplot2 ,Shiny ,D3 js ,Geoplotlib ,Leaflet / Folium ',\n",
       "       'Plotly / Plotly Express ,Shiny ,Bokeh ',\n",
       "       ' Matplotlib ,Geoplotlib ,Leaflet / Folium , Other',\n",
       "       'Plotly / Plotly Express ,Bokeh ', 'Bokeh ,Leaflet / Folium ',\n",
       "       ' Matplotlib ,Seaborn ,Plotly / Plotly Express ,Shiny , Other',\n",
       "       ' Matplotlib ,Plotly / Plotly Express ,D3 js ,Altair ',\n",
       "       'Seaborn ,Bokeh , Other',\n",
       "       ' Matplotlib ,Seaborn ,Shiny ,Geoplotlib ',\n",
       "       'Seaborn ,Plotly / Plotly Express ,Altair ,Bokeh ',\n",
       "       'Seaborn ,Plotly / Plotly Express ,Altair ',\n",
       "       'Seaborn ,Shiny , Other',\n",
       "       ' Matplotlib ,Plotly / Plotly Express ,Ggplot / ggplot2 ,Geoplotlib , Other',\n",
       "       ' Matplotlib ,Ggplot / ggplot2 ,Shiny ,D3 js ,Bokeh ',\n",
       "       'Seaborn ,Ggplot / ggplot2 ,D3 js ',\n",
       "       'Seaborn ,D3 js ,Bokeh ,Geoplotlib ',\n",
       "       ' Matplotlib ,Seaborn ,Ggplot / ggplot2 ,Shiny ,Altair ,Bokeh ',\n",
       "       ' Matplotlib ,Seaborn ,Ggplot / ggplot2 ,Shiny ,Geoplotlib ,Leaflet / Folium ',\n",
       "       ' Matplotlib ,Seaborn ,Plotly / Plotly Express ,Altair ,Bokeh ,Geoplotlib ,Leaflet / Folium ',\n",
       "       'Geoplotlib ,Leaflet / Folium ',\n",
       "       ' Matplotlib ,Ggplot / ggplot2 ,Shiny ,D3 js ,Leaflet / Folium ',\n",
       "       ' Matplotlib ,Plotly / Plotly Express ,Ggplot / ggplot2 ,Shiny ,D3 js ,Geoplotlib ',\n",
       "       'Plotly / Plotly Express ,Ggplot / ggplot2 ,Altair ',\n",
       "       'Ggplot / ggplot2 ,Shiny ,D3 js ,Geoplotlib ',\n",
       "       ' Matplotlib ,Seaborn ,Altair ,Geoplotlib , Other',\n",
       "       ' Matplotlib ,Plotly / Plotly Express ,D3 js ,Bokeh ,Leaflet / Folium ',\n",
       "       'Seaborn ,Plotly / Plotly Express ,Ggplot / ggplot2 , Other',\n",
       "       'Seaborn ,Ggplot / ggplot2 , Other',\n",
       "       'Seaborn ,Plotly / Plotly Express ,Shiny ,D3 js ',\n",
       "       ' Matplotlib ,Seaborn ,Plotly / Plotly Express ,Ggplot / ggplot2 ,Shiny ,D3 js ,Altair ,Bokeh ,Geoplotlib ,Leaflet / Folium , Other',\n",
       "       ' Matplotlib ,Seaborn ,Shiny ,D3 js ,Geoplotlib ,Leaflet / Folium ',\n",
       "       ' Matplotlib ,Plotly / Plotly Express ,Bokeh ,Geoplotlib ',\n",
       "       ' Matplotlib ,Seaborn ,Plotly / Plotly Express ,Shiny ,Altair ,Leaflet / Folium ',\n",
       "       ' Matplotlib ,Seaborn ,Ggplot / ggplot2 ,D3 js ,Bokeh ,Geoplotlib ,Leaflet / Folium ',\n",
       "       ' Matplotlib ,Seaborn ,Plotly / Plotly Express ,Altair ,Geoplotlib ,Leaflet / Folium ',\n",
       "       'Plotly / Plotly Express ,D3 js ,Geoplotlib ',\n",
       "       'Ggplot / ggplot2 ,D3 js ,Altair , Other',\n",
       "       'Seaborn ,Plotly / Plotly Express ,Altair ,Bokeh ,Leaflet / Folium ',\n",
       "       ' Matplotlib ,Plotly / Plotly Express ,D3 js ,Bokeh ',\n",
       "       ' Matplotlib ,Seaborn ,Plotly / Plotly Express ,Ggplot / ggplot2 ,Altair ,Geoplotlib ,Leaflet / Folium ',\n",
       "       ' Matplotlib ,Plotly / Plotly Express ,D3 js ,Geoplotlib ,Leaflet / Folium ',\n",
       "       'Plotly / Plotly Express ,Shiny ,Leaflet / Folium ',\n",
       "       'Seaborn ,Plotly / Plotly Express ,Bokeh ,Geoplotlib ',\n",
       "       'Plotly / Plotly Express ,Ggplot / ggplot2 ,Shiny ,Leaflet / Folium , Other',\n",
       "       ' Matplotlib ,Seaborn ,Plotly / Plotly Express ,Ggplot / ggplot2 ,Altair ,Bokeh ,Leaflet / Folium ',\n",
       "       'Plotly / Plotly Express ,Ggplot / ggplot2 ,Shiny ,Geoplotlib ,Leaflet / Folium ',\n",
       "       ' Matplotlib ,Altair ,Geoplotlib ,Leaflet / Folium ',\n",
       "       ' Matplotlib ,Ggplot / ggplot2 ,Shiny ,Bokeh ',\n",
       "       'Seaborn ,Geoplotlib ,Leaflet / Folium ',\n",
       "       'Seaborn ,Plotly / Plotly Express ,Ggplot / ggplot2 ,D3 js ,Geoplotlib ',\n",
       "       'Seaborn ,Ggplot / ggplot2 ,Geoplotlib ',\n",
       "       ' Matplotlib ,Seaborn ,Plotly / Plotly Express ,D3 js ,Leaflet / Folium ',\n",
       "       'Shiny ,Geoplotlib ', 'Shiny ,Geoplotlib ,Leaflet / Folium ',\n",
       "       'Plotly / Plotly Express ,Shiny ,D3 js ,Leaflet / Folium ',\n",
       "       ' Matplotlib ,Shiny ,Geoplotlib ',\n",
       "       'D3 js ,Geoplotlib ,Leaflet / Folium ',\n",
       "       'Seaborn ,Shiny ,D3 js ,Bokeh ', 'Shiny ,Bokeh ',\n",
       "       'Seaborn ,Ggplot / ggplot2 ,Bokeh ,Geoplotlib ,Leaflet / Folium ',\n",
       "       'Ggplot / ggplot2 ,D3 js ,Bokeh ',\n",
       "       'Seaborn ,Ggplot / ggplot2 ,Bokeh ,Geoplotlib ',\n",
       "       ' Matplotlib ,Seaborn ,Plotly / Plotly Express ,Altair ,Leaflet / Folium ',\n",
       "       ' Matplotlib ,Ggplot / ggplot2 ,Shiny , Other',\n",
       "       ' Matplotlib ,Seaborn ,Plotly / Plotly Express ,Ggplot / ggplot2 ,Shiny ,D3 js ,Bokeh , Other',\n",
       "       ' Matplotlib ,Seaborn ,Plotly / Plotly Express ,Ggplot / ggplot2 ,D3 js ,Bokeh ,Geoplotlib ',\n",
       "       ' Matplotlib ,Seaborn ,Altair ,Bokeh ,Leaflet / Folium ',\n",
       "       ' Matplotlib ,Seaborn ,Altair ,Bokeh ,Geoplotlib ',\n",
       "       'Seaborn ,D3 js ,Geoplotlib ',\n",
       "       'Seaborn ,Ggplot / ggplot2 ,Bokeh ,Leaflet / Folium ',\n",
       "       'Seaborn ,Ggplot / ggplot2 ,Leaflet / Folium ',\n",
       "       'Plotly / Plotly Express ,Ggplot / ggplot2 ,Shiny ,Bokeh ',\n",
       "       ' Matplotlib ,Ggplot / ggplot2 ,Altair ,Geoplotlib ',\n",
       "       ' Matplotlib ,Seaborn ,Ggplot / ggplot2 ,Bokeh ,Leaflet / Folium ',\n",
       "       ' Matplotlib ,Seaborn ,Ggplot / ggplot2 ,Shiny , Other',\n",
       "       'Seaborn ,Ggplot / ggplot2 ,Shiny ,Geoplotlib ,Leaflet / Folium ',\n",
       "       ' Matplotlib ,Seaborn ,Plotly / Plotly Express ,D3 js ,Bokeh ,Geoplotlib ,Leaflet / Folium ',\n",
       "       'Ggplot / ggplot2 ,Geoplotlib , Other',\n",
       "       ' Matplotlib ,Seaborn ,Plotly / Plotly Express ,Ggplot / ggplot2 ,Shiny ,Altair ,Bokeh ,Leaflet / Folium ',\n",
       "       ' Matplotlib ,Plotly / Plotly Express ,Ggplot / ggplot2 ,D3 js ,Bokeh ',\n",
       "       ' Matplotlib ,Plotly / Plotly Express ,Ggplot / ggplot2 ,Bokeh ,Leaflet / Folium ',\n",
       "       'Plotly / Plotly Express ,Ggplot / ggplot2 ,Shiny ,D3 js ,Leaflet / Folium , Other',\n",
       "       ' Matplotlib ,Seaborn ,Plotly / Plotly Express ,D3 js ,Altair ,Bokeh ',\n",
       "       ' Matplotlib ,Ggplot / ggplot2 ,Bokeh ,Leaflet / Folium ',\n",
       "       ' Matplotlib ,Ggplot / ggplot2 ,Leaflet / Folium , Other',\n",
       "       ' Matplotlib ,Seaborn ,Plotly / Plotly Express ,Ggplot / ggplot2 ,Shiny ,D3 js ,Altair ,Bokeh ,Geoplotlib ',\n",
       "       'Shiny ,D3 js ,Bokeh ', ' Matplotlib ,Shiny , Other',\n",
       "       'Plotly / Plotly Express ,Ggplot / ggplot2 ,D3 js ,Altair ',\n",
       "       ' Matplotlib ,Plotly / Plotly Express ,Ggplot / ggplot2 ,Altair ,Geoplotlib ',\n",
       "       ' Matplotlib ,Seaborn ,Plotly / Plotly Express ,Ggplot / ggplot2 ,Shiny ,D3 js ,Altair ,Geoplotlib ,Leaflet / Folium ',\n",
       "       'Seaborn ,Plotly / Plotly Express ,Shiny ,Bokeh ,Geoplotlib ,Leaflet / Folium ',\n",
       "       ' Matplotlib ,Seaborn ,Ggplot / ggplot2 ,D3 js ,Altair ,Geoplotlib ,Leaflet / Folium , Other',\n",
       "       ' Matplotlib ,Seaborn ,Plotly / Plotly Express ,Shiny ,D3 js ,Geoplotlib ,Leaflet / Folium ',\n",
       "       ' Matplotlib ,Seaborn ,Plotly / Plotly Express ,D3 js ,Altair ,Leaflet / Folium ',\n",
       "       'Seaborn ,Altair ,Bokeh , Other',\n",
       "       ' Matplotlib ,Ggplot / ggplot2 ,Geoplotlib ,Leaflet / Folium ',\n",
       "       ' Matplotlib ,Seaborn ,Plotly / Plotly Express ,D3 js , Other',\n",
       "       'Seaborn ,Ggplot / ggplot2 ,Shiny ,D3 js ,Bokeh ,Geoplotlib ',\n",
       "       ' Matplotlib ,Seaborn ,Plotly / Plotly Express ,Shiny ,Altair ,Bokeh ',\n",
       "       ' Matplotlib ,Seaborn ,Shiny ,Bokeh ,Geoplotlib ',\n",
       "       'Ggplot / ggplot2 ,Leaflet / Folium , Other',\n",
       "       'Ggplot / ggplot2 ,D3 js , Other'], dtype=object)"
      ]
     },
     "execution_count": 112,
     "metadata": {},
     "output_type": "execute_result"
    }
   ],
   "source": [
    "df_txt[\"visualizacion\"].unique()"
   ]
  },
  {
   "cell_type": "code",
   "execution_count": 113,
   "metadata": {},
   "outputs": [
    {
     "data": {
      "text/plain": [
       "2003"
      ]
     },
     "execution_count": 113,
     "metadata": {},
     "output_type": "execute_result"
    }
   ],
   "source": [
    "df_txt[\"visualizacion\"].isnull().sum()"
   ]
  },
  {
   "attachments": {},
   "cell_type": "markdown",
   "metadata": {},
   "source": [
    "# 20. Columna 20"
   ]
  },
  {
   "cell_type": "code",
   "execution_count": 114,
   "metadata": {},
   "outputs": [
    {
     "data": {
      "text/plain": [
       " None                                                                                                                                                                                2297\n",
       "MySQL                                                                                                                                                                                 754\n",
       " PostgreSQL                                                                                                                                                                           288\n",
       " Microsoft SQL Server                                                                                                                                                                 287\n",
       "MySQL , SQLite                                                                                                                                                                        177\n",
       "                                                                                                                                                                                     ... \n",
       "MySQL , PostgreSQL , SQLite , Oracle Database , Snowflake , Microsoft SQL Server , Microsoft Azure SQL Database                                                                         1\n",
       "MySQL , Google Cloud BigTable , Google Cloud Spanner                                                                                                                                    1\n",
       "MySQL , PostgreSQL , Microsoft Azure SQL Database , Microsoft Azure Cosmos DB , Amazon Redshift , Amazon Aurora , Amazon DynamoDB , Google Cloud BigQuery , Google Cloud Spanner        1\n",
       "MySQL , Amazon Redshift , Amazon Aurora                                                                                                                                                 1\n",
       " PostgreSQL , SQLite , MongoDB , Microsoft SQL Server , Amazon Redshift                                                                                                                 1\n",
       "Name: big_products, Length: 1558, dtype: int64"
      ]
     },
     "execution_count": 114,
     "metadata": {},
     "output_type": "execute_result"
    }
   ],
   "source": [
    "df_txt[\"big_products\"].value_counts()"
   ]
  },
  {
   "cell_type": "code",
   "execution_count": 115,
   "metadata": {},
   "outputs": [
    {
     "data": {
      "text/plain": [
       "array([' PostgreSQL ', nan, 'MySQL , MongoDB ', ...,\n",
       "       ' MongoDB , Microsoft SQL Server , Amazon Redshift ',\n",
       "       'MySQL , SQLite , MongoDB , Google Cloud BigTable ',\n",
       "       ' PostgreSQL , SQLite , MongoDB , Microsoft SQL Server , Amazon Redshift '],\n",
       "      dtype=object)"
      ]
     },
     "execution_count": 115,
     "metadata": {},
     "output_type": "execute_result"
    }
   ],
   "source": [
    "df_txt[\"big_products\"].unique()"
   ]
  },
  {
   "cell_type": "code",
   "execution_count": 116,
   "metadata": {},
   "outputs": [
    {
     "data": {
      "text/plain": [
       "16489"
      ]
     },
     "execution_count": 116,
     "metadata": {},
     "output_type": "execute_result"
    }
   ],
   "source": [
    "df_txt[\"big_products\"].isnull().sum()"
   ]
  }
 ],
 "metadata": {
  "kernelspec": {
   "display_name": "base",
   "language": "python",
   "name": "python3"
  },
  "language_info": {
   "codemirror_mode": {
    "name": "ipython",
    "version": 3
   },
   "file_extension": ".py",
   "mimetype": "text/x-python",
   "name": "python",
   "nbconvert_exporter": "python",
   "pygments_lexer": "ipython3",
   "version": "3.9.7"
  },
  "orig_nbformat": 4,
  "vscode": {
   "interpreter": {
    "hash": "f8e782a3a92a384869fb83a8974812ed4d4d199ed3e8c8704ecd8a7536d7fad4"
   }
  }
 },
 "nbformat": 4,
 "nbformat_minor": 2
}
