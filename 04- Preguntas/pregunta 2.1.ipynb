{
 "cells": [
  {
   "cell_type": "code",
   "execution_count": 1,
   "metadata": {},
   "outputs": [],
   "source": [
    "import pandas as pd\n",
    "import re\n",
    "import seaborn as sns\n",
    "import numpy as np\n",
    "import matplotlib.pyplot as plt\n",
    "import sidetable "
   ]
  },
  {
   "cell_type": "code",
   "execution_count": 2,
   "metadata": {},
   "outputs": [
    {
     "data": {
      "text/html": [
       "<div>\n",
       "<style scoped>\n",
       "    .dataframe tbody tr th:only-of-type {\n",
       "        vertical-align: middle;\n",
       "    }\n",
       "\n",
       "    .dataframe tbody tr th {\n",
       "        vertical-align: top;\n",
       "    }\n",
       "\n",
       "    .dataframe thead th {\n",
       "        text-align: right;\n",
       "    }\n",
       "</style>\n",
       "<table border=\"1\" class=\"dataframe\">\n",
       "  <thead>\n",
       "    <tr style=\"text-align: right;\">\n",
       "      <th></th>\n",
       "      <th>q1_edad</th>\n",
       "      <th>q2_genero</th>\n",
       "      <th>q3_país</th>\n",
       "      <th>q4_educacion</th>\n",
       "      <th>q5_ocupacion</th>\n",
       "      <th>q6_exp_tech</th>\n",
       "      <th>q8_l_recomendado</th>\n",
       "      <th>q11_tipo_plataforma</th>\n",
       "      <th>q20_i_actual</th>\n",
       "      <th>q21_tamanio_cia</th>\n",
       "      <th>...</th>\n",
       "      <th>q42_part_3</th>\n",
       "      <th>q42_part_4</th>\n",
       "      <th>q42_part_5</th>\n",
       "      <th>q42_part_6</th>\n",
       "      <th>q42_part_7</th>\n",
       "      <th>q42_part_8</th>\n",
       "      <th>q42_part_9</th>\n",
       "      <th>q42_part_10</th>\n",
       "      <th>q42_part_11</th>\n",
       "      <th>q42_other</th>\n",
       "    </tr>\n",
       "  </thead>\n",
       "  <tbody>\n",
       "    <tr>\n",
       "      <th>0</th>\n",
       "      <td>50-54</td>\n",
       "      <td>Man</td>\n",
       "      <td>India</td>\n",
       "      <td>Bachelor’s degree</td>\n",
       "      <td>Other</td>\n",
       "      <td>5-10 years</td>\n",
       "      <td>Python</td>\n",
       "      <td>A laptop</td>\n",
       "      <td>Manufacturing/Fabrication</td>\n",
       "      <td>50-249 employees</td>\n",
       "      <td>...</td>\n",
       "      <td>NaN</td>\n",
       "      <td>Kaggle (notebooks, forums, etc)</td>\n",
       "      <td>NaN</td>\n",
       "      <td>YouTube (Kaggle YouTube, Cloud AI Adventures, ...</td>\n",
       "      <td>Podcasts (Chai Time Data Science, O’Reilly Dat...</td>\n",
       "      <td>Blogs (Towards Data Science, Analytics Vidhya,...</td>\n",
       "      <td>Journal Publications (peer-reviewed journals, ...</td>\n",
       "      <td>NaN</td>\n",
       "      <td>NaN</td>\n",
       "      <td>NaN</td>\n",
       "    </tr>\n",
       "    <tr>\n",
       "      <th>1</th>\n",
       "      <td>50-54</td>\n",
       "      <td>Man</td>\n",
       "      <td>Indonesia</td>\n",
       "      <td>Master’s degree</td>\n",
       "      <td>Program/Project Manager</td>\n",
       "      <td>20+ years</td>\n",
       "      <td>Python</td>\n",
       "      <td>A cloud computing platform (AWS, Azure, GCP, h...</td>\n",
       "      <td>Manufacturing/Fabrication</td>\n",
       "      <td>1000-9,999 employees</td>\n",
       "      <td>...</td>\n",
       "      <td>NaN</td>\n",
       "      <td>NaN</td>\n",
       "      <td>NaN</td>\n",
       "      <td>NaN</td>\n",
       "      <td>NaN</td>\n",
       "      <td>NaN</td>\n",
       "      <td>Journal Publications (peer-reviewed journals, ...</td>\n",
       "      <td>NaN</td>\n",
       "      <td>NaN</td>\n",
       "      <td>NaN</td>\n",
       "    </tr>\n",
       "  </tbody>\n",
       "</table>\n",
       "<p>2 rows × 89 columns</p>\n",
       "</div>"
      ],
      "text/plain": [
       "  q1_edad q2_genero    q3_país       q4_educacion             q5_ocupacion  \\\n",
       "0   50-54       Man      India  Bachelor’s degree                    Other   \n",
       "1   50-54       Man  Indonesia    Master’s degree  Program/Project Manager   \n",
       "\n",
       "  q6_exp_tech q8_l_recomendado  \\\n",
       "0  5-10 years           Python   \n",
       "1   20+ years           Python   \n",
       "\n",
       "                                 q11_tipo_plataforma  \\\n",
       "0                                           A laptop   \n",
       "1  A cloud computing platform (AWS, Azure, GCP, h...   \n",
       "\n",
       "                q20_i_actual       q21_tamanio_cia  ... q42_part_3  \\\n",
       "0  Manufacturing/Fabrication      50-249 employees  ...        NaN   \n",
       "1  Manufacturing/Fabrication  1000-9,999 employees  ...        NaN   \n",
       "\n",
       "                        q42_part_4 q42_part_5  \\\n",
       "0  Kaggle (notebooks, forums, etc)        NaN   \n",
       "1                              NaN        NaN   \n",
       "\n",
       "                                          q42_part_6  \\\n",
       "0  YouTube (Kaggle YouTube, Cloud AI Adventures, ...   \n",
       "1                                                NaN   \n",
       "\n",
       "                                          q42_part_7  \\\n",
       "0  Podcasts (Chai Time Data Science, O’Reilly Dat...   \n",
       "1                                                NaN   \n",
       "\n",
       "                                          q42_part_8  \\\n",
       "0  Blogs (Towards Data Science, Analytics Vidhya,...   \n",
       "1                                                NaN   \n",
       "\n",
       "                                          q42_part_9 q42_part_10 q42_part_11  \\\n",
       "0  Journal Publications (peer-reviewed journals, ...         NaN         NaN   \n",
       "1  Journal Publications (peer-reviewed journals, ...         NaN         NaN   \n",
       "\n",
       "  q42_other  \n",
       "0       NaN  \n",
       "1       NaN  \n",
       "\n",
       "[2 rows x 89 columns]"
      ]
     },
     "execution_count": 2,
     "metadata": {},
     "output_type": "execute_result"
    }
   ],
   "source": [
    "df = pd.read_csv(\"../data/6.dataframe_analisis.csv\", index_col = 0)\n",
    "\n",
    "# Se hace esto para resetear los índices\n",
    "df.reset_index(drop=True , inplace=True)\n",
    "df.head(2)"
   ]
  },
  {
   "cell_type": "code",
   "execution_count": 3,
   "metadata": {},
   "outputs": [],
   "source": [
    "lista_eliminar= ['q8_l_recomendado', 'q11_tipo_plataforma',\n",
    "       'q26_ppto_ml_cc', 'q33_bigdata_product', 'q35_h_i_negocios',\n",
    "       'q41_h_process_data', 'q7_l_utilizados', 'q9_adi', 'q14_h_viz',\n",
    "       'q10_part_1', 'q10_part_2', 'q10_part_3', 'q10_part_4', 'q10_part_5',\n",
    "       'q10_part_6', 'q10_part_7', 'q10_part_8', 'q10_part_9', 'q10_part_10',\n",
    "       'q10_part_11', 'q10_part_12', 'q10_part_13', 'q10_part_14',\n",
    "       'q10_part_15', 'q10_part_16', 'q10_other', 'q18_part_1', 'q18_part_2',\n",
    "       'q18_part_3', 'q18_part_4', 'q18_part_5', 'q18_part_6', 'q18_other',\n",
    "       'q27_a_part_1', 'q27_a_part_2', 'q27_a_part_3', 'q27_a_part_4',\n",
    "       'q27_a_part_5', 'q27_a_part_6', 'q27_a_part_7', 'q27_a_part_8',\n",
    "       'q27_a_part_9', 'q27_a_part_10', 'q27_a_part_11', 'q27_a_other',\n",
    "       'q39_part_1', 'q39_part_2', 'q39_part_3', 'q39_part_4', 'q39_part_5',\n",
    "       'q39_part_6', 'q39_part_7', 'q39_part_8', 'q39_part_9', 'q39_other',\n",
    "       'q40_part_1', 'q40_part_2', 'q40_part_3', 'q40_part_4', 'q40_part_5',\n",
    "       'q40_part_6', 'q40_part_7', 'q40_part_8', 'q40_part_9', 'q40_part_10',\n",
    "       'q40_part_11', 'q40_other', 'q42_part_1', 'q42_part_2', 'q42_part_3',\n",
    "       'q42_part_4', 'q42_part_5', 'q42_part_6', 'q42_part_7', 'q42_part_8',\n",
    "       'q42_part_9', 'q42_part_10', 'q42_part_11', 'q42_other']"
   ]
  },
  {
   "attachments": {},
   "cell_type": "markdown",
   "metadata": {},
   "source": [
    "-----"
   ]
  },
  {
   "attachments": {},
   "cell_type": "markdown",
   "metadata": {},
   "source": [
    "q20 - q22, q25\n",
    "\n",
    "Q20 = i_actual\n",
    "\n",
    "Q21 = e_tamanio\n",
    "\n",
    "Q22 = e_analistas\n",
    "\n",
    "Q24 = e_actividades\n",
    "\n",
    "Q25 = salario_actual\n",
    "\n",
    "df: ocupación = analistas de datos\n",
    "\n",
    "¿En que industrias hay mayor presencia de analistas de datos? q20 hue=género (Naty)"
   ]
  },
  {
   "cell_type": "code",
   "execution_count": 11,
   "metadata": {},
   "outputs": [
    {
     "data": {
      "text/html": [
       "<div>\n",
       "<style scoped>\n",
       "    .dataframe tbody tr th:only-of-type {\n",
       "        vertical-align: middle;\n",
       "    }\n",
       "\n",
       "    .dataframe tbody tr th {\n",
       "        vertical-align: top;\n",
       "    }\n",
       "\n",
       "    .dataframe thead th {\n",
       "        text-align: right;\n",
       "    }\n",
       "</style>\n",
       "<table border=\"1\" class=\"dataframe\">\n",
       "  <thead>\n",
       "    <tr style=\"text-align: right;\">\n",
       "      <th></th>\n",
       "      <th>q1_edad</th>\n",
       "      <th>q2_genero</th>\n",
       "      <th>q3_país</th>\n",
       "      <th>q4_educacion</th>\n",
       "      <th>q5_ocupacion</th>\n",
       "      <th>q6_exp_tech</th>\n",
       "      <th>q8_l_recomendado</th>\n",
       "      <th>q11_tipo_plataforma</th>\n",
       "      <th>q20_i_actual</th>\n",
       "      <th>q21_tamanio_cia</th>\n",
       "      <th>...</th>\n",
       "      <th>q42_part_3</th>\n",
       "      <th>q42_part_4</th>\n",
       "      <th>q42_part_5</th>\n",
       "      <th>q42_part_6</th>\n",
       "      <th>q42_part_7</th>\n",
       "      <th>q42_part_8</th>\n",
       "      <th>q42_part_9</th>\n",
       "      <th>q42_part_10</th>\n",
       "      <th>q42_part_11</th>\n",
       "      <th>q42_other</th>\n",
       "    </tr>\n",
       "  </thead>\n",
       "  <tbody>\n",
       "    <tr>\n",
       "      <th>0</th>\n",
       "      <td>50-54</td>\n",
       "      <td>Man</td>\n",
       "      <td>India</td>\n",
       "      <td>Bachelor’s degree</td>\n",
       "      <td>Other</td>\n",
       "      <td>5-10 years</td>\n",
       "      <td>Python</td>\n",
       "      <td>A laptop</td>\n",
       "      <td>Manufacturing/Fabrication</td>\n",
       "      <td>50-249 employees</td>\n",
       "      <td>...</td>\n",
       "      <td>NaN</td>\n",
       "      <td>Kaggle (notebooks, forums, etc)</td>\n",
       "      <td>NaN</td>\n",
       "      <td>YouTube (Kaggle YouTube, Cloud AI Adventures, ...</td>\n",
       "      <td>Podcasts (Chai Time Data Science, O’Reilly Dat...</td>\n",
       "      <td>Blogs (Towards Data Science, Analytics Vidhya,...</td>\n",
       "      <td>Journal Publications (peer-reviewed journals, ...</td>\n",
       "      <td>NaN</td>\n",
       "      <td>NaN</td>\n",
       "      <td>NaN</td>\n",
       "    </tr>\n",
       "  </tbody>\n",
       "</table>\n",
       "<p>1 rows × 89 columns</p>\n",
       "</div>"
      ],
      "text/plain": [
       "  q1_edad q2_genero q3_país       q4_educacion q5_ocupacion q6_exp_tech  \\\n",
       "0   50-54       Man   India  Bachelor’s degree        Other  5-10 years   \n",
       "\n",
       "  q8_l_recomendado q11_tipo_plataforma               q20_i_actual  \\\n",
       "0           Python            A laptop  Manufacturing/Fabrication   \n",
       "\n",
       "    q21_tamanio_cia  ... q42_part_3                       q42_part_4  \\\n",
       "0  50-249 employees  ...        NaN  Kaggle (notebooks, forums, etc)   \n",
       "\n",
       "  q42_part_5                                         q42_part_6  \\\n",
       "0        NaN  YouTube (Kaggle YouTube, Cloud AI Adventures, ...   \n",
       "\n",
       "                                          q42_part_7  \\\n",
       "0  Podcasts (Chai Time Data Science, O’Reilly Dat...   \n",
       "\n",
       "                                          q42_part_8  \\\n",
       "0  Blogs (Towards Data Science, Analytics Vidhya,...   \n",
       "\n",
       "                                          q42_part_9 q42_part_10 q42_part_11  \\\n",
       "0  Journal Publications (peer-reviewed journals, ...         NaN         NaN   \n",
       "\n",
       "  q42_other  \n",
       "0       NaN  \n",
       "\n",
       "[1 rows x 89 columns]"
      ]
     },
     "execution_count": 11,
     "metadata": {},
     "output_type": "execute_result"
    }
   ],
   "source": [
    "df.head(1)"
   ]
  },
  {
   "cell_type": "code",
   "execution_count": 12,
   "metadata": {},
   "outputs": [
    {
     "data": {
      "text/plain": [
       "array(['Other', 'Program/Project Manager', 'Software Engineer',\n",
       "       'Research Scientist', 'Currently not employed', 'Student',\n",
       "       'Data Scientist', 'Data Analyst', 'Machine Learning Engineer',\n",
       "       'Business Analyst', 'Data Engineer', 'Product Manager',\n",
       "       'Statistician', 'Developer Relations/Advocacy',\n",
       "       'DBA/Database Engineer'], dtype=object)"
      ]
     },
     "execution_count": 12,
     "metadata": {},
     "output_type": "execute_result"
    }
   ],
   "source": [
    "df['q5_ocupacion'].unique()"
   ]
  },
  {
   "cell_type": "code",
   "execution_count": 13,
   "metadata": {},
   "outputs": [],
   "source": [
    "df_analistas = df[df['q5_ocupacion'] == 'Data Analyst']"
   ]
  },
  {
   "cell_type": "code",
   "execution_count": 14,
   "metadata": {},
   "outputs": [
    {
     "data": {
      "text/plain": [
       "Index(['q1_edad', 'q2_genero', 'q3_país', 'q4_educacion', 'q5_ocupacion',\n",
       "       'q6_exp_tech', 'q8_l_recomendado', 'q11_tipo_plataforma',\n",
       "       'q20_i_actual', 'q21_tamanio_cia', 'q22_da_cia', 'q25_salario',\n",
       "       'q26_ppto_ml_cc', 'q33_bigdata_product', 'q35_h_i_negocios',\n",
       "       'q41_h_process_data', 'q7_l_utilizados', 'q9_adi', 'q14_h_viz',\n",
       "       'q10_part_1', 'q10_part_2', 'q10_part_3', 'q10_part_4', 'q10_part_5',\n",
       "       'q10_part_6', 'q10_part_7', 'q10_part_8', 'q10_part_9', 'q10_part_10',\n",
       "       'q10_part_11', 'q10_part_12', 'q10_part_13', 'q10_part_14',\n",
       "       'q10_part_15', 'q10_part_16', 'q10_other', 'q18_part_1', 'q18_part_2',\n",
       "       'q18_part_3', 'q18_part_4', 'q18_part_5', 'q18_part_6', 'q18_other',\n",
       "       'q27_a_part_1', 'q27_a_part_2', 'q27_a_part_3', 'q27_a_part_4',\n",
       "       'q27_a_part_5', 'q27_a_part_6', 'q27_a_part_7', 'q27_a_part_8',\n",
       "       'q27_a_part_9', 'q27_a_part_10', 'q27_a_part_11', 'q27_a_other',\n",
       "       'q39_part_1', 'q39_part_2', 'q39_part_3', 'q39_part_4', 'q39_part_5',\n",
       "       'q39_part_6', 'q39_part_7', 'q39_part_8', 'q39_part_9', 'q39_other',\n",
       "       'q40_part_1', 'q40_part_2', 'q40_part_3', 'q40_part_4', 'q40_part_5',\n",
       "       'q40_part_6', 'q40_part_7', 'q40_part_8', 'q40_part_9', 'q40_part_10',\n",
       "       'q40_part_11', 'q40_other', 'q42_part_1', 'q42_part_2', 'q42_part_3',\n",
       "       'q42_part_4', 'q42_part_5', 'q42_part_6', 'q42_part_7', 'q42_part_8',\n",
       "       'q42_part_9', 'q42_part_10', 'q42_part_11', 'q42_other'],\n",
       "      dtype='object')"
      ]
     },
     "execution_count": 14,
     "metadata": {},
     "output_type": "execute_result"
    }
   ],
   "source": [
    "df_analistas.columns"
   ]
  },
  {
   "cell_type": "code",
   "execution_count": 15,
   "metadata": {},
   "outputs": [],
   "source": [
    "eliminar_industria = [ 'q1_edad', 'q3_país', 'q4_educacion', 'q5_ocupacion',\n",
    "       'q6_exp_tech', 'q8_l_recomendado', 'q11_tipo_plataforma','q26_ppto_ml_cc', 'q33_bigdata_product', 'q35_h_i_negocios',\n",
    "       'q41_h_process_data', 'q7_l_utilizados', 'q9_adi', 'q14_h_viz',\n",
    "       'q10_part_1', 'q10_part_2', 'q10_part_3', 'q10_part_4', 'q10_part_5',\n",
    "       'q10_part_6', 'q10_part_7', 'q10_part_8', 'q10_part_9', 'q10_part_10',\n",
    "       'q10_part_11', 'q10_part_12', 'q10_part_13', 'q10_part_14',\n",
    "       'q10_part_15', 'q10_part_16', 'q10_other', 'q18_part_1', 'q18_part_2',\n",
    "       'q18_part_3', 'q18_part_4', 'q18_part_5', 'q18_part_6', 'q18_other',\n",
    "       'q27_a_part_1', 'q27_a_part_2', 'q27_a_part_3', 'q27_a_part_4',\n",
    "       'q27_a_part_5', 'q27_a_part_6', 'q27_a_part_7', 'q27_a_part_8',\n",
    "       'q27_a_part_9', 'q27_a_part_10', 'q27_a_part_11', 'q27_a_other',\n",
    "       'q39_part_1', 'q39_part_2', 'q39_part_3', 'q39_part_4', 'q39_part_5',\n",
    "       'q39_part_6', 'q39_part_7', 'q39_part_8', 'q39_part_9', 'q39_other',\n",
    "       'q40_part_1', 'q40_part_2', 'q40_part_3', 'q40_part_4', 'q40_part_5',\n",
    "       'q40_part_6', 'q40_part_7', 'q40_part_8', 'q40_part_9', 'q40_part_10',\n",
    "       'q40_part_11', 'q40_other', 'q42_part_1', 'q42_part_2', 'q42_part_3',\n",
    "       'q42_part_4', 'q42_part_5', 'q42_part_6', 'q42_part_7', 'q42_part_8',\n",
    "       'q42_part_9', 'q42_part_10', 'q42_part_11', 'q42_other']"
   ]
  },
  {
   "cell_type": "code",
   "execution_count": 16,
   "metadata": {},
   "outputs": [
    {
     "name": "stderr",
     "output_type": "stream",
     "text": [
      "/tmp/ipykernel_1153/2627596570.py:1: SettingWithCopyWarning: \n",
      "A value is trying to be set on a copy of a slice from a DataFrame\n",
      "\n",
      "See the caveats in the documentation: https://pandas.pydata.org/pandas-docs/stable/user_guide/indexing.html#returning-a-view-versus-a-copy\n",
      "  df_analistas.drop(columns = eliminar_industria, axis = 1, inplace = True)\n"
     ]
    }
   ],
   "source": [
    "df_analistas.drop(columns = eliminar_industria, axis = 1, inplace = True)"
   ]
  },
  {
   "cell_type": "code",
   "execution_count": 17,
   "metadata": {},
   "outputs": [
    {
     "name": "stderr",
     "output_type": "stream",
     "text": [
      "/tmp/ipykernel_1153/1654612015.py:1: SettingWithCopyWarning: \n",
      "A value is trying to be set on a copy of a slice from a DataFrame.\n",
      "Try using .loc[row_indexer,col_indexer] = value instead\n",
      "\n",
      "See the caveats in the documentation: https://pandas.pydata.org/pandas-docs/stable/user_guide/indexing.html#returning-a-view-versus-a-copy\n",
      "  df_analistas['genero_new'] = df_analistas['q2_genero'].replace({\n"
     ]
    }
   ],
   "source": [
    "df_analistas['genero_new'] = df_analistas['q2_genero'].replace({\n",
    "'Man': 'Man', \n",
    "'Woman': 'Woman', \n",
    "'Prefer to self-describe': 'Others', \n",
    "'Nonbinary': 'Others', \n",
    "'Prefer not to say': 'Others'}) \n",
    "\n"
   ]
  },
  {
   "cell_type": "code",
   "execution_count": 18,
   "metadata": {},
   "outputs": [
    {
     "data": {
      "text/html": [
       "<div>\n",
       "<style scoped>\n",
       "    .dataframe tbody tr th:only-of-type {\n",
       "        vertical-align: middle;\n",
       "    }\n",
       "\n",
       "    .dataframe tbody tr th {\n",
       "        vertical-align: top;\n",
       "    }\n",
       "\n",
       "    .dataframe thead th {\n",
       "        text-align: right;\n",
       "    }\n",
       "</style>\n",
       "<table border=\"1\" class=\"dataframe\">\n",
       "  <thead>\n",
       "    <tr style=\"text-align: right;\">\n",
       "      <th></th>\n",
       "      <th>q2_genero</th>\n",
       "      <th>q20_i_actual</th>\n",
       "      <th>q21_tamanio_cia</th>\n",
       "      <th>q22_da_cia</th>\n",
       "      <th>q25_salario</th>\n",
       "      <th>genero_new</th>\n",
       "    </tr>\n",
       "  </thead>\n",
       "  <tbody>\n",
       "    <tr>\n",
       "      <th>16</th>\n",
       "      <td>Man</td>\n",
       "      <td>Energy/Mining</td>\n",
       "      <td>1000-9,999 employees</td>\n",
       "      <td>5-9</td>\n",
       "      <td>2,000-2,999</td>\n",
       "      <td>Man</td>\n",
       "    </tr>\n",
       "  </tbody>\n",
       "</table>\n",
       "</div>"
      ],
      "text/plain": [
       "   q2_genero   q20_i_actual       q21_tamanio_cia q22_da_cia  q25_salario  \\\n",
       "16       Man  Energy/Mining  1000-9,999 employees        5-9  2,000-2,999   \n",
       "\n",
       "   genero_new  \n",
       "16        Man  "
      ]
     },
     "execution_count": 18,
     "metadata": {},
     "output_type": "execute_result"
    }
   ],
   "source": [
    "df_analistas.head(1)"
   ]
  },
  {
   "cell_type": "code",
   "execution_count": 19,
   "metadata": {},
   "outputs": [
    {
     "data": {
      "image/png": "[encoded data removed]",
      "text/plain": [
       "<Figure size 432x288 with 1 Axes>"
      ]
     },
     "metadata": {
      "needs_background": "light"
     },
     "output_type": "display_data"
    }
   ],
   "source": [
    "sns.countplot(data=df_top_5 , y= 'q20_i_actual');"
   ]
  },
  {
   "cell_type": "code",
   "execution_count": 26,
   "metadata": {},
   "outputs": [
    {
     "data": {
      "image/png": "[encoded data removed]",
      "text/plain": [
       "<Figure size 1080x720 with 1 Axes>"
      ]
     },
     "metadata": {
      "needs_background": "light"
     },
     "output_type": "display_data"
    }
   ],
   "source": [
    "plt.figure(figsize =(15,10))\n",
    "\n",
    "fig = sns.countplot(y='q20_i_actual', data = df_analistas, hue = 'genero_new')\n",
    "\n",
    "fig.set(ylabel='Industria', xlabel= 'Cuenta' )\n",
    "#plt.xticks(rotation = 45)\n",
    "\n",
    "fig.set_title('Cantidad Analistas de datos por industria y género');"
   ]
  },
  {
   "attachments": {},
   "cell_type": "markdown",
   "metadata": {},
   "source": [
    "#Enfocamos el analisis en industrias donde hay muchos analistas pero pocas mujeres?  \n",
    "\n",
    "\n",
    "\n",
    "- Como era de esperar, observamos que la industria en la que más analistas de datos hay es en computacion y tecnologia, y una vez más, son muchos más los hombres que las mujeres.\n",
    "\n",
    "- La segunda industria en la que más anallistas trabajan es la educación, lo cual para nosotras es una buena señal, ya que puede querer decir que hay muchas personas queriendo aprender sobre el sectord del Data. \n",
    "Son menos las mujeres que los hombres, por eso creemos importante enseñar muy bien a las alumnas de Adalab para que posteriormente puedan incluirse en el sector de la enseñanza o crear un bootcamp mas enfocado a formar mujeres con capacidad y vocación educativa que quieran redirigir su carrera profesional. (quizás cansadas de los menores o de las asignaturas que llevan impartiendo años.)\n",
    "\n",
    "- Observamos que la tercera industria con mas analistas es la financiera, donde el numero de mujeres es infímo. Quizás estas dos últimas opciones necesitan que las mujeres que se postulen a Adalab tengan algún conocimiento previo en el sector, o sería lo ideal, pero de nuevo creemos que una asignatura más enfocada a análisis númericos y economía podría ser un buen nicho de mercado para Adalab. \n",
    "\n",
    "- Aunque centramos nuestro análisis y propuestas son para industrias que tienen una alta cantidad de Analistas, hay una que tiene pocos pero en la que pensamos que esta aptitud es fundamental, cada día más, y que a día de hoy es una de las que menor numero de analistas tienen: Marketing y CRM. \n",
    "En esta no es que el número de hombres sea muy alto, pero las mujeres ni existen apenas. Por lo tanto, podría ser nuestro mejor nicho de mercado, ya que tendríamos menos competencia con varones a la hora de acceder a puestos, algo que lamentablemente a día de hoy seguiría siendo una ventaja para las mujeres. Es por ello que recomendaríamos e impulsaríamos a Adalab a realizar campañas de MK o acciones que se dirijan a esta industria, para encontrar mujeres que tengan conocimientos previos sobre esto y que al formarse en Data Analytics ocupen gran parte de los puestos que haya y puedan surgir de aquí a futuro. \n"
   ]
  },
  {
   "attachments": {},
   "cell_type": "markdown",
   "metadata": {},
   "source": [
    "-"
   ]
  }
 ],
 "metadata": {
  "kernelspec": {
   "display_name": "base",
   "language": "python",
   "name": "python3"
  },
  "language_info": {
   "codemirror_mode": {
    "name": "ipython",
    "version": 3
   },
   "file_extension": ".py",
   "mimetype": "text/x-python",
   "name": "python",
   "nbconvert_exporter": "python",
   "pygments_lexer": "ipython3",
   "version": "3.9.7 (default, Sep 16 2021, 13:09:58) \n[GCC 7.5.0]"
  },
  "orig_nbformat": 4,
  "vscode": {
   "interpreter": {
    "hash": "ebacf0c690606339d2819fda86ce84d5dc8f19bdafd30d1cf039ac39003e3ee9"
   }
  }
 },
 "nbformat": 4,
 "nbformat_minor": 2
}
