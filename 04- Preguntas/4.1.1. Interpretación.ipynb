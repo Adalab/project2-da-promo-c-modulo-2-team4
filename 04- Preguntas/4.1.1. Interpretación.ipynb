{
 "cells": [
  {
   "cell_type": "code",
   "execution_count": null,
   "metadata": {},
   "outputs": [],
   "source": []
  },
  {
   "attachments": {},
   "cell_type": "markdown",
   "metadata": {},
   "source": [
    "- Realizaremos un análisis sobre la presencia de las mujeres en los cinco países que más encuestados residen. \n",
    "\n",
    "- En general, podemos observar que la presencia de hombres en el mundo del Data Analitics es mayor que la de la mujer, si bien esta diferencia es menor en la India, que es uno de los países donde más registros obtenemos. \n",
    "Es por ello que el objetivo de Adalab de potenciar la inserción de la mujer en el sector tecnológico no podría ser más acertado, y debería continuar en esa direccioón. \n",
    "\n",
    "- En un principio, Adalab se dirige al mercado español, ya que ofrece cursos presenciales. Desde la pandemia y debido al sector al que se enfoca, los cursos se hacen de manera 100% Online, lo que abre las posibilidades a conseguir que mujeres de todo el mundo se propongan este cambio. \n",
    "En España en general, o bien tenemmos una muestra pequeña de los encuestados o bien hay pocas personas en este sector, de ambos sexos. Pero una vez más, hay más hombres que mujeres, y es algo que queremos seguir cambiando. \n",
    "Tradicionalmente es un país dónde la mujer ha tardado más en introducirse en el mercado laboral y este puede ser el punto de donde nace esta gran diferencia. \n",
    "Actualmente, hay leyes que luchan por la igualdad de sexos en puestos de responsabilidad, la igualdad de salarios y de condiciones laborales en general. Por esto debemos seguir en esta dirección y dedicar nuestros esfuerzos a que lass mujeres españolas realicen este cambio y se formen en Data Analitics. \n",
    "\n",
    "- Con los resultados de esta encuesta, observamos que la distancia entre hombres y mujeres en el sector tecnológico es muy amplia en casi todos los países. No obstante, pensamos que los países en los que se le da más importancia a este sector es donde deberíamos poner el foco. Estos son: India, Rusia, Nigeria, Egipto, China y Estados Unidos. \n",
    "\n",
    "- Destaca en número de personas que han contestado nuestra encuesta y que se encuentran en este sector la India, cosa que no debería sorprender, ya que proporcionalmente es el país con más población a nivel mundial. Seguramente se externaliza gran parte del trabajo debido a los bajos salarios que se ofrecen y es por ello que hay más personas dedicadas a este sector. \n",
    "Creemos que puede ser interesante formar a las mujeres de este país, y que de manera remota o viajando, consigan mejorar sus condiciones laborales y de vida. \n",
    "\n",
    "- El segundo país con mayor número de personas dedicadas al sector es EEUU, y este dato puede sorprender ya que el segundo país con más población a nivel mundial es China, un país que por otra parte está tecológicamente muy avanzado. \n",
    "Una vez más, en EEUU , la distancia entre hombres y mujeres dedicadas a este sector es enorme. Esto puede deberse a que en muchos estados miembros, los derechos de las mujeres a acceder a ciertos empleos o percibir salarios justos no están reconocidos. En general, sorprende ver que esta cultura sigua negándose a unirse a otros 187 países para ratificar la Convención de las Naciones Unidas sobre la Eliminación de Todas las Formas de Discriminación contra la Mujer, y nos da una idea del porqué de esta gran brecha. \n",
    "Una de las facilidades de este sector es el poder encontrar trabajo a nivel mundial, mas teniendo como idioma el Inglés, y pensamos que es otro buen mercado al que podríamos dirigir este bootcamp.  \n",
    "\n",
    "- Nigeria es conocido como \"el gigante de África\" debido a la gran población que tiene y su economía, pero también es conocida por estar bastante atrasada en cuanto al índice de desarrollo humano (indicador elaborado por las Naciones Unidas). Por ello es otro mercado en el que nos gustaría introducirnos, una vez más, para mejorar las condiciones de vida de lass mujeres de este país, que tradicionalmente ha seguido siendo bastante machista. \n",
    "\n",
    "\n",
    "- Nigeria pais con 43,31 de poblacion joven PIB\n",
    "- Rusia 66.495.134\t76.950.926\t145.558.000\n",
    "- EEUU H164.224.068\tM167.669.677 \n",
    "- Egipto 954.413 mujeres y 969.511 hombres egipto \n",
    "- Spain 23.236.999 hombres 24.195.806 mujeres \n",
    "- India La población masculina es el 51,96% bastante superior a la femenina, que es del 48,04%. 1,408 miles de millones \n",
    "- China 1,412 millones habitantes "
   ]
  }
 ],
 "metadata": {
  "kernelspec": {
   "display_name": "Python 3",
   "language": "python",
   "name": "python3"
  },
  "language_info": {
   "name": "python",
   "version": "3.6.9 (default, Jun 29 2022, 11:45:57) \n[GCC 8.4.0]"
  },
  "orig_nbformat": 4,
  "vscode": {
   "interpreter": {
    "hash": "31f2aee4e71d21fbe5cf8b01ff0e069b9275f58929596ceb00d14d90e3e16cd6"
   }
  }
 },
 "nbformat": 4,
 "nbformat_minor": 2
}
